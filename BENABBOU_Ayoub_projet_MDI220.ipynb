{
 "cells": [
  {
   "cell_type": "markdown",
   "metadata": {
    "id": "kUyWK0e_viu9"
   },
   "source": [
    "# MDI220\n",
    "# Statistics\n",
    "\n",
    "# Project"
   ]
  },
  {
   "cell_type": "markdown",
   "metadata": {
    "id": "2OvS6gOcvivI"
   },
   "source": [
    "This is the project for the course on statistics.\n",
    "\n",
    "You must fill this notebook and upload it on eCampus, **including figures**. Please make sure that it runs **without erros**.\n",
    "\n",
    "You can work in teams but the final notebook, including text and code, must be **yours**. Any copy-pasting across students is strictly forbidden.\n",
    "\n",
    "Please provide **concise answers** and **concise code**, with comments when appropriate."
   ]
  },
  {
   "cell_type": "markdown",
   "metadata": {
    "id": "5vpu3PervivL"
   },
   "source": [
    "## Your name: Ayoub Benabbou"
   ]
  },
  {
   "cell_type": "markdown",
   "metadata": {
    "id": "WGvE3hHTvivN"
   },
   "source": [
    "## Imports"
   ]
  },
  {
   "cell_type": "markdown",
   "metadata": {
    "id": "NTUi1ZbXvivP"
   },
   "source": [
    "Please do **not** import any other library."
   ]
  },
  {
   "cell_type": "code",
   "execution_count": 1,
   "metadata": {
    "id": "IqX3OpGEvivR"
   },
   "outputs": [
    {
     "name": "stderr",
     "output_type": "stream",
     "text": [
      "C:\\Users\\dell\\anaconda3\\lib\\site-packages\\pandas\\core\\computation\\expressions.py:20: UserWarning: Pandas requires version '2.7.3' or newer of 'numexpr' (version '2.7.1' currently installed).\n",
      "  from pandas.core.computation.check import NUMEXPR_INSTALLED\n"
     ]
    }
   ],
   "source": [
    "import numpy as np\n",
    "import pandas as pd\n",
    "import matplotlib.pyplot as plt\n",
    "pi =np.pi"
   ]
  },
  {
   "cell_type": "code",
   "execution_count": 2,
   "metadata": {
    "id": "fehCxwjVvivU"
   },
   "outputs": [],
   "source": [
    "from scipy.stats import norm, chi2, gaussian_kde, t"
   ]
  },
  {
   "cell_type": "code",
   "execution_count": 3,
   "metadata": {
    "id": "BmvotNdTvivV"
   },
   "outputs": [],
   "source": [
    "import seaborn as sns\n"
   ]
  },
  {
   "cell_type": "markdown",
   "metadata": {
    "id": "uyXicCuLvivW"
   },
   "source": [
    "## Data"
   ]
  },
  {
   "cell_type": "markdown",
   "metadata": {
    "id": "FZvF_NM4vivZ"
   },
   "source": [
    "We consider the **daily electric power consumption** (in MW) in France in the period 2013-2023. The dataset is available on **eCampus**.\n",
    "\n",
    "Detailed information on this dataset is available [here](https://www.data.gouv.fr/fr/datasets/consommation-quotidienne-brute-regionale/)."
   ]
  },
  {
   "cell_type": "code",
   "execution_count": 4,
   "metadata": {
    "id": "j9wTmIUbvivb"
   },
   "outputs": [
    {
     "ename": "FileNotFoundError",
     "evalue": "[Errno 2] No such file or directory: 'power_consumption.csv'",
     "output_type": "error",
     "traceback": [
      "\u001b[1;31m---------------------------------------------------------------------------\u001b[0m",
      "\u001b[1;31mFileNotFoundError\u001b[0m                         Traceback (most recent call last)",
      "\u001b[1;32m<ipython-input-4-d9a339cde346>\u001b[0m in \u001b[0;36m<module>\u001b[1;34m\u001b[0m\n\u001b[0;32m      1\u001b[0m \u001b[1;31m# do not modify this cell\u001b[0m\u001b[1;33m\u001b[0m\u001b[1;33m\u001b[0m\u001b[1;33m\u001b[0m\u001b[0m\n\u001b[0;32m      2\u001b[0m \u001b[0mfilename\u001b[0m \u001b[1;33m=\u001b[0m \u001b[1;34m'power_consumption.csv'\u001b[0m\u001b[1;33m\u001b[0m\u001b[1;33m\u001b[0m\u001b[0m\n\u001b[1;32m----> 3\u001b[1;33m \u001b[0mdf\u001b[0m \u001b[1;33m=\u001b[0m \u001b[0mpd\u001b[0m\u001b[1;33m.\u001b[0m\u001b[0mread_csv\u001b[0m\u001b[1;33m(\u001b[0m\u001b[0mfilename\u001b[0m\u001b[1;33m)\u001b[0m\u001b[1;33m\u001b[0m\u001b[1;33m\u001b[0m\u001b[0m\n\u001b[0m",
      "\u001b[1;32m~\\anaconda3\\lib\\site-packages\\pandas\\io\\parsers\\readers.py\u001b[0m in \u001b[0;36mread_csv\u001b[1;34m(filepath_or_buffer, sep, delimiter, header, names, index_col, usecols, dtype, engine, converters, true_values, false_values, skipinitialspace, skiprows, skipfooter, nrows, na_values, keep_default_na, na_filter, verbose, skip_blank_lines, parse_dates, infer_datetime_format, keep_date_col, date_parser, date_format, dayfirst, cache_dates, iterator, chunksize, compression, thousands, decimal, lineterminator, quotechar, quoting, doublequote, escapechar, comment, encoding, encoding_errors, dialect, on_bad_lines, delim_whitespace, low_memory, memory_map, float_precision, storage_options, dtype_backend)\u001b[0m\n\u001b[0;32m    910\u001b[0m     \u001b[0mkwds\u001b[0m\u001b[1;33m.\u001b[0m\u001b[0mupdate\u001b[0m\u001b[1;33m(\u001b[0m\u001b[0mkwds_defaults\u001b[0m\u001b[1;33m)\u001b[0m\u001b[1;33m\u001b[0m\u001b[1;33m\u001b[0m\u001b[0m\n\u001b[0;32m    911\u001b[0m \u001b[1;33m\u001b[0m\u001b[0m\n\u001b[1;32m--> 912\u001b[1;33m     \u001b[1;32mreturn\u001b[0m \u001b[0m_read\u001b[0m\u001b[1;33m(\u001b[0m\u001b[0mfilepath_or_buffer\u001b[0m\u001b[1;33m,\u001b[0m \u001b[0mkwds\u001b[0m\u001b[1;33m)\u001b[0m\u001b[1;33m\u001b[0m\u001b[1;33m\u001b[0m\u001b[0m\n\u001b[0m\u001b[0;32m    913\u001b[0m \u001b[1;33m\u001b[0m\u001b[0m\n\u001b[0;32m    914\u001b[0m \u001b[1;33m\u001b[0m\u001b[0m\n",
      "\u001b[1;32m~\\anaconda3\\lib\\site-packages\\pandas\\io\\parsers\\readers.py\u001b[0m in \u001b[0;36m_read\u001b[1;34m(filepath_or_buffer, kwds)\u001b[0m\n\u001b[0;32m    575\u001b[0m \u001b[1;33m\u001b[0m\u001b[0m\n\u001b[0;32m    576\u001b[0m     \u001b[1;31m# Create the parser.\u001b[0m\u001b[1;33m\u001b[0m\u001b[1;33m\u001b[0m\u001b[1;33m\u001b[0m\u001b[0m\n\u001b[1;32m--> 577\u001b[1;33m     \u001b[0mparser\u001b[0m \u001b[1;33m=\u001b[0m \u001b[0mTextFileReader\u001b[0m\u001b[1;33m(\u001b[0m\u001b[0mfilepath_or_buffer\u001b[0m\u001b[1;33m,\u001b[0m \u001b[1;33m**\u001b[0m\u001b[0mkwds\u001b[0m\u001b[1;33m)\u001b[0m\u001b[1;33m\u001b[0m\u001b[1;33m\u001b[0m\u001b[0m\n\u001b[0m\u001b[0;32m    578\u001b[0m \u001b[1;33m\u001b[0m\u001b[0m\n\u001b[0;32m    579\u001b[0m     \u001b[1;32mif\u001b[0m \u001b[0mchunksize\u001b[0m \u001b[1;32mor\u001b[0m \u001b[0miterator\u001b[0m\u001b[1;33m:\u001b[0m\u001b[1;33m\u001b[0m\u001b[1;33m\u001b[0m\u001b[0m\n",
      "\u001b[1;32m~\\anaconda3\\lib\\site-packages\\pandas\\io\\parsers\\readers.py\u001b[0m in \u001b[0;36m__init__\u001b[1;34m(self, f, engine, **kwds)\u001b[0m\n\u001b[0;32m   1405\u001b[0m \u001b[1;33m\u001b[0m\u001b[0m\n\u001b[0;32m   1406\u001b[0m         \u001b[0mself\u001b[0m\u001b[1;33m.\u001b[0m\u001b[0mhandles\u001b[0m\u001b[1;33m:\u001b[0m \u001b[0mIOHandles\u001b[0m \u001b[1;33m|\u001b[0m \u001b[1;32mNone\u001b[0m \u001b[1;33m=\u001b[0m \u001b[1;32mNone\u001b[0m\u001b[1;33m\u001b[0m\u001b[1;33m\u001b[0m\u001b[0m\n\u001b[1;32m-> 1407\u001b[1;33m         \u001b[0mself\u001b[0m\u001b[1;33m.\u001b[0m\u001b[0m_engine\u001b[0m \u001b[1;33m=\u001b[0m \u001b[0mself\u001b[0m\u001b[1;33m.\u001b[0m\u001b[0m_make_engine\u001b[0m\u001b[1;33m(\u001b[0m\u001b[0mf\u001b[0m\u001b[1;33m,\u001b[0m \u001b[0mself\u001b[0m\u001b[1;33m.\u001b[0m\u001b[0mengine\u001b[0m\u001b[1;33m)\u001b[0m\u001b[1;33m\u001b[0m\u001b[1;33m\u001b[0m\u001b[0m\n\u001b[0m\u001b[0;32m   1408\u001b[0m \u001b[1;33m\u001b[0m\u001b[0m\n\u001b[0;32m   1409\u001b[0m     \u001b[1;32mdef\u001b[0m \u001b[0mclose\u001b[0m\u001b[1;33m(\u001b[0m\u001b[0mself\u001b[0m\u001b[1;33m)\u001b[0m \u001b[1;33m->\u001b[0m \u001b[1;32mNone\u001b[0m\u001b[1;33m:\u001b[0m\u001b[1;33m\u001b[0m\u001b[1;33m\u001b[0m\u001b[0m\n",
      "\u001b[1;32m~\\anaconda3\\lib\\site-packages\\pandas\\io\\parsers\\readers.py\u001b[0m in \u001b[0;36m_make_engine\u001b[1;34m(self, f, engine)\u001b[0m\n\u001b[0;32m   1659\u001b[0m                 \u001b[1;32mif\u001b[0m \u001b[1;34m\"b\"\u001b[0m \u001b[1;32mnot\u001b[0m \u001b[1;32min\u001b[0m \u001b[0mmode\u001b[0m\u001b[1;33m:\u001b[0m\u001b[1;33m\u001b[0m\u001b[1;33m\u001b[0m\u001b[0m\n\u001b[0;32m   1660\u001b[0m                     \u001b[0mmode\u001b[0m \u001b[1;33m+=\u001b[0m \u001b[1;34m\"b\"\u001b[0m\u001b[1;33m\u001b[0m\u001b[1;33m\u001b[0m\u001b[0m\n\u001b[1;32m-> 1661\u001b[1;33m             self.handles = get_handle(\n\u001b[0m\u001b[0;32m   1662\u001b[0m                 \u001b[0mf\u001b[0m\u001b[1;33m,\u001b[0m\u001b[1;33m\u001b[0m\u001b[1;33m\u001b[0m\u001b[0m\n\u001b[0;32m   1663\u001b[0m                 \u001b[0mmode\u001b[0m\u001b[1;33m,\u001b[0m\u001b[1;33m\u001b[0m\u001b[1;33m\u001b[0m\u001b[0m\n",
      "\u001b[1;32m~\\anaconda3\\lib\\site-packages\\pandas\\io\\common.py\u001b[0m in \u001b[0;36mget_handle\u001b[1;34m(path_or_buf, mode, encoding, compression, memory_map, is_text, errors, storage_options)\u001b[0m\n\u001b[0;32m    857\u001b[0m         \u001b[1;32mif\u001b[0m \u001b[0mioargs\u001b[0m\u001b[1;33m.\u001b[0m\u001b[0mencoding\u001b[0m \u001b[1;32mand\u001b[0m \u001b[1;34m\"b\"\u001b[0m \u001b[1;32mnot\u001b[0m \u001b[1;32min\u001b[0m \u001b[0mioargs\u001b[0m\u001b[1;33m.\u001b[0m\u001b[0mmode\u001b[0m\u001b[1;33m:\u001b[0m\u001b[1;33m\u001b[0m\u001b[1;33m\u001b[0m\u001b[0m\n\u001b[0;32m    858\u001b[0m             \u001b[1;31m# Encoding\u001b[0m\u001b[1;33m\u001b[0m\u001b[1;33m\u001b[0m\u001b[1;33m\u001b[0m\u001b[0m\n\u001b[1;32m--> 859\u001b[1;33m             handle = open(\n\u001b[0m\u001b[0;32m    860\u001b[0m                 \u001b[0mhandle\u001b[0m\u001b[1;33m,\u001b[0m\u001b[1;33m\u001b[0m\u001b[1;33m\u001b[0m\u001b[0m\n\u001b[0;32m    861\u001b[0m                 \u001b[0mioargs\u001b[0m\u001b[1;33m.\u001b[0m\u001b[0mmode\u001b[0m\u001b[1;33m,\u001b[0m\u001b[1;33m\u001b[0m\u001b[1;33m\u001b[0m\u001b[0m\n",
      "\u001b[1;31mFileNotFoundError\u001b[0m: [Errno 2] No such file or directory: 'power_consumption.csv'"
     ]
    }
   ],
   "source": [
    "# do not modify this cell\n",
    "filename = 'power_consumption.csv'\n",
    "df = pd.read_csv(filename)"
   ]
  },
  {
   "cell_type": "code",
   "execution_count": null,
   "metadata": {
    "colab": {
     "base_uri": "https://localhost:8080/",
     "height": 206
    },
    "id": "34PMWFIMvivb",
    "outputId": "9651a467-c108-4e42-cc98-4bf3f63f61f7"
   },
   "outputs": [],
   "source": [
    "df.head()"
   ]
  },
  {
   "cell_type": "code",
   "execution_count": 179,
   "metadata": {
    "id": "KbWC45Igvivd"
   },
   "outputs": [],
   "source": [
    "regions = list(df.region.unique())"
   ]
  },
  {
   "cell_type": "code",
   "execution_count": 180,
   "metadata": {
    "colab": {
     "base_uri": "https://localhost:8080/"
    },
    "id": "1P-jxvHovivd",
    "outputId": "0e009c8d-ae61-4bb8-b95a-009fd58799e4"
   },
   "outputs": [
    {
     "data": {
      "text/plain": [
       "['Auvergne-Rhône-Alpes',\n",
       " 'Bourgogne-Franche-Comté',\n",
       " 'Bretagne',\n",
       " 'Centre-Val de Loire',\n",
       " 'Grand Est',\n",
       " 'Hauts-de-France',\n",
       " 'Normandie',\n",
       " 'Nouvelle-Aquitaine',\n",
       " 'Occitanie',\n",
       " 'Pays de la Loire',\n",
       " \"Provence-Alpes-Côte d'Azur\",\n",
       " 'Île-de-France']"
      ]
     },
     "execution_count": 180,
     "metadata": {},
     "output_type": "execute_result"
    }
   ],
   "source": [
    "regions"
   ]
  },
  {
   "cell_type": "code",
   "execution_count": 181,
   "metadata": {
    "colab": {
     "base_uri": "https://localhost:8080/",
     "height": 457
    },
    "id": "Fnn88JYvvive",
    "outputId": "4ca2241b-d143-470b-943c-b9f79bf0dbaa"
   },
   "outputs": [
    {
     "data": {
      "text/html": [
       "<div>\n",
       "<style scoped>\n",
       "    .dataframe tbody tr th:only-of-type {\n",
       "        vertical-align: middle;\n",
       "    }\n",
       "\n",
       "    .dataframe tbody tr th {\n",
       "        vertical-align: top;\n",
       "    }\n",
       "\n",
       "    .dataframe thead th {\n",
       "        text-align: right;\n",
       "    }\n",
       "</style>\n",
       "<table border=\"1\" class=\"dataframe\">\n",
       "  <thead>\n",
       "    <tr style=\"text-align: right;\">\n",
       "      <th></th>\n",
       "      <th>consumption</th>\n",
       "    </tr>\n",
       "    <tr>\n",
       "      <th>region</th>\n",
       "      <th></th>\n",
       "    </tr>\n",
       "  </thead>\n",
       "  <tbody>\n",
       "    <tr>\n",
       "      <th>Auvergne-Rhône-Alpes</th>\n",
       "      <td>7495</td>\n",
       "    </tr>\n",
       "    <tr>\n",
       "      <th>Bourgogne-Franche-Comté</th>\n",
       "      <td>2416</td>\n",
       "    </tr>\n",
       "    <tr>\n",
       "      <th>Bretagne</th>\n",
       "      <td>2546</td>\n",
       "    </tr>\n",
       "    <tr>\n",
       "      <th>Centre-Val de Loire</th>\n",
       "      <td>2139</td>\n",
       "    </tr>\n",
       "    <tr>\n",
       "      <th>Grand Est</th>\n",
       "      <td>5155</td>\n",
       "    </tr>\n",
       "    <tr>\n",
       "      <th>Hauts-de-France</th>\n",
       "      <td>5726</td>\n",
       "    </tr>\n",
       "    <tr>\n",
       "      <th>Normandie</th>\n",
       "      <td>3168</td>\n",
       "    </tr>\n",
       "    <tr>\n",
       "      <th>Nouvelle-Aquitaine</th>\n",
       "      <td>4925</td>\n",
       "    </tr>\n",
       "    <tr>\n",
       "      <th>Occitanie</th>\n",
       "      <td>4266</td>\n",
       "    </tr>\n",
       "    <tr>\n",
       "      <th>Pays de la Loire</th>\n",
       "      <td>3077</td>\n",
       "    </tr>\n",
       "    <tr>\n",
       "      <th>Provence-Alpes-Côte d'Azur</th>\n",
       "      <td>4656</td>\n",
       "    </tr>\n",
       "    <tr>\n",
       "      <th>Île-de-France</th>\n",
       "      <td>8008</td>\n",
       "    </tr>\n",
       "  </tbody>\n",
       "</table>\n",
       "</div>"
      ],
      "text/plain": [
       "                            consumption\n",
       "region                                 \n",
       "Auvergne-Rhône-Alpes               7495\n",
       "Bourgogne-Franche-Comté            2416\n",
       "Bretagne                           2546\n",
       "Centre-Val de Loire                2139\n",
       "Grand Est                          5155\n",
       "Hauts-de-France                    5726\n",
       "Normandie                          3168\n",
       "Nouvelle-Aquitaine                 4925\n",
       "Occitanie                          4266\n",
       "Pays de la Loire                   3077\n",
       "Provence-Alpes-Côte d'Azur         4656\n",
       "Île-de-France                      8008"
      ]
     },
     "execution_count": 181,
     "metadata": {},
     "output_type": "execute_result"
    }
   ],
   "source": [
    "# average consumption per region\n",
    "df[[\"region\", \"consumption\"]].groupby(\"region\").mean().astype(int)"
   ]
  },
  {
   "cell_type": "code",
   "execution_count": 182,
   "metadata": {
    "colab": {
     "base_uri": "https://localhost:8080/"
    },
    "id": "QxMh5qHIvive",
    "outputId": "1c80fc08-e577-4d05-d321-ccc8cb309a6f"
   },
   "outputs": [
    {
     "data": {
      "text/plain": [
       "consumption    53582\n",
       "dtype: int32"
      ]
     },
     "execution_count": 182,
     "metadata": {},
     "output_type": "execute_result"
    }
   ],
   "source": [
    "# average consumption in France (MW)\n",
    "df[[\"region\", \"consumption\"]].groupby(\"region\").mean().sum().astype(int)"
   ]
  },
  {
   "cell_type": "code",
   "execution_count": 183,
   "metadata": {
    "id": "RUnvI1NFvive"
   },
   "outputs": [],
   "source": [
    "# selection of a region\n",
    "region = \"Bretagne\"\n",
    "df_region = df[df.region == region]"
   ]
  },
  {
   "cell_type": "code",
   "execution_count": 184,
   "metadata": {
    "colab": {
     "base_uri": "https://localhost:8080/",
     "height": 424
    },
    "id": "NyG0N-Gfvive",
    "outputId": "71279133-15cc-446f-9359-0a8a74792286"
   },
   "outputs": [
    {
     "data": {
      "text/html": [
       "<div>\n",
       "<style scoped>\n",
       "    .dataframe tbody tr th:only-of-type {\n",
       "        vertical-align: middle;\n",
       "    }\n",
       "\n",
       "    .dataframe tbody tr th {\n",
       "        vertical-align: top;\n",
       "    }\n",
       "\n",
       "    .dataframe thead th {\n",
       "        text-align: right;\n",
       "    }\n",
       "</style>\n",
       "<table border=\"1\" class=\"dataframe\">\n",
       "  <thead>\n",
       "    <tr style=\"text-align: right;\">\n",
       "      <th></th>\n",
       "      <th>region</th>\n",
       "      <th>date</th>\n",
       "      <th>consumption</th>\n",
       "    </tr>\n",
       "  </thead>\n",
       "  <tbody>\n",
       "    <tr>\n",
       "      <th>7606</th>\n",
       "      <td>Bretagne</td>\n",
       "      <td>2013-01-01</td>\n",
       "      <td>2595</td>\n",
       "    </tr>\n",
       "    <tr>\n",
       "      <th>7607</th>\n",
       "      <td>Bretagne</td>\n",
       "      <td>2013-01-02</td>\n",
       "      <td>3195</td>\n",
       "    </tr>\n",
       "    <tr>\n",
       "      <th>7608</th>\n",
       "      <td>Bretagne</td>\n",
       "      <td>2013-01-03</td>\n",
       "      <td>3157</td>\n",
       "    </tr>\n",
       "    <tr>\n",
       "      <th>7609</th>\n",
       "      <td>Bretagne</td>\n",
       "      <td>2013-01-04</td>\n",
       "      <td>3142</td>\n",
       "    </tr>\n",
       "    <tr>\n",
       "      <th>7610</th>\n",
       "      <td>Bretagne</td>\n",
       "      <td>2013-01-05</td>\n",
       "      <td>2859</td>\n",
       "    </tr>\n",
       "    <tr>\n",
       "      <th>...</th>\n",
       "      <td>...</td>\n",
       "      <td>...</td>\n",
       "      <td>...</td>\n",
       "    </tr>\n",
       "    <tr>\n",
       "      <th>11404</th>\n",
       "      <td>Bretagne</td>\n",
       "      <td>2023-05-27</td>\n",
       "      <td>1761</td>\n",
       "    </tr>\n",
       "    <tr>\n",
       "      <th>11405</th>\n",
       "      <td>Bretagne</td>\n",
       "      <td>2023-05-28</td>\n",
       "      <td>1610</td>\n",
       "    </tr>\n",
       "    <tr>\n",
       "      <th>11406</th>\n",
       "      <td>Bretagne</td>\n",
       "      <td>2023-05-29</td>\n",
       "      <td>1677</td>\n",
       "    </tr>\n",
       "    <tr>\n",
       "      <th>11407</th>\n",
       "      <td>Bretagne</td>\n",
       "      <td>2023-05-30</td>\n",
       "      <td>2057</td>\n",
       "    </tr>\n",
       "    <tr>\n",
       "      <th>11408</th>\n",
       "      <td>Bretagne</td>\n",
       "      <td>2023-05-31</td>\n",
       "      <td>2106</td>\n",
       "    </tr>\n",
       "  </tbody>\n",
       "</table>\n",
       "<p>3803 rows × 3 columns</p>\n",
       "</div>"
      ],
      "text/plain": [
       "         region        date  consumption\n",
       "7606   Bretagne  2013-01-01         2595\n",
       "7607   Bretagne  2013-01-02         3195\n",
       "7608   Bretagne  2013-01-03         3157\n",
       "7609   Bretagne  2013-01-04         3142\n",
       "7610   Bretagne  2013-01-05         2859\n",
       "...         ...         ...          ...\n",
       "11404  Bretagne  2023-05-27         1761\n",
       "11405  Bretagne  2023-05-28         1610\n",
       "11406  Bretagne  2023-05-29         1677\n",
       "11407  Bretagne  2023-05-30         2057\n",
       "11408  Bretagne  2023-05-31         2106\n",
       "\n",
       "[3803 rows x 3 columns]"
      ]
     },
     "execution_count": 184,
     "metadata": {},
     "output_type": "execute_result"
    }
   ],
   "source": [
    "df_region"
   ]
  },
  {
   "cell_type": "code",
   "execution_count": 185,
   "metadata": {
    "colab": {
     "base_uri": "https://localhost:8080/",
     "height": 472
    },
    "id": "UhhjCwETvivf",
    "outputId": "a46479c8-253e-4096-f1cc-5d04cb32c3ae"
   },
   "outputs": [
    {
     "data": {
      "image/png": "[encoded data removed]",
      "text/plain": [
       "<Figure size 432x288 with 1 Axes>"
      ]
     },
     "metadata": {
      "needs_background": "light"
     },
     "output_type": "display_data"
    }
   ],
   "source": [
    "#\n",
    "sns.kdeplot(data=df_region, x=\"consumption\", label=\"Data\", color='blue', fill=True)\n",
    "plt.title(region)\n",
    "plt.xlabel(\"Consumption (MW)\")\n",
    "plt.legend()\n",
    "plt.show()"
   ]
  },
  {
   "cell_type": "markdown",
   "metadata": {
    "id": "arLIzntJvivf"
   },
   "source": [
    "## A. Parameter estimation"
   ]
  },
  {
   "cell_type": "markdown",
   "metadata": {
    "id": "fsYpeoJbvivg"
   },
   "source": [
    "In all the project, the daily power consumptions are assumed to be i.i.d., with a Gaussian distribution.\n",
    "\n",
    "We use the following estimators for the mean and the variance, given $n$ observations $x_1,\\ldots,x_n$:\n",
    "$$\n",
    "\\hat \\mu = \\frac 1 n \\sum_{i=1}^n x_i\\quad \\hat{\\sigma^2} = \\frac 1 {n-1}\\sum_{i=1}^n (x_i - \\hat \\mu)^2\n",
    "$$\n",
    "The corresponding estimate of the standard deviation is:\n",
    "$$\n",
    "\\hat \\sigma = \\sqrt{\\hat{\\sigma^2}}\n",
    "$$\n",
    "\n",
    "Consider the region Bretagne.\n",
    "\n",
    "1. Show that the estimators for the mean and the variance are unbiased."
   ]
  },
  {
   "cell_type": "markdown",
   "metadata": {
    "id": "pXX6qJvIvivg"
   },
   "source": [
    "Your answer:\n",
    "**Since the xi are iid they have the same mean, therefore:**\n",
    "$$\n",
    "\\mathbb{E}[\\hat \\mu]=\\frac 1 n \\sum_{i=1}^n \\mathbb{E}[X_i]=\\frac 1 n \\sum_{i=1}^n \\mu = \\mu\n",
    "$$\n",
    "\n",
    "**We can also caluclate the expectation of the vraiance:**\n",
    "$$\n",
    "\\mathbb{E}[\\quad\\hat{\\sigma^2}]= \\frac 1 {n-1} \\sum_{i=1}^n \\mathbb{E}[(x_i - \\hat \\mu)^2]=\\frac 1 {n-1} \\sum_{i=1}^n \\mathbb{E}[X_i^2 - 2X_i\\hat \\mu + \\hat \\mu^2]=\\frac 1 {n-1} \\sum_{i=1}^n (\\sigma^2 + \\mu^2 - 2\\frac {n-1} {n} \\mu^2 -2\\frac {\\mathbb{E}[X_i^2]} {n}+ \\mathbb{V}ar[\\hat \\mu]+  \\mathbb{E}[\\hat \\mu]^2) = \\frac1{n-1}\\sum_{i=1}^n(\\frac {n\\sigma^2 + n\\mu^2 - 2n\\mu^2+2\\mu^2-2\\sigma^2-2\\mu^2+\\sigma^2+n\\mu^2}{n})=\\frac1{n-1}\\sum_{i=1}^n\\frac{n-1}{n}\\sigma^2 = \\sigma^2\n",
    "$$"
   ]
  },
  {
   "cell_type": "markdown",
   "metadata": {
    "id": "0Tmg4EEYvivg"
   },
   "source": [
    "2. Give the values obtained for the mean and the standard deviation using these estimators.\n",
    "\n",
    "**We define functions that calculate the values of these estimators:**"
   ]
  },
  {
   "cell_type": "code",
   "execution_count": 186,
   "metadata": {
    "id": "aDxZrPNzvivi"
   },
   "outputs": [],
   "source": [
    "def mean_estim(region):\n",
    "    df_region = df[df.region == region]\n",
    "    consump=df_region[\"consumption\"]\n",
    "    consump_list = consump.tolist()\n",
    "    mean = 0\n",
    "    n = len(consump_list)\n",
    "    for i in range(n):\n",
    "        mean+=consump_list[i]\n",
    "    return mean/n\n",
    "def var_estim(region):\n",
    "    df_region = df[df.region == region]\n",
    "    consump=df_region[\"consumption\"]\n",
    "    consump_list = consump.tolist()\n",
    "    var = 0\n",
    "    mean = mean_estim(region)\n",
    "    n = len(consump_list)\n",
    "    for i in range(n):\n",
    "        var+=(consump_list[i]-mean)**2\n",
    "    return var/(n-1)\n",
    "\n",
    "def devi_estim(region):\n",
    "    return np.sqrt(var_estim(region))\n"
   ]
  },
  {
   "cell_type": "code",
   "execution_count": 187,
   "metadata": {
    "id": "OsrBDscMvivi"
   },
   "outputs": [],
   "source": [
    "region = \"Bretagne\""
   ]
  },
  {
   "cell_type": "code",
   "execution_count": 188,
   "metadata": {
    "id": "dWPyAPVEvivi"
   },
   "outputs": [
    {
     "name": "stdout",
     "output_type": "stream",
     "text": [
      "7606     2595\n",
      "7607     3195\n",
      "7608     3157\n",
      "7609     3142\n",
      "7610     2859\n",
      "         ... \n",
      "11404    1761\n",
      "11405    1610\n",
      "11406    1677\n",
      "11407    2057\n",
      "11408    2106\n",
      "Name: consumption, Length: 3803, dtype: int64\n"
     ]
    }
   ],
   "source": [
    "df_region = df[df.region == region]\n",
    "consump=df_region[\"consumption\"]\n",
    "print(consump)"
   ]
  },
  {
   "cell_type": "code",
   "execution_count": 189,
   "metadata": {
    "id": "4g9rolItvivj"
   },
   "outputs": [
    {
     "name": "stdout",
     "output_type": "stream",
     "text": [
      "the estimation of the mean is  2546.536155666579\n"
     ]
    }
   ],
   "source": [
    "print(\"the estimation of the mean is \",mean_estim(region))"
   ]
  },
  {
   "cell_type": "code",
   "execution_count": 190,
   "metadata": {
    "id": "62ObONKovivk"
   },
   "outputs": [
    {
     "name": "stdout",
     "output_type": "stream",
     "text": [
      "the estimation of the variance is  365956.01414481626\n"
     ]
    }
   ],
   "source": [
    "print(\"the estimation of the variance is \",var_estim(region))"
   ]
  },
  {
   "cell_type": "code",
   "execution_count": 191,
   "metadata": {
    "id": "cKEKdjTYvivk"
   },
   "outputs": [
    {
     "name": "stdout",
     "output_type": "stream",
     "text": [
      "the estimation of the deviation is  604.9429842099305\n"
     ]
    }
   ],
   "source": [
    "print(\"the estimation of the deviation is \",devi_estim(region))"
   ]
  },
  {
   "cell_type": "markdown",
   "metadata": {
    "id": "zBu8NRQGvivq"
   },
   "source": [
    "3. Generate new data using the corresponding Gaussian model, with the same number of samples."
   ]
  },
  {
   "cell_type": "code",
   "execution_count": 192,
   "metadata": {
    "id": "jSjQ82xivivq"
   },
   "outputs": [],
   "source": [
    "mean = 2546\n",
    "std_dev = 605\n",
    "num_samples = 3803\n",
    "gen_data = np.random.normal(mean, std_dev, num_samples)\n",
    "\n"
   ]
  },
  {
   "cell_type": "code",
   "execution_count": 193,
   "metadata": {},
   "outputs": [
    {
     "data": {
      "text/plain": [
       "3803"
      ]
     },
     "execution_count": 193,
     "metadata": {},
     "output_type": "execute_result"
    }
   ],
   "source": [
    "len(gen_data)"
   ]
  },
  {
   "cell_type": "markdown",
   "metadata": {
    "id": "ZCGD2ykTvivq"
   },
   "source": [
    "4. Plot the *kde* (kernel density estimate) of real data and the *kde* of generated data on the same figure."
   ]
  },
  {
   "cell_type": "code",
   "execution_count": 194,
   "metadata": {
    "id": "2r0KLpnDvivr"
   },
   "outputs": [
    {
     "data": {
      "image/png": "[encoded data removed]",
      "text/plain": [
       "<Figure size 432x288 with 1 Axes>"
      ]
     },
     "metadata": {
      "needs_background": "light"
     },
     "output_type": "display_data"
    }
   ],
   "source": [
    "sns.kdeplot(data=gen_data, color='blue', fill=True)\n",
    "sns.kdeplot(data=df_region, x=\"consumption\", label=\"Data\", color='red', fill=True)\n",
    "plt.title(region)\n",
    "plt.xlabel(\"Consumption (MW)\")\n",
    "plt.legend()\n",
    "plt.show()\n"
   ]
  },
  {
   "cell_type": "markdown",
   "metadata": {
    "id": "9brCGJdLvivs"
   },
   "source": [
    "5. Do the same for the days corresponding to winter (from December 22 to March 21), after updating the model."
   ]
  },
  {
   "cell_type": "code",
   "execution_count": 195,
   "metadata": {
    "id": "i_P65Sscvivs"
   },
   "outputs": [
    {
     "name": "stderr",
     "output_type": "stream",
     "text": [
      "<ipython-input-195-80bbce930cea>:8: UserWarning: Boolean Series key will be reindexed to match DataFrame index.\n",
      "  winter_data= df_region[mask]\n"
     ]
    }
   ],
   "source": [
    "df['date'] = pd.to_datetime(df['date'])\n",
    "mask = ((df['date'].dt.month == 12) & (df['date'].dt.day >= 22)) | \\\n",
    "       ((df['date'].dt.month==1) | (df['date'].dt.month==2)) | \\\n",
    "       ((df['date'].dt.month == 3) & (df['date'].dt.day <= 21))\n",
    "\n",
    "\n",
    "\n",
    "winter_data= df_region[mask]\n",
    "\n",
    "\n",
    "\n",
    "\n",
    "\n"
   ]
  },
  {
   "cell_type": "code",
   "execution_count": 196,
   "metadata": {
    "id": "dDOEQ6AC-SZF"
   },
   "outputs": [],
   "source": [
    "def winter_mean_estim(region):\n",
    "    df_region = df[df.region == region]\n",
    "    winter_data= df_region[mask]\n",
    "    consump=winter_data[\"consumption\"]\n",
    "    consump_list = consump.tolist()\n",
    "    mean = 0\n",
    "    n = len(consump_list)\n",
    "    for i in range(n):\n",
    "        mean+=consump_list[i]\n",
    "    return mean/n\n",
    "def winter_var_estim(region):\n",
    "    df_region = df[df.region == region]\n",
    "    winter_data= df_region[mask]\n",
    "    consump=winter_data[\"consumption\"]\n",
    "    consump_list = consump.tolist()\n",
    "    var = 0\n",
    "    mean = winter_mean_estim(region)\n",
    "    n = len(consump_list)\n",
    "    for i in range(n):\n",
    "        var+=(consump_list[i]-mean)**2\n",
    "    return var/(n-1)\n",
    "def winter_devi_estim(region):\n",
    "    return np.sqrt(winter_var_estim(region))\n",
    "\n"
   ]
  },
  {
   "cell_type": "code",
   "execution_count": 197,
   "metadata": {},
   "outputs": [],
   "source": [
    "def winter_2023_mean_estim(region):\n",
    "    df_region = df[df.region == region]\n",
    "    winter_data= df_region[mask]\n",
    "    mask_2023 = (winter_data['date'].dt.year == 2023)\n",
    "    winter_data_2023 =winter_data[mask_2023]\n",
    "    consump_2023=winter_data_2023[\"consumption\"]\n",
    "    consump_2023_list = consump_2023.tolist()\n",
    "    mean = 0\n",
    "    n = len(consump_2023_list)\n",
    "    for i in range(n):\n",
    "        mean+=consump_list[i]\n",
    "    return mean/n\n",
    "def winter_2023_var_estim(region):\n",
    "    df_region = df[df.region == region]\n",
    "    winter_data= df_region[mask]\n",
    "    mask_2023 = (winter_data['date'].dt.year == 2023)\n",
    "    winter_data_2023 =winter_data[mask_2023]\n",
    "    consump_2023=winter_data_2023[\"consumption\"]\n",
    "    consump_2023_list = consump_2023.tolist()\n",
    "    var = 0\n",
    "    mean = winter_2023_mean_estim(region)\n",
    "    n = len(consump_2023_list)\n",
    "    for i in range(n):\n",
    "        var+=(consump_list[i]-mean)**2\n",
    "    return var/(n-1)\n",
    "def winter_2023_devi_estim(region):\n",
    "    return np.sqrt(winter_2023_var_estim(region))"
   ]
  },
  {
   "cell_type": "code",
   "execution_count": 198,
   "metadata": {
    "id": "409v94ZQC9f7"
   },
   "outputs": [
    {
     "data": {
      "text/html": [
       "<div>\n",
       "<style scoped>\n",
       "    .dataframe tbody tr th:only-of-type {\n",
       "        vertical-align: middle;\n",
       "    }\n",
       "\n",
       "    .dataframe tbody tr th {\n",
       "        vertical-align: top;\n",
       "    }\n",
       "\n",
       "    .dataframe thead th {\n",
       "        text-align: right;\n",
       "    }\n",
       "</style>\n",
       "<table border=\"1\" class=\"dataframe\">\n",
       "  <thead>\n",
       "    <tr style=\"text-align: right;\">\n",
       "      <th></th>\n",
       "      <th>region</th>\n",
       "      <th>date</th>\n",
       "      <th>consumption</th>\n",
       "    </tr>\n",
       "  </thead>\n",
       "  <tbody>\n",
       "    <tr>\n",
       "      <th>7606</th>\n",
       "      <td>Bretagne</td>\n",
       "      <td>2013-01-01</td>\n",
       "      <td>2595</td>\n",
       "    </tr>\n",
       "    <tr>\n",
       "      <th>7607</th>\n",
       "      <td>Bretagne</td>\n",
       "      <td>2013-01-02</td>\n",
       "      <td>3195</td>\n",
       "    </tr>\n",
       "    <tr>\n",
       "      <th>7608</th>\n",
       "      <td>Bretagne</td>\n",
       "      <td>2013-01-03</td>\n",
       "      <td>3157</td>\n",
       "    </tr>\n",
       "    <tr>\n",
       "      <th>7609</th>\n",
       "      <td>Bretagne</td>\n",
       "      <td>2013-01-04</td>\n",
       "      <td>3142</td>\n",
       "    </tr>\n",
       "    <tr>\n",
       "      <th>7610</th>\n",
       "      <td>Bretagne</td>\n",
       "      <td>2013-01-05</td>\n",
       "      <td>2859</td>\n",
       "    </tr>\n",
       "    <tr>\n",
       "      <th>...</th>\n",
       "      <td>...</td>\n",
       "      <td>...</td>\n",
       "      <td>...</td>\n",
       "    </tr>\n",
       "    <tr>\n",
       "      <th>11333</th>\n",
       "      <td>Bretagne</td>\n",
       "      <td>2023-03-17</td>\n",
       "      <td>2609</td>\n",
       "    </tr>\n",
       "    <tr>\n",
       "      <th>11334</th>\n",
       "      <td>Bretagne</td>\n",
       "      <td>2023-03-18</td>\n",
       "      <td>2309</td>\n",
       "    </tr>\n",
       "    <tr>\n",
       "      <th>11335</th>\n",
       "      <td>Bretagne</td>\n",
       "      <td>2023-03-19</td>\n",
       "      <td>2206</td>\n",
       "    </tr>\n",
       "    <tr>\n",
       "      <th>11336</th>\n",
       "      <td>Bretagne</td>\n",
       "      <td>2023-03-20</td>\n",
       "      <td>2672</td>\n",
       "    </tr>\n",
       "    <tr>\n",
       "      <th>11337</th>\n",
       "      <td>Bretagne</td>\n",
       "      <td>2023-03-21</td>\n",
       "      <td>2618</td>\n",
       "    </tr>\n",
       "  </tbody>\n",
       "</table>\n",
       "<p>982 rows × 3 columns</p>\n",
       "</div>"
      ],
      "text/plain": [
       "         region        date  consumption\n",
       "7606   Bretagne  2013-01-01         2595\n",
       "7607   Bretagne  2013-01-02         3195\n",
       "7608   Bretagne  2013-01-03         3157\n",
       "7609   Bretagne  2013-01-04         3142\n",
       "7610   Bretagne  2013-01-05         2859\n",
       "...         ...         ...          ...\n",
       "11333  Bretagne  2023-03-17         2609\n",
       "11334  Bretagne  2023-03-18         2309\n",
       "11335  Bretagne  2023-03-19         2206\n",
       "11336  Bretagne  2023-03-20         2672\n",
       "11337  Bretagne  2023-03-21         2618\n",
       "\n",
       "[982 rows x 3 columns]"
      ]
     },
     "execution_count": 198,
     "metadata": {},
     "output_type": "execute_result"
    }
   ],
   "source": [
    "winter_data"
   ]
  },
  {
   "cell_type": "code",
   "execution_count": 199,
   "metadata": {},
   "outputs": [
    {
     "name": "stdout",
     "output_type": "stream",
     "text": [
      "the estimation of the mean in winter is  3214.1782077393077\n"
     ]
    },
    {
     "name": "stderr",
     "output_type": "stream",
     "text": [
      "<ipython-input-196-3fd599348a34>:3: UserWarning: Boolean Series key will be reindexed to match DataFrame index.\n",
      "  winter_data= df_region[mask]\n"
     ]
    }
   ],
   "source": [
    "print(\"the estimation of the mean in winter is \",winter_mean_estim(region))"
   ]
  },
  {
   "cell_type": "code",
   "execution_count": 200,
   "metadata": {},
   "outputs": [
    {
     "name": "stdout",
     "output_type": "stream",
     "text": [
      "the estimation of the variance in winter is  167670.9009313411\n"
     ]
    },
    {
     "name": "stderr",
     "output_type": "stream",
     "text": [
      "<ipython-input-196-3fd599348a34>:13: UserWarning: Boolean Series key will be reindexed to match DataFrame index.\n",
      "  winter_data= df_region[mask]\n",
      "<ipython-input-196-3fd599348a34>:3: UserWarning: Boolean Series key will be reindexed to match DataFrame index.\n",
      "  winter_data= df_region[mask]\n"
     ]
    }
   ],
   "source": [
    "print(\"the estimation of the variance in winter is \",winter_var_estim(region))"
   ]
  },
  {
   "cell_type": "code",
   "execution_count": 201,
   "metadata": {
    "id": "4qGgzIkLBTF_"
   },
   "outputs": [
    {
     "name": "stderr",
     "output_type": "stream",
     "text": [
      "<ipython-input-196-3fd599348a34>:3: UserWarning: Boolean Series key will be reindexed to match DataFrame index.\n",
      "  winter_data= df_region[mask]\n",
      "<ipython-input-196-3fd599348a34>:13: UserWarning: Boolean Series key will be reindexed to match DataFrame index.\n",
      "  winter_data= df_region[mask]\n",
      "<ipython-input-196-3fd599348a34>:3: UserWarning: Boolean Series key will be reindexed to match DataFrame index.\n",
      "  winter_data= df_region[mask]\n"
     ]
    }
   ],
   "source": [
    "mean = winter_mean_estim(region)\n",
    "std_dev = winter_devi_estim(region)\n",
    "num_samples = 982\n",
    "winter_gen_data = np.random.normal(mean, std_dev, num_samples)"
   ]
  },
  {
   "cell_type": "code",
   "execution_count": 202,
   "metadata": {
    "id": "qJ5uRC7lBJ4f"
   },
   "outputs": [
    {
     "data": {
      "image/png": "[encoded data removed]",
      "text/plain": [
       "<Figure size 432x288 with 1 Axes>"
      ]
     },
     "metadata": {
      "needs_background": "light"
     },
     "output_type": "display_data"
    }
   ],
   "source": [
    "sns.kdeplot(data=winter_data, x=\"consumption\", label=\"Data\", color='red', fill=True)\n",
    "sns.kdeplot(data=winter_gen_data,label=\"GenData\", color='blue', fill=True)\n",
    "\n",
    "plt.xlabel(\"Consumption (MW)\")\n",
    "plt.legend()\n",
    "plt.show()\n"
   ]
  },
  {
   "cell_type": "markdown",
   "metadata": {
    "id": "dsN_Xptmvivs"
   },
   "source": [
    "6. In which case the Gaussian model seems more appropriate?"
   ]
  },
  {
   "cell_type": "markdown",
   "metadata": {
    "id": "czPYzJWk-UbH"
   },
   "source": [
    "**The second curve fits better to a gaussian distribution\n",
    "The gaussian model is more appropriate in the winter conumption**"
   ]
  },
  {
   "cell_type": "markdown",
   "metadata": {
    "id": "UFV0CqHmvivt"
   },
   "source": [
    "## B. Goodness of fit"
   ]
  },
  {
   "cell_type": "markdown",
   "metadata": {
    "id": "zgfQwhpGvivt"
   },
   "source": [
    "We would like to confirm and quantify the observation of part A.\n",
    "\n",
    "We propose the following metric to measure the dissimilarity between two pdf $f$ and $g$ (with respect to the Lebesgue measure):\n",
    "$$\n",
    "d(f, g) = \\frac 1 2 \\int |f(x) - g(x)| \\mathrm dx.\n",
    "$$"
   ]
  },
  {
   "cell_type": "markdown",
   "metadata": {
    "id": "AoD3vFsmvivt"
   },
   "source": [
    "1. Show that $d(f,g) \\in [0,1]$, with $d(f,g)=0$ if and only if $f=g$ almost everywhere (for the Lebesgue measure) and $d(f,g)=1$ if and only if $f$ and $g$ have disjoint supports."
   ]
  },
  {
   "cell_type": "markdown",
   "metadata": {
    "id": "PdXuxn2Ivivu"
   },
   "source": [
    "Your answser:\n",
    "\n",
    "**Since f and g are pdf, we have $\\int f = \\int g=1$, so $\\int |f - g|<=\\int |f| + |g|<=2$ therfore $d(f,g)<=\\frac 1 2 2=1$. $d(f,g)$ is clearly positive**\n",
    "\n"
   ]
  },
  {
   "cell_type": "markdown",
   "metadata": {
    "id": "9L9i7wxPMqnD"
   },
   "source": [
    "**$d(f,g) = 0 \\iff \\int |f(x) - g(x)| \\mathrm dx=0 \\iff |f - g|=0$ a.e $ \\iff f=g$ a.e. since $|f - g|$ is poisitive.**"
   ]
  },
  {
   "cell_type": "markdown",
   "metadata": {
    "id": "3U5V7EHGQl_6"
   },
   "source": [
    "\n",
    "**If we write $A=supp(f)\\cap\\ supp(g)$ then $\\int |f - g|=\\int_A |f-g| +\\int_{A^C} f + \\int_{A^C} g = \\int_A |f-g| + 2 - \\int_A f - \\int_A g  $, if we suppose A is not empty, then since f and g are positive strictly on A, $\\int_A |f-g| - \\int_A f - \\int_A g <0 $ then $d(f,g)=1 \\iff \\int |f(x) - g(x)| \\mathrm dx=2 \\iff \\int_A |f-g| - \\int_A f - \\int_A g =0 \\iff$ A is empty $\\iff$ f and g have disjoint supports**"
   ]
  },
  {
   "cell_type": "markdown",
   "metadata": {
    "id": "bMHUOc6evivu"
   },
   "source": [
    "2. For the region Bretagne, compute the dissimilarity between the *kde* of real data and the density of the Gaussian model."
   ]
  },
  {
   "cell_type": "code",
   "execution_count": 203,
   "metadata": {},
   "outputs": [],
   "source": [
    "def dissimilarity(X,X_prim):\n",
    "    F= gaussian_kde(X)\n",
    "    G=gaussian_kde(X_prim)\n",
    "    m=min(min(X),min(X_prim))\n",
    "    M=max(max(X),max(X_prim))\n",
    "    x_values = np.arange(m,M,1000)\n",
    "    \n",
    "    F_values = F.evaluate(x_values)\n",
    "    G_values = G.evaluate(x_values)\n",
    "    difference = np.abs(F_values - G_values)\n",
    "    d=np.trapz(difference, x_values)/2\n",
    "    return d\n",
    "    "
   ]
  },
  {
   "cell_type": "code",
   "execution_count": 204,
   "metadata": {
    "id": "hz-uwk5ivivv"
   },
   "outputs": [
    {
     "name": "stdout",
     "output_type": "stream",
     "text": [
      "0.06498561186291772\n"
     ]
    }
   ],
   "source": [
    "region = \"Bretagne\"\n",
    "df_region = df[df.region == region]\n",
    "consump=df_region[\"consumption\"]\n",
    "\n",
    "print(dissimilarity(list(consump),gen_data))\n"
   ]
  },
  {
   "cell_type": "markdown",
   "metadata": {
    "id": "nAyzf_YSvivv"
   },
   "source": [
    "3. Do the same for the region Bretagne in winter and check your conclusion of part A."
   ]
  },
  {
   "cell_type": "code",
   "execution_count": 205,
   "metadata": {},
   "outputs": [
    {
     "name": "stdout",
     "output_type": "stream",
     "text": [
      "0.051221196929857174\n"
     ]
    },
    {
     "name": "stderr",
     "output_type": "stream",
     "text": [
      "<ipython-input-205-cbcc23eecb5f>:3: UserWarning: Boolean Series key will be reindexed to match DataFrame index.\n",
      "  winter_data= df_region[mask]\n"
     ]
    }
   ],
   "source": [
    "region = \"Bretagne\"\n",
    "df_region = df[df.region == region]\n",
    "winter_data= df_region[mask]\n",
    "winter_consump=winter_data[\"consumption\"]\n",
    "print(dissimilarity(winter_consump,winter_gen_data))\n"
   ]
  },
  {
   "cell_type": "markdown",
   "metadata": {},
   "source": [
    "**We notice that the dissimilarity between the winter data and the corresponding gaussian model is less than that between the whole data and the corresponding gaussian model, that means that the winter data corresponds more to a gaussian distribution than the whole data. This confirms our conclusion  in part A.**"
   ]
  },
  {
   "cell_type": "markdown",
   "metadata": {
    "id": "M_U8d9wzvivw"
   },
   "source": [
    "4. Do the same for all regions. Give the result as a single dataframe."
   ]
  },
  {
   "cell_type": "code",
   "execution_count": 206,
   "metadata": {
    "id": "HVZ6fS7ovivw"
   },
   "outputs": [
    {
     "name": "stderr",
     "output_type": "stream",
     "text": [
      "<ipython-input-206-dbf7bd6b2666>:13: UserWarning: Boolean Series key will be reindexed to match DataFrame index.\n",
      "  r_winter_data= df_region[mask]\n",
      "<ipython-input-196-3fd599348a34>:3: UserWarning: Boolean Series key will be reindexed to match DataFrame index.\n",
      "  winter_data= df_region[mask]\n",
      "<ipython-input-196-3fd599348a34>:13: UserWarning: Boolean Series key will be reindexed to match DataFrame index.\n",
      "  winter_data= df_region[mask]\n",
      "<ipython-input-196-3fd599348a34>:3: UserWarning: Boolean Series key will be reindexed to match DataFrame index.\n",
      "  winter_data= df_region[mask]\n",
      "<ipython-input-206-dbf7bd6b2666>:13: UserWarning: Boolean Series key will be reindexed to match DataFrame index.\n",
      "  r_winter_data= df_region[mask]\n",
      "<ipython-input-196-3fd599348a34>:3: UserWarning: Boolean Series key will be reindexed to match DataFrame index.\n",
      "  winter_data= df_region[mask]\n",
      "<ipython-input-196-3fd599348a34>:13: UserWarning: Boolean Series key will be reindexed to match DataFrame index.\n",
      "  winter_data= df_region[mask]\n",
      "<ipython-input-196-3fd599348a34>:3: UserWarning: Boolean Series key will be reindexed to match DataFrame index.\n",
      "  winter_data= df_region[mask]\n",
      "<ipython-input-206-dbf7bd6b2666>:13: UserWarning: Boolean Series key will be reindexed to match DataFrame index.\n",
      "  r_winter_data= df_region[mask]\n",
      "<ipython-input-196-3fd599348a34>:3: UserWarning: Boolean Series key will be reindexed to match DataFrame index.\n",
      "  winter_data= df_region[mask]\n",
      "<ipython-input-196-3fd599348a34>:13: UserWarning: Boolean Series key will be reindexed to match DataFrame index.\n",
      "  winter_data= df_region[mask]\n",
      "<ipython-input-196-3fd599348a34>:3: UserWarning: Boolean Series key will be reindexed to match DataFrame index.\n",
      "  winter_data= df_region[mask]\n",
      "<ipython-input-206-dbf7bd6b2666>:13: UserWarning: Boolean Series key will be reindexed to match DataFrame index.\n",
      "  r_winter_data= df_region[mask]\n",
      "<ipython-input-196-3fd599348a34>:3: UserWarning: Boolean Series key will be reindexed to match DataFrame index.\n",
      "  winter_data= df_region[mask]\n",
      "<ipython-input-196-3fd599348a34>:13: UserWarning: Boolean Series key will be reindexed to match DataFrame index.\n",
      "  winter_data= df_region[mask]\n",
      "<ipython-input-196-3fd599348a34>:3: UserWarning: Boolean Series key will be reindexed to match DataFrame index.\n",
      "  winter_data= df_region[mask]\n",
      "<ipython-input-206-dbf7bd6b2666>:13: UserWarning: Boolean Series key will be reindexed to match DataFrame index.\n",
      "  r_winter_data= df_region[mask]\n",
      "<ipython-input-196-3fd599348a34>:3: UserWarning: Boolean Series key will be reindexed to match DataFrame index.\n",
      "  winter_data= df_region[mask]\n",
      "<ipython-input-196-3fd599348a34>:13: UserWarning: Boolean Series key will be reindexed to match DataFrame index.\n",
      "  winter_data= df_region[mask]\n",
      "<ipython-input-196-3fd599348a34>:3: UserWarning: Boolean Series key will be reindexed to match DataFrame index.\n",
      "  winter_data= df_region[mask]\n",
      "<ipython-input-206-dbf7bd6b2666>:13: UserWarning: Boolean Series key will be reindexed to match DataFrame index.\n",
      "  r_winter_data= df_region[mask]\n",
      "<ipython-input-196-3fd599348a34>:3: UserWarning: Boolean Series key will be reindexed to match DataFrame index.\n",
      "  winter_data= df_region[mask]\n",
      "<ipython-input-196-3fd599348a34>:13: UserWarning: Boolean Series key will be reindexed to match DataFrame index.\n",
      "  winter_data= df_region[mask]\n",
      "<ipython-input-196-3fd599348a34>:3: UserWarning: Boolean Series key will be reindexed to match DataFrame index.\n",
      "  winter_data= df_region[mask]\n",
      "<ipython-input-206-dbf7bd6b2666>:13: UserWarning: Boolean Series key will be reindexed to match DataFrame index.\n",
      "  r_winter_data= df_region[mask]\n",
      "<ipython-input-196-3fd599348a34>:3: UserWarning: Boolean Series key will be reindexed to match DataFrame index.\n",
      "  winter_data= df_region[mask]\n",
      "<ipython-input-196-3fd599348a34>:13: UserWarning: Boolean Series key will be reindexed to match DataFrame index.\n",
      "  winter_data= df_region[mask]\n",
      "<ipython-input-196-3fd599348a34>:3: UserWarning: Boolean Series key will be reindexed to match DataFrame index.\n",
      "  winter_data= df_region[mask]\n",
      "<ipython-input-206-dbf7bd6b2666>:13: UserWarning: Boolean Series key will be reindexed to match DataFrame index.\n",
      "  r_winter_data= df_region[mask]\n",
      "<ipython-input-196-3fd599348a34>:3: UserWarning: Boolean Series key will be reindexed to match DataFrame index.\n",
      "  winter_data= df_region[mask]\n",
      "<ipython-input-196-3fd599348a34>:13: UserWarning: Boolean Series key will be reindexed to match DataFrame index.\n",
      "  winter_data= df_region[mask]\n",
      "<ipython-input-196-3fd599348a34>:3: UserWarning: Boolean Series key will be reindexed to match DataFrame index.\n",
      "  winter_data= df_region[mask]\n",
      "<ipython-input-206-dbf7bd6b2666>:13: UserWarning: Boolean Series key will be reindexed to match DataFrame index.\n",
      "  r_winter_data= df_region[mask]\n",
      "<ipython-input-196-3fd599348a34>:3: UserWarning: Boolean Series key will be reindexed to match DataFrame index.\n",
      "  winter_data= df_region[mask]\n",
      "<ipython-input-196-3fd599348a34>:13: UserWarning: Boolean Series key will be reindexed to match DataFrame index.\n",
      "  winter_data= df_region[mask]\n",
      "<ipython-input-196-3fd599348a34>:3: UserWarning: Boolean Series key will be reindexed to match DataFrame index.\n",
      "  winter_data= df_region[mask]\n",
      "<ipython-input-206-dbf7bd6b2666>:13: UserWarning: Boolean Series key will be reindexed to match DataFrame index.\n",
      "  r_winter_data= df_region[mask]\n",
      "<ipython-input-196-3fd599348a34>:3: UserWarning: Boolean Series key will be reindexed to match DataFrame index.\n",
      "  winter_data= df_region[mask]\n",
      "<ipython-input-196-3fd599348a34>:13: UserWarning: Boolean Series key will be reindexed to match DataFrame index.\n",
      "  winter_data= df_region[mask]\n",
      "<ipython-input-196-3fd599348a34>:3: UserWarning: Boolean Series key will be reindexed to match DataFrame index.\n",
      "  winter_data= df_region[mask]\n",
      "<ipython-input-206-dbf7bd6b2666>:13: UserWarning: Boolean Series key will be reindexed to match DataFrame index.\n",
      "  r_winter_data= df_region[mask]\n",
      "<ipython-input-196-3fd599348a34>:3: UserWarning: Boolean Series key will be reindexed to match DataFrame index.\n",
      "  winter_data= df_region[mask]\n",
      "<ipython-input-196-3fd599348a34>:13: UserWarning: Boolean Series key will be reindexed to match DataFrame index.\n",
      "  winter_data= df_region[mask]\n",
      "<ipython-input-196-3fd599348a34>:3: UserWarning: Boolean Series key will be reindexed to match DataFrame index.\n",
      "  winter_data= df_region[mask]\n",
      "<ipython-input-206-dbf7bd6b2666>:13: UserWarning: Boolean Series key will be reindexed to match DataFrame index.\n",
      "  r_winter_data= df_region[mask]\n",
      "<ipython-input-196-3fd599348a34>:3: UserWarning: Boolean Series key will be reindexed to match DataFrame index.\n",
      "  winter_data= df_region[mask]\n",
      "<ipython-input-196-3fd599348a34>:13: UserWarning: Boolean Series key will be reindexed to match DataFrame index.\n",
      "  winter_data= df_region[mask]\n",
      "<ipython-input-196-3fd599348a34>:3: UserWarning: Boolean Series key will be reindexed to match DataFrame index.\n",
      "  winter_data= df_region[mask]\n"
     ]
    }
   ],
   "source": [
    "diss ={\"Region\":[],\"Dissimilarity Data/Guassian\" :[],\"Dissimilarity WinterData/Guassian\":[]}\n",
    "diss_df = pd.DataFrame(diss)\n",
    "for r in regions:\n",
    "    df_r = df[df.region == r]\n",
    "    consumption=df_r[\"consumption\"]\n",
    "    \n",
    "    r_mean = mean_estim(r)\n",
    "    r_std_dev = devi_estim(r)\n",
    "    num_samples = 3803\n",
    "    r_gen_data = np.random.normal(r_mean, r_std_dev, num_samples)\n",
    "    d = dissimilarity(consump,r_gen_data)\n",
    "    \n",
    "    r_winter_data= df_region[mask]\n",
    "    \n",
    "    r_winter_consump=r_winter_data[\"consumption\"]\n",
    "\n",
    "    r_winter_mean = winter_mean_estim(r)\n",
    "    r_winter_std_dev = winter_devi_estim(r)\n",
    "    num_samples = 982\n",
    "    r_winter_gen_data = np.random.normal(mean, std_dev, num_samples)\n",
    " \n",
    "\n",
    "    wd = dissimilarity(r_winter_consump,r_winter_gen_data)\n",
    "    \n",
    "    new_row = {\"Region\": r,\"Dissimilarity Data/Guassian\" : d ,\"Dissimilarity WinterData/Guassian\": wd}\n",
    "    diss_df = pd.concat([diss_df, pd.DataFrame([new_row])], ignore_index=True)\n",
    "    \n",
    "    \n",
    "    "
   ]
  },
  {
   "cell_type": "code",
   "execution_count": 207,
   "metadata": {},
   "outputs": [
    {
     "data": {
      "text/html": [
       "<div>\n",
       "<style scoped>\n",
       "    .dataframe tbody tr th:only-of-type {\n",
       "        vertical-align: middle;\n",
       "    }\n",
       "\n",
       "    .dataframe tbody tr th {\n",
       "        vertical-align: top;\n",
       "    }\n",
       "\n",
       "    .dataframe thead th {\n",
       "        text-align: right;\n",
       "    }\n",
       "</style>\n",
       "<table border=\"1\" class=\"dataframe\">\n",
       "  <thead>\n",
       "    <tr style=\"text-align: right;\">\n",
       "      <th></th>\n",
       "      <th>Region</th>\n",
       "      <th>Dissimilarity Data/Guassian</th>\n",
       "      <th>Dissimilarity WinterData/Guassian</th>\n",
       "    </tr>\n",
       "  </thead>\n",
       "  <tbody>\n",
       "    <tr>\n",
       "      <th>0</th>\n",
       "      <td>Auvergne-Rhône-Alpes</td>\n",
       "      <td>0.849030</td>\n",
       "      <td>0.014880</td>\n",
       "    </tr>\n",
       "    <tr>\n",
       "      <th>1</th>\n",
       "      <td>Bourgogne-Franche-Comté</td>\n",
       "      <td>0.206326</td>\n",
       "      <td>0.058533</td>\n",
       "    </tr>\n",
       "    <tr>\n",
       "      <th>2</th>\n",
       "      <td>Bretagne</td>\n",
       "      <td>0.111224</td>\n",
       "      <td>0.056117</td>\n",
       "    </tr>\n",
       "    <tr>\n",
       "      <th>3</th>\n",
       "      <td>Centre-Val de Loire</td>\n",
       "      <td>0.258150</td>\n",
       "      <td>0.032838</td>\n",
       "    </tr>\n",
       "    <tr>\n",
       "      <th>4</th>\n",
       "      <td>Grand Est</td>\n",
       "      <td>0.728312</td>\n",
       "      <td>0.011689</td>\n",
       "    </tr>\n",
       "    <tr>\n",
       "      <th>5</th>\n",
       "      <td>Hauts-de-France</td>\n",
       "      <td>0.802526</td>\n",
       "      <td>0.035040</td>\n",
       "    </tr>\n",
       "    <tr>\n",
       "      <th>6</th>\n",
       "      <td>Normandie</td>\n",
       "      <td>0.376363</td>\n",
       "      <td>0.026107</td>\n",
       "    </tr>\n",
       "    <tr>\n",
       "      <th>7</th>\n",
       "      <td>Nouvelle-Aquitaine</td>\n",
       "      <td>0.702912</td>\n",
       "      <td>0.008178</td>\n",
       "    </tr>\n",
       "    <tr>\n",
       "      <th>8</th>\n",
       "      <td>Occitanie</td>\n",
       "      <td>0.902090</td>\n",
       "      <td>0.033473</td>\n",
       "    </tr>\n",
       "    <tr>\n",
       "      <th>9</th>\n",
       "      <td>Pays de la Loire</td>\n",
       "      <td>0.292735</td>\n",
       "      <td>0.031238</td>\n",
       "    </tr>\n",
       "    <tr>\n",
       "      <th>10</th>\n",
       "      <td>Provence-Alpes-Côte d'Azur</td>\n",
       "      <td>0.660463</td>\n",
       "      <td>0.033227</td>\n",
       "    </tr>\n",
       "    <tr>\n",
       "      <th>11</th>\n",
       "      <td>Île-de-France</td>\n",
       "      <td>0.836161</td>\n",
       "      <td>0.030308</td>\n",
       "    </tr>\n",
       "  </tbody>\n",
       "</table>\n",
       "</div>"
      ],
      "text/plain": [
       "                        Region  Dissimilarity Data/Guassian  \\\n",
       "0         Auvergne-Rhône-Alpes                     0.849030   \n",
       "1      Bourgogne-Franche-Comté                     0.206326   \n",
       "2                     Bretagne                     0.111224   \n",
       "3          Centre-Val de Loire                     0.258150   \n",
       "4                    Grand Est                     0.728312   \n",
       "5              Hauts-de-France                     0.802526   \n",
       "6                    Normandie                     0.376363   \n",
       "7           Nouvelle-Aquitaine                     0.702912   \n",
       "8                    Occitanie                     0.902090   \n",
       "9             Pays de la Loire                     0.292735   \n",
       "10  Provence-Alpes-Côte d'Azur                     0.660463   \n",
       "11               Île-de-France                     0.836161   \n",
       "\n",
       "    Dissimilarity WinterData/Guassian  \n",
       "0                            0.014880  \n",
       "1                            0.058533  \n",
       "2                            0.056117  \n",
       "3                            0.032838  \n",
       "4                            0.011689  \n",
       "5                            0.035040  \n",
       "6                            0.026107  \n",
       "7                            0.008178  \n",
       "8                            0.033473  \n",
       "9                            0.031238  \n",
       "10                           0.033227  \n",
       "11                           0.030308  "
      ]
     },
     "execution_count": 207,
     "metadata": {},
     "output_type": "execute_result"
    }
   ],
   "source": [
    "diss_df"
   ]
  },
  {
   "cell_type": "markdown",
   "metadata": {
    "id": "v8Pt06jUvivw"
   },
   "source": [
    "5. Which region is best fitted by a Gaussian model in winter?"
   ]
  },
  {
   "cell_type": "markdown",
   "metadata": {
    "id": "mmTHneO-vivx"
   },
   "source": [
    "**It is the region correponding to the least dissimilarity, that is the region Pays de la Loire**"
   ]
  },
  {
   "cell_type": "markdown",
   "metadata": {
    "id": "5yUlKCAivivx"
   },
   "source": [
    "6. For this region and this season, plot the *kde* of real data and the *kde* of generated data on the same figure, as in part A."
   ]
  },
  {
   "cell_type": "code",
   "execution_count": 208,
   "metadata": {
    "id": "g6XNF1oSvivx"
   },
   "outputs": [
    {
     "name": "stderr",
     "output_type": "stream",
     "text": [
      "<ipython-input-208-7a009fd5a69f>:2: UserWarning: Boolean Series key will be reindexed to match DataFrame index.\n",
      "  winter_loire= df_loire[mask]\n",
      "<ipython-input-196-3fd599348a34>:3: UserWarning: Boolean Series key will be reindexed to match DataFrame index.\n",
      "  winter_data= df_region[mask]\n",
      "<ipython-input-196-3fd599348a34>:13: UserWarning: Boolean Series key will be reindexed to match DataFrame index.\n",
      "  winter_data= df_region[mask]\n",
      "<ipython-input-196-3fd599348a34>:3: UserWarning: Boolean Series key will be reindexed to match DataFrame index.\n",
      "  winter_data= df_region[mask]\n"
     ]
    },
    {
     "data": {
      "image/png": "[encoded data removed]",
      "text/plain": [
       "<Figure size 432x288 with 1 Axes>"
      ]
     },
     "metadata": {
      "needs_background": "light"
     },
     "output_type": "display_data"
    }
   ],
   "source": [
    "df_loire = df[df.region == \"Pays de la Loire\"]\n",
    "winter_loire= df_loire[mask]\n",
    "winter_consump_loire=winter_loire[\"consumption\"]\n",
    "mean_loire = winter_mean_estim(\"Pays de la Loire\")\n",
    "std_dev_loire = winter_devi_estim(\"Pays de la Loire\")\n",
    "num_samples = 982\n",
    "winter_gen_loire = np.random.normal(mean_loire, std_dev_loire, num_samples)\n",
    "sns.kdeplot(data=winter_loire, x=\"consumption\", label=\"Data\", color='red', fill=True)\n",
    "sns.kdeplot(data=winter_gen_loire,label=\"GenData\", color='blue', fill=True)\n",
    "\n",
    "plt.xlabel(\"Consumption (MW)\")\n",
    "plt.legend()\n",
    "plt.show()\n"
   ]
  },
  {
   "cell_type": "markdown",
   "metadata": {
    "id": "7IanyJOHvivx"
   },
   "source": [
    "## C. Bayesian statistics"
   ]
  },
  {
   "cell_type": "markdown",
   "metadata": {
    "id": "322oFLPcvivy"
   },
   "source": [
    "We would like to include prior knowledge on the estimation, using Bayesian statistics.\n",
    "\n",
    "Consider the region Bretagne in winter. We focus on the mean $\\mu$, assuming the standard deviation is known and equal to $\\sigma=400$MW. We assume a Gaussian prior on $\\mu$ with mean $\\mu_0=3500$MW and standard deviation $\\sigma_0=500$MW.\n",
    "\n",
    "1. Give the posterior distribution of $\\mu$, using the parameters $\\sigma$, $\\mu_0$, $\\sigma_0$ and the $n$ observations $x_1,\\ldots,x_n$."
   ]
  },
  {
   "cell_type": "markdown",
   "metadata": {
    "id": "zBuBIgAovivz"
   },
   "source": [
    "Your answer:\n",
    "\n",
    "**$\\pi(\\mu|x)=p(x|\\mu) \\pi(\\mu) $**\n",
    "\n",
    "**$\\mu$~$N (\\mu_0,\\sigma_0)$**\n",
    "\n",
    "**$X_i|\\mu$~$N (\\mu,\\sigma)$ and $X_i$ are $i.i.d$ for $i$ in {1,...,n}**\n",
    "\n",
    "$$\n",
    "p(x | \\mu) = \\frac{1}{\\sqrt{2\\pi\\sigma^2}} \\exp\\left(-\\frac{\\sum (x_i - \\mu)^2}{2\\sigma^2}\\right)\n",
    "$$\n",
    "\n",
    "$$\n",
    "\\pi(\\mu) = \\frac{1}{\\sqrt{2\\pi\\sigma_0^2}} \\exp\\left(-\\frac{(\\mu - \\mu_0)^2}{2\\sigma_0^2}\\right)\n",
    "$$ \n",
    "**We find that the product of the two distribution makes another gaussian disribution with parameters:**\n",
    "\n",
    "**Mean:**\n",
    "$$\n",
    "\\mu_{\\text{posterior}} = \\frac{\\sigma^2}{\\sigma^2 + n\\sigma_0^2} \\mu_0 + \\frac{\\sigma_0^2}{\\sigma^2 + n\\sigma_0^2} \\bar{x}\n",
    "$$\n",
    "**Where:**\n",
    "$$\n",
    "\\bar{x} =  \\sum_{i=1}^{n} x_i\n",
    "$$\n",
    "**And variance:**\n",
    "$$\n",
    "\\sigma_{\\text{posterior}}^2 = \\frac{1}{\\frac{n}{\\sigma^2} + \\frac{1}{\\sigma_0^2}}\n",
    "$$\n",
    "\n"
   ]
  },
  {
   "cell_type": "markdown",
   "metadata": {
    "id": "S1Ue2Uqovivz"
   },
   "source": [
    "2. Give the parameters of the posterior distribution obtained for each year from 2013 to 2023, considered independently, in a single dataframe."
   ]
  },
  {
   "cell_type": "code",
   "execution_count": 209,
   "metadata": {},
   "outputs": [
    {
     "data": {
      "text/html": [
       "<div>\n",
       "<style scoped>\n",
       "    .dataframe tbody tr th:only-of-type {\n",
       "        vertical-align: middle;\n",
       "    }\n",
       "\n",
       "    .dataframe tbody tr th {\n",
       "        vertical-align: top;\n",
       "    }\n",
       "\n",
       "    .dataframe thead th {\n",
       "        text-align: right;\n",
       "    }\n",
       "</style>\n",
       "<table border=\"1\" class=\"dataframe\">\n",
       "  <thead>\n",
       "    <tr style=\"text-align: right;\">\n",
       "      <th></th>\n",
       "      <th>region</th>\n",
       "      <th>date</th>\n",
       "      <th>consumption</th>\n",
       "    </tr>\n",
       "  </thead>\n",
       "  <tbody>\n",
       "    <tr>\n",
       "      <th>7606</th>\n",
       "      <td>Bretagne</td>\n",
       "      <td>2013-01-01</td>\n",
       "      <td>2595</td>\n",
       "    </tr>\n",
       "    <tr>\n",
       "      <th>7607</th>\n",
       "      <td>Bretagne</td>\n",
       "      <td>2013-01-02</td>\n",
       "      <td>3195</td>\n",
       "    </tr>\n",
       "    <tr>\n",
       "      <th>7608</th>\n",
       "      <td>Bretagne</td>\n",
       "      <td>2013-01-03</td>\n",
       "      <td>3157</td>\n",
       "    </tr>\n",
       "    <tr>\n",
       "      <th>7609</th>\n",
       "      <td>Bretagne</td>\n",
       "      <td>2013-01-04</td>\n",
       "      <td>3142</td>\n",
       "    </tr>\n",
       "    <tr>\n",
       "      <th>7610</th>\n",
       "      <td>Bretagne</td>\n",
       "      <td>2013-01-05</td>\n",
       "      <td>2859</td>\n",
       "    </tr>\n",
       "    <tr>\n",
       "      <th>...</th>\n",
       "      <td>...</td>\n",
       "      <td>...</td>\n",
       "      <td>...</td>\n",
       "    </tr>\n",
       "    <tr>\n",
       "      <th>11333</th>\n",
       "      <td>Bretagne</td>\n",
       "      <td>2023-03-17</td>\n",
       "      <td>2609</td>\n",
       "    </tr>\n",
       "    <tr>\n",
       "      <th>11334</th>\n",
       "      <td>Bretagne</td>\n",
       "      <td>2023-03-18</td>\n",
       "      <td>2309</td>\n",
       "    </tr>\n",
       "    <tr>\n",
       "      <th>11335</th>\n",
       "      <td>Bretagne</td>\n",
       "      <td>2023-03-19</td>\n",
       "      <td>2206</td>\n",
       "    </tr>\n",
       "    <tr>\n",
       "      <th>11336</th>\n",
       "      <td>Bretagne</td>\n",
       "      <td>2023-03-20</td>\n",
       "      <td>2672</td>\n",
       "    </tr>\n",
       "    <tr>\n",
       "      <th>11337</th>\n",
       "      <td>Bretagne</td>\n",
       "      <td>2023-03-21</td>\n",
       "      <td>2618</td>\n",
       "    </tr>\n",
       "  </tbody>\n",
       "</table>\n",
       "<p>982 rows × 3 columns</p>\n",
       "</div>"
      ],
      "text/plain": [
       "         region       date  consumption\n",
       "7606   Bretagne 2013-01-01         2595\n",
       "7607   Bretagne 2013-01-02         3195\n",
       "7608   Bretagne 2013-01-03         3157\n",
       "7609   Bretagne 2013-01-04         3142\n",
       "7610   Bretagne 2013-01-05         2859\n",
       "...         ...        ...          ...\n",
       "11333  Bretagne 2023-03-17         2609\n",
       "11334  Bretagne 2023-03-18         2309\n",
       "11335  Bretagne 2023-03-19         2206\n",
       "11336  Bretagne 2023-03-20         2672\n",
       "11337  Bretagne 2023-03-21         2618\n",
       "\n",
       "[982 rows x 3 columns]"
      ]
     },
     "execution_count": 209,
     "metadata": {},
     "output_type": "execute_result"
    }
   ],
   "source": [
    "winter_data"
   ]
  },
  {
   "cell_type": "code",
   "execution_count": 210,
   "metadata": {
    "id": "5belbk0Jvivz"
   },
   "outputs": [
    {
     "name": "stderr",
     "output_type": "stream",
     "text": [
      "<ipython-input-210-ffc4222fa94c>:3: SettingWithCopyWarning: \n",
      "A value is trying to be set on a copy of a slice from a DataFrame.\n",
      "Try using .loc[row_indexer,col_indexer] = value instead\n",
      "\n",
      "See the caveats in the documentation: https://pandas.pydata.org/pandas-docs/stable/user_guide/indexing.html#returning-a-view-versus-a-copy\n",
      "  winter_data['date'] = pd.to_datetime(winter_data['date'])\n",
      "<ipython-input-210-ffc4222fa94c>:9: UserWarning: Boolean Series key will be reindexed to match DataFrame index.\n",
      "  winter_data= df_region[mask]\n"
     ]
    }
   ],
   "source": [
    "parameters ={\"Year\":[],\"PostMean\" :[],\"StdDev\":[]}\n",
    "param_df = pd.DataFrame(parameters)\n",
    "winter_data['date'] = pd.to_datetime(winter_data['date'])\n",
    "sigma = 400\n",
    "sigma_0 = 500\n",
    "mu_0 = 3500\n",
    "\n",
    "\n",
    "winter_data= df_region[mask]\n",
    "for i in range(2013,2024):\n",
    "    \n",
    "    mask_i = (winter_data['date'].dt.year == i)\n",
    "    winter_data_i =winter_data[mask_i]\n",
    "    consump_i=winter_data_i[\"consumption\"]\n",
    "    consump_i_list = consump_i.tolist()\n",
    "    n=len(consump_i_list)\n",
    "    x_bar =  0\n",
    "    for x in consump_i_list:\n",
    "        x_bar+=x\n",
    "    mu_post = ((sigma**2)*mu_0 + (sigma_0**2)*x_bar)/(sigma**2+n*sigma_0**2)\n",
    "    sigma_post = np.sqrt(1/(n/sigma**2 + 1/sigma_0**2))\n",
    "    new_row = {\"Year\": i,\"PostMean\" : mu_post ,\"StdDev\": sigma_post}\n",
    "    param_df = pd.concat([param_df, pd.DataFrame([new_row])], ignore_index=True)\n",
    "        \n",
    "        \n",
    "        \n",
    "\n",
    "    \n",
    "            \n",
    "               \n",
    "    "
   ]
  },
  {
   "cell_type": "code",
   "execution_count": 211,
   "metadata": {},
   "outputs": [
    {
     "data": {
      "text/html": [
       "<div>\n",
       "<style scoped>\n",
       "    .dataframe tbody tr th:only-of-type {\n",
       "        vertical-align: middle;\n",
       "    }\n",
       "\n",
       "    .dataframe tbody tr th {\n",
       "        vertical-align: top;\n",
       "    }\n",
       "\n",
       "    .dataframe thead th {\n",
       "        text-align: right;\n",
       "    }\n",
       "</style>\n",
       "<table border=\"1\" class=\"dataframe\">\n",
       "  <thead>\n",
       "    <tr style=\"text-align: right;\">\n",
       "      <th></th>\n",
       "      <th>Year</th>\n",
       "      <th>PostMean</th>\n",
       "      <th>StdDev</th>\n",
       "    </tr>\n",
       "  </thead>\n",
       "  <tbody>\n",
       "    <tr>\n",
       "      <th>0</th>\n",
       "      <td>2013.0</td>\n",
       "      <td>3343.413504</td>\n",
       "      <td>42.014582</td>\n",
       "    </tr>\n",
       "    <tr>\n",
       "      <th>1</th>\n",
       "      <td>2014.0</td>\n",
       "      <td>3118.424537</td>\n",
       "      <td>42.014582</td>\n",
       "    </tr>\n",
       "    <tr>\n",
       "      <th>2</th>\n",
       "      <td>2015.0</td>\n",
       "      <td>3167.398500</td>\n",
       "      <td>42.014582</td>\n",
       "    </tr>\n",
       "    <tr>\n",
       "      <th>3</th>\n",
       "      <td>2016.0</td>\n",
       "      <td>3207.507639</td>\n",
       "      <td>41.784716</td>\n",
       "    </tr>\n",
       "    <tr>\n",
       "      <th>4</th>\n",
       "      <td>2017.0</td>\n",
       "      <td>3251.224625</td>\n",
       "      <td>42.014582</td>\n",
       "    </tr>\n",
       "    <tr>\n",
       "      <th>5</th>\n",
       "      <td>2018.0</td>\n",
       "      <td>3315.081642</td>\n",
       "      <td>42.014582</td>\n",
       "    </tr>\n",
       "    <tr>\n",
       "      <th>6</th>\n",
       "      <td>2019.0</td>\n",
       "      <td>3195.200794</td>\n",
       "      <td>42.014582</td>\n",
       "    </tr>\n",
       "    <tr>\n",
       "      <th>7</th>\n",
       "      <td>2020.0</td>\n",
       "      <td>3145.504147</td>\n",
       "      <td>41.784716</td>\n",
       "    </tr>\n",
       "    <tr>\n",
       "      <th>8</th>\n",
       "      <td>2021.0</td>\n",
       "      <td>3341.946161</td>\n",
       "      <td>42.014582</td>\n",
       "    </tr>\n",
       "    <tr>\n",
       "      <th>9</th>\n",
       "      <td>2022.0</td>\n",
       "      <td>3165.081642</td>\n",
       "      <td>42.014582</td>\n",
       "    </tr>\n",
       "    <tr>\n",
       "      <th>10</th>\n",
       "      <td>2023.0</td>\n",
       "      <td>3117.547123</td>\n",
       "      <td>44.543540</td>\n",
       "    </tr>\n",
       "  </tbody>\n",
       "</table>\n",
       "</div>"
      ],
      "text/plain": [
       "      Year     PostMean     StdDev\n",
       "0   2013.0  3343.413504  42.014582\n",
       "1   2014.0  3118.424537  42.014582\n",
       "2   2015.0  3167.398500  42.014582\n",
       "3   2016.0  3207.507639  41.784716\n",
       "4   2017.0  3251.224625  42.014582\n",
       "5   2018.0  3315.081642  42.014582\n",
       "6   2019.0  3195.200794  42.014582\n",
       "7   2020.0  3145.504147  41.784716\n",
       "8   2021.0  3341.946161  42.014582\n",
       "9   2022.0  3165.081642  42.014582\n",
       "10  2023.0  3117.547123  44.543540"
      ]
     },
     "execution_count": 211,
     "metadata": {},
     "output_type": "execute_result"
    }
   ],
   "source": [
    "param_df"
   ]
  },
  {
   "cell_type": "markdown",
   "metadata": {
    "id": "uqEGrT_xviv0"
   },
   "source": [
    "3. Plot the density of the posterior distribution in 2023 and the *kde* of real data in 2023 on the same plot."
   ]
  },
  {
   "cell_type": "code",
   "execution_count": 212,
   "metadata": {},
   "outputs": [
    {
     "data": {
      "text/html": [
       "<div>\n",
       "<style scoped>\n",
       "    .dataframe tbody tr th:only-of-type {\n",
       "        vertical-align: middle;\n",
       "    }\n",
       "\n",
       "    .dataframe tbody tr th {\n",
       "        vertical-align: top;\n",
       "    }\n",
       "\n",
       "    .dataframe thead th {\n",
       "        text-align: right;\n",
       "    }\n",
       "</style>\n",
       "<table border=\"1\" class=\"dataframe\">\n",
       "  <thead>\n",
       "    <tr style=\"text-align: right;\">\n",
       "      <th></th>\n",
       "      <th>region</th>\n",
       "      <th>date</th>\n",
       "      <th>consumption</th>\n",
       "    </tr>\n",
       "  </thead>\n",
       "  <tbody>\n",
       "    <tr>\n",
       "      <th>7606</th>\n",
       "      <td>Bretagne</td>\n",
       "      <td>2013-01-01</td>\n",
       "      <td>2595</td>\n",
       "    </tr>\n",
       "    <tr>\n",
       "      <th>7607</th>\n",
       "      <td>Bretagne</td>\n",
       "      <td>2013-01-02</td>\n",
       "      <td>3195</td>\n",
       "    </tr>\n",
       "    <tr>\n",
       "      <th>7608</th>\n",
       "      <td>Bretagne</td>\n",
       "      <td>2013-01-03</td>\n",
       "      <td>3157</td>\n",
       "    </tr>\n",
       "    <tr>\n",
       "      <th>7609</th>\n",
       "      <td>Bretagne</td>\n",
       "      <td>2013-01-04</td>\n",
       "      <td>3142</td>\n",
       "    </tr>\n",
       "    <tr>\n",
       "      <th>7610</th>\n",
       "      <td>Bretagne</td>\n",
       "      <td>2013-01-05</td>\n",
       "      <td>2859</td>\n",
       "    </tr>\n",
       "    <tr>\n",
       "      <th>...</th>\n",
       "      <td>...</td>\n",
       "      <td>...</td>\n",
       "      <td>...</td>\n",
       "    </tr>\n",
       "    <tr>\n",
       "      <th>11333</th>\n",
       "      <td>Bretagne</td>\n",
       "      <td>2023-03-17</td>\n",
       "      <td>2609</td>\n",
       "    </tr>\n",
       "    <tr>\n",
       "      <th>11334</th>\n",
       "      <td>Bretagne</td>\n",
       "      <td>2023-03-18</td>\n",
       "      <td>2309</td>\n",
       "    </tr>\n",
       "    <tr>\n",
       "      <th>11335</th>\n",
       "      <td>Bretagne</td>\n",
       "      <td>2023-03-19</td>\n",
       "      <td>2206</td>\n",
       "    </tr>\n",
       "    <tr>\n",
       "      <th>11336</th>\n",
       "      <td>Bretagne</td>\n",
       "      <td>2023-03-20</td>\n",
       "      <td>2672</td>\n",
       "    </tr>\n",
       "    <tr>\n",
       "      <th>11337</th>\n",
       "      <td>Bretagne</td>\n",
       "      <td>2023-03-21</td>\n",
       "      <td>2618</td>\n",
       "    </tr>\n",
       "  </tbody>\n",
       "</table>\n",
       "<p>982 rows × 3 columns</p>\n",
       "</div>"
      ],
      "text/plain": [
       "         region       date  consumption\n",
       "7606   Bretagne 2013-01-01         2595\n",
       "7607   Bretagne 2013-01-02         3195\n",
       "7608   Bretagne 2013-01-03         3157\n",
       "7609   Bretagne 2013-01-04         3142\n",
       "7610   Bretagne 2013-01-05         2859\n",
       "...         ...        ...          ...\n",
       "11333  Bretagne 2023-03-17         2609\n",
       "11334  Bretagne 2023-03-18         2309\n",
       "11335  Bretagne 2023-03-19         2206\n",
       "11336  Bretagne 2023-03-20         2672\n",
       "11337  Bretagne 2023-03-21         2618\n",
       "\n",
       "[982 rows x 3 columns]"
      ]
     },
     "execution_count": 212,
     "metadata": {},
     "output_type": "execute_result"
    }
   ],
   "source": [
    "winter_data"
   ]
  },
  {
   "cell_type": "code",
   "execution_count": 213,
   "metadata": {
    "id": "_tKB_WIrviv0"
   },
   "outputs": [
    {
     "data": {
      "image/png": "[encoded data removed]",
      "text/plain": [
       "<Figure size 432x288 with 1 Axes>"
      ]
     },
     "metadata": {
      "needs_background": "light"
     },
     "output_type": "display_data"
    }
   ],
   "source": [
    "mask_2023 = (winter_data['date'].dt.year == 2023)\n",
    "winter_data_2023 =winter_data[mask_2023]\n",
    "consump_2023=winter_data_2023[\"consumption\"]\n",
    "consump_2023_list = consump_2023.tolist()\n",
    "post_gen_data = np.random.normal(3117.547123, 44.543540, len(consump_2023_list))\n",
    "sns.kdeplot(data=post_gen_data, label=\"PostData\", color='blue', fill=True)\n",
    "sns.kdeplot(data=winter_data_2023, x=\"consumption\", label=\"RealData\", color='red', fill=True)\n",
    "plt.title(region)\n",
    "plt.xlabel(\"Consumption (MW)\")\n",
    "plt.legend()\n",
    "plt.show()"
   ]
  },
  {
   "cell_type": "markdown",
   "metadata": {
    "id": "DrpteuyZviv0"
   },
   "source": [
    "4. Discuss the results, comparing to those obtained in part A."
   ]
  },
  {
   "cell_type": "markdown",
   "metadata": {
    "id": "WNThOMopviv0"
   },
   "source": [
    "Your answer:\n",
    "\n",
    "**the posterior distribution represents the distribution of the mean, the mean does not differ a lot from the center value, which explains the low variance and the pointy shape of the curve.**"
   ]
  },
  {
   "cell_type": "markdown",
   "metadata": {
    "id": "EYZXExehviv1"
   },
   "source": [
    "## D. Hypothesis testing"
   ]
  },
  {
   "cell_type": "markdown",
   "metadata": {
    "id": "ZmlQ0sflviv1"
   },
   "source": [
    "Consider the region Bretagne. While the standard deviation is equal to 400MW in winter, you would like to test the hypothesis that it was 500MW in 2023. The mean is supposed to be known and equal to 3200MW.\n",
    "1. Propose a statistical test at level $\\alpha$."
   ]
  },
  {
   "cell_type": "markdown",
   "metadata": {
    "id": "8DoJPnTDviv1"
   },
   "source": [
    "Your answer:\n",
    "\n",
    "**We have two hypothesis, the first one the one we want to test, the default hypothesis**\n",
    "\n",
    "$H_0$ = {$\\sigma = \\sigma_0 = $= 500MW}\n",
    "\n",
    "**We choose as an alternative the following**\n",
    "\n",
    "$H_1$ = {$\\sigma = \\sigma_1$ =400MW}\n",
    "\n",
    "**we  caluculate now the likelihood ratio:**\n",
    "\n",
    "**ratio** = $\\frac {p_1(x)}{p_0(x)} \\alpha \\frac{\\exp\\left(-\\frac{ \\sum(x_i - \\mu)^2}{2\\sigma_1^2}\\right)} {\\exp\\left(-\\frac{\\sum (x_i - \\mu)^2}{2\\sigma_0^2}\\right)} \\alpha \\exp\\left(-\\sum (x_i - \\mu)^2(\\frac{1}{2\\sigma_1^2} - \\frac{1}{2\\sigma_0^2})\\right)$\n",
    "\n",
    "**we denote** $S = \\sum(x_i - \\mu)^2 $\n",
    "\n",
    "**comme $\\sigma_0>\\sigma_1$ then ratio is a decreasing function of S**\n",
    "\n",
    "the statistical test at level $\\alpha$ is $\\delta(x) = 1_{S<c}$ for some constant c\n",
    "\n",
    "we have S~$\\sigma^2$ Z \n",
    "\n",
    "where Z~$\\chi^2(n)$\n",
    "\n",
    "$\\alpha = P_0(S<c) = P_0(\\sigma^2Z<c)=P_0(Z<\\frac{c}{\\sigma^2})$\n",
    "\n",
    "so $\\frac{c}{\\sigma_0^2}= Q(\\alpha)$ where $Q$ is the quantile function of the $χ2(n)$\n",
    "\n",
    "therefor $c= \\sigma_0^2Q(\\alpha)$"
   ]
  },
  {
   "cell_type": "markdown",
   "metadata": {
    "id": "3y7zrO6Wviv2"
   },
   "source": [
    "2. Provide the result of this test for $\\alpha=1\\%$."
   ]
  },
  {
   "cell_type": "code",
   "execution_count": 214,
   "metadata": {
    "id": "n5idLKbMviv2"
   },
   "outputs": [
    {
     "name": "stdout",
     "output_type": "stream",
     "text": [
      "0\n"
     ]
    }
   ],
   "source": [
    "S = 0\n",
    "sigma_0=500\n",
    "mu = 3200\n",
    "for x in consump_2023_list:\n",
    "    S+= (x-mu)**2\n",
    "    \n",
    "\n",
    "\n",
    "n = len(consump_2023_list)\n",
    "c1 = chi2.ppf(0.01, n)*sigma_0**2\n",
    "\n",
    "def test(S):\n",
    "    if S<c1:return 1\n",
    "    else: return 0\n",
    "print(test(S))\n"
   ]
  },
  {
   "cell_type": "markdown",
   "metadata": {},
   "source": [
    "**The null hypothesis was accepted, we decide then that standard deviation is equal 500MW.**"
   ]
  },
  {
   "cell_type": "markdown",
   "metadata": {
    "id": "Ua99iWYZviv2"
   },
   "source": [
    "## E. Testing independence"
   ]
  },
  {
   "cell_type": "markdown",
   "metadata": {
    "id": "zAcXd1I2viv3"
   },
   "source": [
    "Consider the power consumption in Bretagne and Provence-Alpes-Côte d'Azur in winter."
   ]
  },
  {
   "cell_type": "markdown",
   "metadata": {
    "id": "HHUrNwv6viv3"
   },
   "source": [
    "1. Visualize the joint distribution of power consumption in these 2 regions using seaborn."
   ]
  },
  {
   "cell_type": "code",
   "execution_count": 215,
   "metadata": {},
   "outputs": [
    {
     "name": "stderr",
     "output_type": "stream",
     "text": [
      "<ipython-input-215-0df0ebb68ace>:2: UserWarning: Boolean Series key will be reindexed to match DataFrame index.\n",
      "  winter_data_prov = df[df.region == \"Provence-Alpes-Côte d'Azur\"][mask]\n"
     ]
    }
   ],
   "source": [
    "winter_data_bret= winter_data\n",
    "winter_data_prov = df[df.region == \"Provence-Alpes-Côte d'Azur\"][mask]"
   ]
  },
  {
   "cell_type": "code",
   "execution_count": 216,
   "metadata": {},
   "outputs": [
    {
     "data": {
      "text/html": [
       "<div>\n",
       "<style scoped>\n",
       "    .dataframe tbody tr th:only-of-type {\n",
       "        vertical-align: middle;\n",
       "    }\n",
       "\n",
       "    .dataframe tbody tr th {\n",
       "        vertical-align: top;\n",
       "    }\n",
       "\n",
       "    .dataframe thead th {\n",
       "        text-align: right;\n",
       "    }\n",
       "</style>\n",
       "<table border=\"1\" class=\"dataframe\">\n",
       "  <thead>\n",
       "    <tr style=\"text-align: right;\">\n",
       "      <th></th>\n",
       "      <th>region</th>\n",
       "      <th>date</th>\n",
       "      <th>consumption</th>\n",
       "    </tr>\n",
       "  </thead>\n",
       "  <tbody>\n",
       "    <tr>\n",
       "      <th>38030</th>\n",
       "      <td>Provence-Alpes-Côte d'Azur</td>\n",
       "      <td>2013-01-01</td>\n",
       "      <td>5369</td>\n",
       "    </tr>\n",
       "    <tr>\n",
       "      <th>38031</th>\n",
       "      <td>Provence-Alpes-Côte d'Azur</td>\n",
       "      <td>2013-01-02</td>\n",
       "      <td>5834</td>\n",
       "    </tr>\n",
       "    <tr>\n",
       "      <th>38032</th>\n",
       "      <td>Provence-Alpes-Côte d'Azur</td>\n",
       "      <td>2013-01-03</td>\n",
       "      <td>5948</td>\n",
       "    </tr>\n",
       "    <tr>\n",
       "      <th>38033</th>\n",
       "      <td>Provence-Alpes-Côte d'Azur</td>\n",
       "      <td>2013-01-04</td>\n",
       "      <td>5974</td>\n",
       "    </tr>\n",
       "    <tr>\n",
       "      <th>38034</th>\n",
       "      <td>Provence-Alpes-Côte d'Azur</td>\n",
       "      <td>2013-01-05</td>\n",
       "      <td>5580</td>\n",
       "    </tr>\n",
       "    <tr>\n",
       "      <th>...</th>\n",
       "      <td>...</td>\n",
       "      <td>...</td>\n",
       "      <td>...</td>\n",
       "    </tr>\n",
       "    <tr>\n",
       "      <th>41757</th>\n",
       "      <td>Provence-Alpes-Côte d'Azur</td>\n",
       "      <td>2023-03-17</td>\n",
       "      <td>4442</td>\n",
       "    </tr>\n",
       "    <tr>\n",
       "      <th>41758</th>\n",
       "      <td>Provence-Alpes-Côte d'Azur</td>\n",
       "      <td>2023-03-18</td>\n",
       "      <td>4258</td>\n",
       "    </tr>\n",
       "    <tr>\n",
       "      <th>41759</th>\n",
       "      <td>Provence-Alpes-Côte d'Azur</td>\n",
       "      <td>2023-03-19</td>\n",
       "      <td>4116</td>\n",
       "    </tr>\n",
       "    <tr>\n",
       "      <th>41760</th>\n",
       "      <td>Provence-Alpes-Côte d'Azur</td>\n",
       "      <td>2023-03-20</td>\n",
       "      <td>4257</td>\n",
       "    </tr>\n",
       "    <tr>\n",
       "      <th>41761</th>\n",
       "      <td>Provence-Alpes-Côte d'Azur</td>\n",
       "      <td>2023-03-21</td>\n",
       "      <td>4277</td>\n",
       "    </tr>\n",
       "  </tbody>\n",
       "</table>\n",
       "<p>982 rows × 3 columns</p>\n",
       "</div>"
      ],
      "text/plain": [
       "                           region       date  consumption\n",
       "38030  Provence-Alpes-Côte d'Azur 2013-01-01         5369\n",
       "38031  Provence-Alpes-Côte d'Azur 2013-01-02         5834\n",
       "38032  Provence-Alpes-Côte d'Azur 2013-01-03         5948\n",
       "38033  Provence-Alpes-Côte d'Azur 2013-01-04         5974\n",
       "38034  Provence-Alpes-Côte d'Azur 2013-01-05         5580\n",
       "...                           ...        ...          ...\n",
       "41757  Provence-Alpes-Côte d'Azur 2023-03-17         4442\n",
       "41758  Provence-Alpes-Côte d'Azur 2023-03-18         4258\n",
       "41759  Provence-Alpes-Côte d'Azur 2023-03-19         4116\n",
       "41760  Provence-Alpes-Côte d'Azur 2023-03-20         4257\n",
       "41761  Provence-Alpes-Côte d'Azur 2023-03-21         4277\n",
       "\n",
       "[982 rows x 3 columns]"
      ]
     },
     "execution_count": 216,
     "metadata": {},
     "output_type": "execute_result"
    }
   ],
   "source": [
    "winter_data_prov"
   ]
  },
  {
   "cell_type": "code",
   "execution_count": 217,
   "metadata": {
    "id": "RAsW3KMzviv3"
   },
   "outputs": [
    {
     "data": {
      "image/png": "[encoded data removed]",
      "text/plain": [
       "<Figure size 432x288 with 1 Axes>"
      ]
     },
     "metadata": {
      "needs_background": "light"
     },
     "output_type": "display_data"
    }
   ],
   "source": [
    "consump_bret=winter_data_bret[\"consumption\"]\n",
    "consump_bret_list = consump_bret.tolist()\n",
    "consump_prov = winter_data_prov[\"consumption\"]\n",
    "consump_prov_list = consump_prov.tolist()\n",
    "sns.scatterplot(x=consump_bret_list, y=consump_prov_list)\n",
    "plt.show()\n"
   ]
  },
  {
   "cell_type": "markdown",
   "metadata": {
    "id": "UZj8-1j3viv4"
   },
   "source": [
    "2. Do you think the power consumption in these two regions is independent?"
   ]
  },
  {
   "cell_type": "markdown",
   "metadata": {
    "id": "xMEFL1UVviv5"
   },
   "source": [
    "Your answer:\n",
    "\n",
    "**The power consumption in these two regions is not independent, because the joint distributin is localised in a limited area on the plot**"
   ]
  },
  {
   "cell_type": "markdown",
   "metadata": {
    "id": "VPK2ov8Eviv5"
   },
   "source": [
    "3. Propose a chi-2 test for the independence of the power consumption in these two regions at level $\\alpha$."
   ]
  },
  {
   "cell_type": "markdown",
   "metadata": {
    "id": "PGxTmDJyviv5"
   },
   "source": [
    "Your answer:\n",
    "\n",
    "**We denote by $X$ (resp. $Y$) the variable that represents the power consumption in Bretagne (resp. Provence-Alpes-Côte d'Azur)**\n",
    "\n",
    "**null hypothesis $H_0 =$ {$X$ and $Y$ are inedependent}**\n",
    "\n",
    "**alternative hypothesis $H_1 = $ {$X$ and $Y$ are not independent}**\n",
    "\n",
    "**We denote by $N_x$ (resp. $N_y$) the number of distinct values taken by the variable $X$ (resp. $Y$)**\n",
    "\n",
    "**the joint variable (X,Y) can take the values $(x_i,y_j)$ for $i$ in ${1,...,N_x}$ and $j$ in ${1,...N_y}$**\n",
    "\n",
    "**and We denote $N_{x_i,y_j}$ by $N_{ij}$**\n",
    "\n",
    "**$T(X,Y)=\\sum_{i = 1,..N_x}\\sum_{j=1,..N_y} \\frac {(N_{ij}-\\frac{N_iN_j}{n})^2}{\\frac{N_iN_j}{n}}$**\n",
    "\n",
    "**the chi-2 test at level $\\alpha$ is $\\delta(x,y) = 1_{T(x,y)>c}$**\n",
    "\n",
    "**$c= Q(1-\\alpha)$ where $Q$ is the quantile function of the $χ2((N_x−1)(N_y−1))$**\n",
    "\n"
   ]
  },
  {
   "cell_type": "markdown",
   "metadata": {
    "id": "GFa0LfM1viv6"
   },
   "source": [
    "4. Give the result of this test for $\\alpha=1\\%$."
   ]
  },
  {
   "cell_type": "code",
   "execution_count": 218,
   "metadata": {
    "id": "XtzprjkEviv6"
   },
   "outputs": [],
   "source": [
    "bret_values = consump_bret.value_counts()\n",
    "prov_values = consump_prov.value_counts()\n",
    "prov_values_list = prov_values.tolist()\n",
    "bret_values_list = bret_values.tolist()\n",
    "Nx = len(bret_values_list)\n",
    "Ny = len(prov_values_list)\n",
    "n = len(consump_bret_list)\n",
    "T=0\n",
    "for i in range(Nx):\n",
    "    for j in range(Ny):\n",
    "        T+= (bret_values_list[i]*prov_values_list[j]-bret_values_list[i]*prov_values_list[j]/n)/(bret_values_list[i]*prov_values_list[j]/n)\n"
   ]
  },
  {
   "cell_type": "code",
   "execution_count": 219,
   "metadata": {},
   "outputs": [
    {
     "name": "stdout",
     "output_type": "stream",
     "text": [
      "1\n"
     ]
    }
   ],
   "source": [
    "alpha2 = 0.95\n",
    "c2= chi2.ppf(1-0.95, (Nx-1)*(Ny-1))\n",
    "def chi2_test(T):\n",
    "    if T>c2: return 1\n",
    "    else: return 0\n",
    "print(chi2_test(T))\n",
    " "
   ]
  },
  {
   "cell_type": "markdown",
   "metadata": {},
   "source": [
    "**The null hypothesis is refuted, and the test concludes that X and Y are not independent**"
   ]
  },
  {
   "cell_type": "markdown",
   "metadata": {
    "id": "YRfzKKPUviv7"
   },
   "source": [
    "## F. Confidence intervals"
   ]
  },
  {
   "cell_type": "markdown",
   "metadata": {
    "id": "25s9sR-uviv7"
   },
   "source": [
    "Consider the region Bretagne in winter.\n",
    "\n",
    "1. Provide a confidence interval at level $\\alpha=95\\%$ for the mean power consumption."
   ]
  },
  {
   "cell_type": "markdown",
   "metadata": {
    "id": "j6TE0bsGviv7"
   },
   "source": [
    "**we use the pivot function$\\phi_{\\theta}(x)=\\frac{\\sqrt(n)}{\\hat\\sigma}(\\bar x-\\theta)$ where $\\theta$ is the parameter representing the mean and $\\bar{x} = \\frac 1 n \\sum_{i=1}^{n} x_i$ an $\\hat\\sigma$ is the estimator of the standard deviation**\n",
    "\n",
    "**if we take $Z =\\phi_{\\theta}(X)$ and c that verifies $P(Z\\in [-c,c])=\\alpha$**\n",
    "\n",
    "**then the confidence interbal is defined as $\\delta(x) = [\\bar{x}-\\frac{c\\hat\\sigma}{\\sqrt n},\\bar{x}+\\frac{c\\hat\\sigma}{\\sqrt n}]$**\n",
    "\n",
    "**that c can be found as $c = Q(\\frac{1+\\alpha}2)$ where Q is the quantile of the student distribution of n-1 degrees of freedom**"
   ]
  },
  {
   "cell_type": "code",
   "execution_count": 220,
   "metadata": {},
   "outputs": [
    {
     "name": "stdout",
     "output_type": "stream",
     "text": [
      "the lower bound of the confidence interval is  3188.5358856463263\n",
      "the upper bound of the confidence interval is  3239.820529832289\n"
     ]
    },
    {
     "name": "stderr",
     "output_type": "stream",
     "text": [
      "<ipython-input-196-3fd599348a34>:13: UserWarning: Boolean Series key will be reindexed to match DataFrame index.\n",
      "  winter_data= df_region[mask]\n",
      "<ipython-input-196-3fd599348a34>:3: UserWarning: Boolean Series key will be reindexed to match DataFrame index.\n",
      "  winter_data= df_region[mask]\n",
      "<ipython-input-196-3fd599348a34>:3: UserWarning: Boolean Series key will be reindexed to match DataFrame index.\n",
      "  winter_data= df_region[mask]\n",
      "<ipython-input-220-48eaa1a4e89d>:6: UserWarning: Boolean Series key will be reindexed to match DataFrame index.\n",
      "  winter_data= df_region[mask]\n"
     ]
    }
   ],
   "source": [
    "region = \"Bretagne\"\n",
    "alph = 0.95\n",
    "sigma_hat = winter_devi_estim(region)\n",
    "x_bar = winter_mean_estim(region)\n",
    "df_region = df[df.region == region]\n",
    "winter_data= df_region[mask]\n",
    "consump=winter_data[\"consumption\"]\n",
    "consump_list = consump.tolist()\n",
    "n=len(consump_list)\n",
    "c = t.ppf((1+alph)/2, n-1)\n",
    "m = x_bar - c*sigma_hat/np.sqrt(n)\n",
    "M = x_bar + c*sigma_hat/np.sqrt(n)\n",
    "print(\"the lower bound of the confidence interval is \",m)\n",
    "print(\"the upper bound of the confidence interval is \",M)\n"
   ]
  },
  {
   "cell_type": "markdown",
   "metadata": {
    "id": "ym8noiPNviv7"
   },
   "source": [
    "2. Give the result of a Student test at level $5\\%$ for the null hypothesis that the mean consumption in 2023 is equal to 3100MW."
   ]
  },
  {
   "cell_type": "code",
   "execution_count": 222,
   "metadata": {
    "id": "ICvSMYv5viv8"
   },
   "outputs": [
    {
     "name": "stdout",
     "output_type": "stream",
     "text": [
      "the lower bound of the confidence interval is  3311.60794234518\n",
      "the upper bound of the confidence interval is  3477.06705765482\n"
     ]
    },
    {
     "name": "stderr",
     "output_type": "stream",
     "text": [
      "<ipython-input-197-c8a5aed13d7c>:15: UserWarning: Boolean Series key will be reindexed to match DataFrame index.\n",
      "  winter_data= df_region[mask]\n",
      "<ipython-input-197-c8a5aed13d7c>:3: UserWarning: Boolean Series key will be reindexed to match DataFrame index.\n",
      "  winter_data= df_region[mask]\n",
      "<ipython-input-197-c8a5aed13d7c>:3: UserWarning: Boolean Series key will be reindexed to match DataFrame index.\n",
      "  winter_data= df_region[mask]\n",
      "<ipython-input-222-44ebcb97db4e>:6: UserWarning: Boolean Series key will be reindexed to match DataFrame index.\n",
      "  winter_data= df_region[mask]\n"
     ]
    }
   ],
   "source": [
    "region = \"Bretagne\"\n",
    "alph2 = 0.05\n",
    "sigma_hat2 = winter_2023_devi_estim(region)\n",
    "x_bar2 = winter_2023_mean_estim(region)\n",
    "df_region = df[df.region == region]\n",
    "winter_data= df_region[mask]\n",
    "winter_data_2023 =winter_data[mask_2023]\n",
    "consump_2023=winter_data_2023[\"consumption\"]\n",
    "consump_2023_list = consump_2023.tolist()\n",
    "n2=len(consump_2023_list)\n",
    "c_2 = t.ppf(1-alph2/2, n2-1)\n",
    "m2 = x_bar2 - c_2*sigma_hat2/np.sqrt(n2)\n",
    "M2 = x_bar2 + c_2*sigma_hat2/np.sqrt(n2)\n",
    "print(\"the lower bound of the confidence interval is \",m2)\n",
    "print(\"the upper bound of the confidence interval is \",M2)"
   ]
  },
  {
   "cell_type": "markdown",
   "metadata": {},
   "source": [
    "**Since the value 3100MW does not belong to the corresponding confidence interval, the null hypothesis is refuted.**"
   ]
  },
  {
   "cell_type": "code",
   "execution_count": null,
   "metadata": {},
   "outputs": [],
   "source": []
  }
 ],
 "metadata": {
  "colab": {
   "provenance": []
  },
  "kernelspec": {
   "display_name": "Python 3",
   "language": "python",
   "name": "python3"
  },
  "language_info": {
   "codemirror_mode": {
    "name": "ipython",
    "version": 3
   },
   "file_extension": ".py",
   "mimetype": "text/x-python",
   "name": "python",
   "nbconvert_exporter": "python",
   "pygments_lexer": "ipython3",
   "version": "3.8.3"
  }
 },
 "nbformat": 4,
 "nbformat_minor": 5
}
