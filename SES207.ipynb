{
 "cells": [
  {
   "cell_type": "code",
   "execution_count": 9,
   "id": "a58a1f20-d6d0-4421-b45e-9e4cbe3f81bd",
   "metadata": {},
   "outputs": [
    {
     "name": "stdout",
     "output_type": "stream",
     "text": [
      "Requirement already satisfied: nltk in /home/tiphaine/anaconda3/lib/python3.9/site-packages (3.6.5)\n",
      "Requirement already satisfied: click in /home/tiphaine/anaconda3/lib/python3.9/site-packages (from nltk) (8.0.3)\n",
      "Requirement already satisfied: joblib in /home/tiphaine/anaconda3/lib/python3.9/site-packages (from nltk) (1.1.0)\n",
      "Requirement already satisfied: regex>=2021.8.3 in /home/tiphaine/anaconda3/lib/python3.9/site-packages (from nltk) (2021.8.3)\n",
      "Requirement already satisfied: tqdm in /home/tiphaine/anaconda3/lib/python3.9/site-packages (from nltk) (4.62.3)\n",
      "Requirement already satisfied: scikit-network in /home/tiphaine/anaconda3/lib/python3.9/site-packages (0.28.1)\n",
      "Requirement already satisfied: scipy>=1.7.3 in /home/tiphaine/anaconda3/lib/python3.9/site-packages (from scikit-network) (1.9.1)\n",
      "Requirement already satisfied: numpy>=1.22.0 in /home/tiphaine/anaconda3/lib/python3.9/site-packages (from scikit-network) (1.24.1)\n",
      "Requirement already satisfied: numpy in /home/tiphaine/anaconda3/lib/python3.9/site-packages (1.24.1)\n"
     ]
    }
   ],
   "source": [
    "!pip install nltk\n",
    "!pip install scikit-network\n",
    "!pip install numpy"
   ]
  },
  {
   "cell_type": "code",
   "execution_count": 8,
   "id": "2b6b191a-03c5-4544-96a2-d4f5d5c2da01",
   "metadata": {},
   "outputs": [],
   "source": [
    "from nltk import stem\n",
    "import numpy as np\n",
    "from operator import itemgetter"
   ]
  },
  {
   "cell_type": "markdown",
   "id": "92064757-2c14-4151-b00a-496ded551362",
   "metadata": {},
   "source": [
    "## Download and extract the data\n",
    "\n",
    "From [here](https://snap.stanford.edu/data/bigdata/memetracker9/quotes_2008-08.txt.gz). Extract it on your computer (or alternatively upload it to Google Colab)."
   ]
  },
  {
   "cell_type": "markdown",
   "id": "869d5739-5ffd-48d2-97c0-9ed16af2f3c0",
   "metadata": {
    "tags": []
   },
   "source": [
    "## Parsing the Memetracker data\n",
    "\n",
    "Each line of the data is structured as a tuple (MARKER, TEXT), where the first letter of the line encodes:\n",
    "\n",
    "- P: URL of the document\n",
    "- T: time of the post (timestamp)\n",
    "- Q: phrase extracted from the text of the document\n",
    "- L: hyper-links in the document (links pointing to other documents on the web)\n",
    "\n",
    "Note some documents have zero phrases or zero links. "
   ]
  },
  {
   "cell_type": "code",
   "execution_count": 13,
   "id": "8080dce6-d480-476d-85cb-5f06c300569e",
   "metadata": {},
   "outputs": [],
   "source": [
    "L = 4 # minimum sentence length\n",
    "M = 20 # minimum frequency threshold\n",
    "FILEPATH = \"./quotes_2008-08.txt\" # PUT YOUR FILE PATH HERE\""
   ]
  },
  {
   "cell_type": "code",
   "execution_count": 2,
   "id": "4460343f-10a1-4517-b738-3dd2c6c6a13f",
   "metadata": {},
   "outputs": [
    {
     "ename": "FileNotFoundError",
     "evalue": "[Errno 2] No such file or directory: './quotes_2008-08.txt'",
     "output_type": "error",
     "traceback": [
      "\u001b[0;31m---------------------------------------------------------------------------\u001b[0m",
      "\u001b[0;31mFileNotFoundError\u001b[0m                         Traceback (most recent call last)",
      "\u001b[0;32m/tmp/ipykernel_251444/653239215.py\u001b[0m in \u001b[0;36m<module>\u001b[0;34m\u001b[0m\n\u001b[0;32m----> 1\u001b[0;31m \u001b[0mf\u001b[0m \u001b[0;34m=\u001b[0m \u001b[0mopen\u001b[0m\u001b[0;34m(\u001b[0m\u001b[0mFILEPATH\u001b[0m\u001b[0;34m)\u001b[0m\u001b[0;34m\u001b[0m\u001b[0;34m\u001b[0m\u001b[0m\n\u001b[0m\u001b[1;32m      2\u001b[0m \u001b[0mquotes\u001b[0m \u001b[0;34m=\u001b[0m \u001b[0;34m{\u001b[0m\u001b[0;34m}\u001b[0m\u001b[0;34m\u001b[0m\u001b[0;34m\u001b[0m\u001b[0m\n\u001b[1;32m      3\u001b[0m \u001b[0mMAX_LINES\u001b[0m \u001b[0;34m=\u001b[0m \u001b[0;36m1000000\u001b[0m\u001b[0;34m\u001b[0m\u001b[0;34m\u001b[0m\u001b[0m\n\u001b[1;32m      4\u001b[0m \u001b[0mi\u001b[0m\u001b[0;34m=\u001b[0m \u001b[0;36m0\u001b[0m\u001b[0;34m\u001b[0m\u001b[0;34m\u001b[0m\u001b[0m\n\u001b[1;32m      5\u001b[0m \u001b[0;34m\u001b[0m\u001b[0m\n",
      "\u001b[0;31mFileNotFoundError\u001b[0m: [Errno 2] No such file or directory: './quotes_2008-08.txt'"
     ]
    }
   ],
   "source": [
    "f = open(FILEPATH)\n",
    "quotes = {}\n",
    "MAX_LINES = 1000000\n",
    "i= 0\n",
    "\n",
    "for line in f:\n",
    "    if i > MAX_LINES:\n",
    "        break\n",
    "    \n",
    "    contents = line.strip().split(\"\\t\")\n",
    "    \n",
    "    if line == \"\\n\":\n",
    "        domain = None\n",
    "        ts = None\n",
    "    else:\n",
    "        marker = contents[0]\n",
    "        text = contents[1]\n",
    "    \n",
    "        if marker == \"P\":\n",
    "            domain = text\n",
    "        elif marker == \"T\":\n",
    "            ts = text\n",
    "        elif marker == \"Q\":\n",
    "            splitted_text = text.split(\" \")\n",
    "            if len(splitted_text) >= L:\n",
    "                \n",
    "                if text in quotes:\n",
    "                    quotes[text][\"domains\"].append(domain)\n",
    "                    quotes[text][\"timestamps\"].append(ts)\n",
    "                else:\n",
    "                    quotes[text] = {\"domains\": [domain], \"timestamps\": [ts]}\n",
    "                    \n",
    "    i += 1"
   ]
  },
  {
   "cell_type": "markdown",
   "id": "9d18a1a7-9dd9-4759-815b-86993d9b0a8c",
   "metadata": {},
   "source": [
    "Choisissez une phrase (la première, peu importe) et affichez ses noms de domaine et timestamps pour vous familiariser avec la structure de données."
   ]
  },
  {
   "cell_type": "code",
   "execution_count": null,
   "id": "a54d6866-67cf-40b9-8f99-d4e8009b37ce",
   "metadata": {},
   "outputs": [],
   "source": []
  },
  {
   "cell_type": "markdown",
   "id": "daa3b7d6-1cc0-440c-9a35-a2aa1c0553c6",
   "metadata": {},
   "source": [
    "Combien de phrases contient notre dataset ?"
   ]
  },
  {
   "cell_type": "code",
   "execution_count": null,
   "id": "6bc90eef-2bea-40e6-8642-e4fbd8ce1c41",
   "metadata": {},
   "outputs": [],
   "source": []
  },
  {
   "cell_type": "markdown",
   "id": "0df15264-ea14-4e15-bec9-139091e15cec",
   "metadata": {},
   "source": [
    "On nettoie les données initiales pour ne conserver que les phrases qui apparaissent au moins $M$ fois."
   ]
  },
  {
   "cell_type": "code",
   "execution_count": 14,
   "id": "3bfea533-b8b2-4456-8191-c45787ef36c2",
   "metadata": {},
   "outputs": [
    {
     "data": {
      "text/plain": [
       "387"
      ]
     },
     "execution_count": 14,
     "metadata": {},
     "output_type": "execute_result"
    }
   ],
   "source": [
    "curated_data = []\n",
    "for x in quotes:\n",
    "    if len(quotes[x][\"domains\"]) > M:\n",
    "        curated_data.append(x)\n",
    "len(curated_data)"
   ]
  },
  {
   "cell_type": "markdown",
   "id": "fde27acc-d381-4fb3-92bd-d1978551a5d1",
   "metadata": {},
   "source": [
    "## Construire le graphe de phrases\n",
    "\n",
    "On veut construire un graphe dirigé, où chaque noeud $i$ est un fragment de phrase observé dans nos données, et il existe une arête entre deux noeuds $i$ et $j$ si $i$ est inclus dans $j$. \n"
   ]
  },
  {
   "cell_type": "code",
   "execution_count": 20,
   "id": "fbf92ab9-6d5f-493c-8d34-c9de240b48d2",
   "metadata": {
    "tags": []
   },
   "outputs": [],
   "source": [
    "def inclusion(i, j, edit_distance=1):\n",
    "    stemmer = stem.PorterStemmer()\n",
    "    # écrire une fonction qui renvoie vrai si i est inclus dans j, faux sinon.\n",
    "    # variante : la fonction renvoie vrai si i est inclus dans j à un mot près (ie. \"this is really great\" est alors inclus dans \"this is great news for anyone interested in bats\"\n",
    "    # si vous le souhaitez, vous pouvez gagner en généralité en utilisant le stemmer défini : pour un mot, stemmer.stem(mot) vous donne sa racine, ie. stemmer.stem(\"eating\") renvoie \"eat\".\n",
    "    return False\n",
    "    "
   ]
  },
  {
   "cell_type": "markdown",
   "id": "8409226f-8aee-4143-b1ba-0fd05eb3f5c4",
   "metadata": {},
   "source": [
    "Construisez une liste `list_edges` de tuples $(i,j,w)$, chaque tuple signifiant que les phrases i et j sont reliées (utilisez la fonction d'inclusion définie plus haut), et qu'elles apparaissent $w$ fois. Les cellules suivantes utiliseront cette liste pour construire le graphe de phrases. Vous pourrez stocker les noeuds (les phrases) dans le dictionnaire `nodes`."
   ]
  },
  {
   "cell_type": "code",
   "execution_count": 21,
   "id": "fabf113e-049c-4165-b4e2-819558b31703",
   "metadata": {},
   "outputs": [
    {
     "data": {
      "text/plain": [
       "0"
      ]
     },
     "execution_count": 21,
     "metadata": {},
     "output_type": "execute_result"
    }
   ],
   "source": [
    "cpt_nodes = 0\n",
    "nodes = {}\n",
    "edges = {}\n",
    "labels = [ \"a\" for i in range(len(curated_data))]\n",
    "\n",
    "for ind_i, i in enumerate(curated_data):\n",
    "    i = i.split(\" \")\n",
    "    for ind_j, j in enumerate(curated_data):\n",
    "        if i == j:\n",
    "            continue\n",
    "        \n",
    "        j = j.split(\" \")\n",
    "        if len(i) < len(j):\n",
    "            if inclusion(i, j):\n",
    "                if not tuple(i) in nodes:\n",
    "                    nodes[tuple(i)] = cpt_nodes\n",
    "                    cpt_nodes += 1\n",
    "                if not tuple(j) in nodes:\n",
    "                    nodes[tuple(j)] = cpt_nodes\n",
    "                    cpt_nodes += 1\n",
    "\n",
    "                \n",
    "                e = (nodes[tuple(i)], nodes[tuple(j)])\n",
    "                if e in edges:\n",
    "                    edges[e] += 1\n",
    "                else:\n",
    "                    edges[e] = 1\n",
    "list_edges = [ (i[0], i[1], edges[i]) for i in edges ]\n",
    "len(list_edges)"
   ]
  },
  {
   "cell_type": "code",
   "execution_count": 89,
   "id": "ea6c7362-abfe-4c62-91f0-1f877695543f",
   "metadata": {},
   "outputs": [],
   "source": [
    "import sknetwork as skn\n",
    "from IPython.display import SVG"
   ]
  },
  {
   "cell_type": "code",
   "execution_count": 91,
   "id": "7594436f-d089-4391-abd2-5a4adb211c4d",
   "metadata": {},
   "outputs": [
    {
     "data": {
      "text/plain": [
       "37"
      ]
     },
     "execution_count": 91,
     "metadata": {},
     "output_type": "execute_result"
    }
   ],
   "source": [
    "g = skn.data.from_edge_list(list_edges, directed=True, weighted=True)\n",
    "n = g.shape[0]\n",
    "names = [ \" \".join(x) for x in nodes.keys() ]\n",
    "n"
   ]
  },
  {
   "cell_type": "markdown",
   "id": "fb90b0ac-2ce5-43c3-a1f0-94c22abb2a79",
   "metadata": {},
   "source": [
    "Si votre graphe n'est pas trop gros, vous pouvez essayer de le viasualiser :) !"
   ]
  },
  {
   "cell_type": "code",
   "execution_count": 96,
   "id": "77bbc0cb-06e0-4cc3-ab3e-178171bc33c5",
   "metadata": {},
   "outputs": [
    {
     "data": {
      "image/svg+xml": [
       "<svg xmlns=\"http://www.w3.org/2000/svg\" width=\"11497.673510896173\" height=\"340\">\n",
       "<defs><marker id=\"arrow-gray\" markerWidth=\"10\" markerHeight=\"10\" refX=\"9\" refY=\"3\" orient=\"auto\">\n",
       "<path d=\"M0,0 L0,6 L9,3 z\" fill=\"gray\"/></marker></defs>\n",
       "<path stroke-width=\"1\" stroke=\"gray\" d=\"M 283 249 282 252\" marker-end=\"url(#arrow-gray)\"/>\n",
       "<path stroke-width=\"1\" stroke=\"gray\" d=\"M 413 190 415 193\" marker-end=\"url(#arrow-gray)\"/>\n",
       "<path stroke-width=\"1\" stroke=\"gray\" d=\"M 413 190 407 189\" marker-end=\"url(#arrow-gray)\"/>\n",
       "<path stroke-width=\"1\" stroke=\"gray\" d=\"M 20 193 20 192\" marker-end=\"url(#arrow-gray)\"/>\n",
       "<path stroke-width=\"1\" stroke=\"gray\" d=\"M 190 262 189 260\" marker-end=\"url(#arrow-gray)\"/>\n",
       "<path stroke-width=\"1\" stroke=\"gray\" d=\"M 343 84 339 83\" marker-end=\"url(#arrow-gray)\"/>\n",
       "<path stroke-width=\"1\" stroke=\"gray\" d=\"M 315 316 312 318\" marker-end=\"url(#arrow-gray)\"/>\n",
       "<path stroke-width=\"1\" stroke=\"gray\" d=\"M 238 110 236 112\" marker-end=\"url(#arrow-gray)\"/>\n",
       "<path stroke-width=\"1\" stroke=\"gray\" d=\"M 233 20 235 21\" marker-end=\"url(#arrow-gray)\"/>\n",
       "<path stroke-width=\"1\" stroke=\"gray\" d=\"M 147 36 150 37\" marker-end=\"url(#arrow-gray)\"/>\n",
       "<path stroke-width=\"1\" stroke=\"gray\" d=\"M 413 190 416 187\" marker-end=\"url(#arrow-gray)\"/>\n",
       "<path stroke-width=\"1\" stroke=\"gray\" d=\"M 171 179 165 178\" marker-end=\"url(#arrow-gray)\"/>\n",
       "<path stroke-width=\"1\" stroke=\"gray\" d=\"M 171 179 174 182\" marker-end=\"url(#arrow-gray)\"/>\n",
       "<path stroke-width=\"1\" stroke=\"gray\" d=\"M 56 264 57 265\" marker-end=\"url(#arrow-gray)\"/>\n",
       "<path stroke-width=\"1\" stroke=\"gray\" d=\"M 285 267 284 264\" marker-end=\"url(#arrow-gray)\"/>\n",
       "<path stroke-width=\"1\" stroke=\"gray\" d=\"M 126 286 128 287\" marker-end=\"url(#arrow-gray)\"/>\n",
       "<path stroke-width=\"1\" stroke=\"gray\" d=\"M 40 121 37 122\" marker-end=\"url(#arrow-gray)\"/>\n",
       "<path stroke-width=\"1\" stroke=\"gray\" d=\"M 137 96 133 97\" marker-end=\"url(#arrow-gray)\"/>\n",
       "<path stroke-width=\"1\" stroke=\"gray\" d=\"M 137 96 141 95\" marker-end=\"url(#arrow-gray)\"/>\n",
       "<path stroke-width=\"1\" stroke=\"gray\" d=\"M 274 252 277 254\" marker-end=\"url(#arrow-gray)\"/>\n",
       "<path stroke-width=\"1\" stroke=\"gray\" d=\"M 283 249 280 251\" marker-end=\"url(#arrow-gray)\"/>\n",
       "<path stroke-width=\"1\" stroke=\"gray\" d=\"M 171 179 174 176\" marker-end=\"url(#arrow-gray)\"/>\n",
       "<path stroke-width=\"1\" stroke=\"gray\" d=\"M 321 155 320 156\" marker-end=\"url(#arrow-gray)\"/>\n",
       "<circle cx=\"283\" cy=\"249\" r=\"7.0\" style=\"fill:gray;stroke:black;stroke-width:1.0\"/>\n",
       "<circle cx=\"282\" cy=\"258\" r=\"7.0\" style=\"fill:gray;stroke:black;stroke-width:1.0\"/>\n",
       "<circle cx=\"274\" cy=\"252\" r=\"7.0\" style=\"fill:gray;stroke:black;stroke-width:1.0\"/>\n",
       "<circle cx=\"137\" cy=\"96\" r=\"7.0\" style=\"fill:gray;stroke:black;stroke-width:1.0\"/>\n",
       "<circle cx=\"147\" cy=\"93\" r=\"7.0\" style=\"fill:gray;stroke:black;stroke-width:1.0\"/>\n",
       "<circle cx=\"127\" cy=\"99\" r=\"7.0\" style=\"fill:gray;stroke:black;stroke-width:1.0\"/>\n",
       "<circle cx=\"40\" cy=\"121\" r=\"7.0\" style=\"fill:gray;stroke:black;stroke-width:1.0\"/>\n",
       "<circle cx=\"32\" cy=\"125\" r=\"7.0\" style=\"fill:gray;stroke:black;stroke-width:1.0\"/>\n",
       "<circle cx=\"126\" cy=\"286\" r=\"7.0\" style=\"fill:gray;stroke:black;stroke-width:1.0\"/>\n",
       "<circle cx=\"133\" cy=\"291\" r=\"7.0\" style=\"fill:gray;stroke:black;stroke-width:1.0\"/>\n",
       "<circle cx=\"285\" cy=\"267\" r=\"7.0\" style=\"fill:gray;stroke:black;stroke-width:1.0\"/>\n",
       "<circle cx=\"56\" cy=\"264\" r=\"7.0\" style=\"fill:gray;stroke:black;stroke-width:1.0\"/>\n",
       "<circle cx=\"57\" cy=\"271\" r=\"7.0\" style=\"fill:gray;stroke:black;stroke-width:1.0\"/>\n",
       "<circle cx=\"171\" cy=\"179\" r=\"7.0\" style=\"fill:gray;stroke:black;stroke-width:1.0\"/>\n",
       "<circle cx=\"177\" cy=\"187\" r=\"7.0\" style=\"fill:gray;stroke:black;stroke-width:1.0\"/>\n",
       "<circle cx=\"178\" cy=\"171\" r=\"7.0\" style=\"fill:gray;stroke:black;stroke-width:1.0\"/>\n",
       "<circle cx=\"159\" cy=\"178\" r=\"7.0\" style=\"fill:gray;stroke:black;stroke-width:1.0\"/>\n",
       "<circle cx=\"147\" cy=\"36\" r=\"7.0\" style=\"fill:gray;stroke:black;stroke-width:1.0\"/>\n",
       "<circle cx=\"156\" cy=\"38\" r=\"7.0\" style=\"fill:gray;stroke:black;stroke-width:1.0\"/>\n",
       "<circle cx=\"233\" cy=\"20\" r=\"7.0\" style=\"fill:gray;stroke:black;stroke-width:1.0\"/>\n",
       "<circle cx=\"241\" cy=\"24\" r=\"7.0\" style=\"fill:gray;stroke:black;stroke-width:1.0\"/>\n",
       "<circle cx=\"238\" cy=\"110\" r=\"7.0\" style=\"fill:gray;stroke:black;stroke-width:1.0\"/>\n",
       "<circle cx=\"233\" cy=\"117\" r=\"7.0\" style=\"fill:gray;stroke:black;stroke-width:1.0\"/>\n",
       "<circle cx=\"315\" cy=\"316\" r=\"7.0\" style=\"fill:gray;stroke:black;stroke-width:1.0\"/>\n",
       "<circle cx=\"306\" cy=\"320\" r=\"7.0\" style=\"fill:gray;stroke:black;stroke-width:1.0\"/>\n",
       "<circle cx=\"343\" cy=\"84\" r=\"7.0\" style=\"fill:gray;stroke:black;stroke-width:1.0\"/>\n",
       "<circle cx=\"333\" cy=\"83\" r=\"7.0\" style=\"fill:gray;stroke:black;stroke-width:1.0\"/>\n",
       "<circle cx=\"190\" cy=\"262\" r=\"7.0\" style=\"fill:gray;stroke:black;stroke-width:1.0\"/>\n",
       "<circle cx=\"189\" cy=\"254\" r=\"7.0\" style=\"fill:gray;stroke:black;stroke-width:1.0\"/>\n",
       "<circle cx=\"20\" cy=\"193\" r=\"7.0\" style=\"fill:gray;stroke:black;stroke-width:1.0\"/>\n",
       "<circle cx=\"24\" cy=\"187\" r=\"7.0\" style=\"fill:gray;stroke:black;stroke-width:1.0\"/>\n",
       "<circle cx=\"413\" cy=\"190\" r=\"7.0\" style=\"fill:gray;stroke:black;stroke-width:1.0\"/>\n",
       "<circle cx=\"401\" cy=\"189\" r=\"7.0\" style=\"fill:gray;stroke:black;stroke-width:1.0\"/>\n",
       "<circle cx=\"417\" cy=\"199\" r=\"7.0\" style=\"fill:gray;stroke:black;stroke-width:1.0\"/>\n",
       "<circle cx=\"420\" cy=\"182\" r=\"7.0\" style=\"fill:gray;stroke:black;stroke-width:1.0\"/>\n",
       "<circle cx=\"321\" cy=\"155\" r=\"7.0\" style=\"fill:gray;stroke:black;stroke-width:1.0\"/>\n",
       "<circle cx=\"317\" cy=\"162\" r=\"7.0\" style=\"fill:gray;stroke:black;stroke-width:1.0\"/>\n",
       "<text text-anchor=\"start\" x=\"293\" y=\"249\" font-size=\"12\">divisive negative shameful and wrong</text><text text-anchor=\"start\" x=\"292\" y=\"258\" font-size=\"12\">barack obama has played the race card and he played it from the bottom of the deck it's divisive negative shameful and wrong</text><text text-anchor=\"start\" x=\"284\" y=\"252\" font-size=\"12\">it's divisive negative shameful and wrong</text><text text-anchor=\"start\" x=\"147\" y=\"96\" font-size=\"12\">a major development in great britain</text><text text-anchor=\"start\" x=\"157\" y=\"93\" font-size=\"12\">after in depth discussions edf considers that the conditions for a major development in great britain are not met to date</text><text text-anchor=\"start\" x=\"137\" y=\"99\" font-size=\"12\">after in-depth discussions edf considers that the conditions for a major development in great britain are not met to date</text><text text-anchor=\"start\" x=\"50\" y=\"121\" font-size=\"12\">doesn't look like all those other presidents on the dollar bills</text><text text-anchor=\"start\" x=\"42\" y=\"125\" font-size=\"12\">you know he's not patriotic enough he's got a funny name you know he doesn't look like all those other presidents on the dollar bills</text><text text-anchor=\"start\" x=\"136\" y=\"286\" font-size=\"12\">what they're going to try to do is make you scared of me</text><text text-anchor=\"start\" x=\"143\" y=\"291\" font-size=\"12\">nobody thinks that bush and mccain have a real answer to the challenges we face so what they're going to try to do is make you scared of me</text><text text-anchor=\"start\" x=\"295\" y=\"267\" font-size=\"12\">barack obama has played the race card and he played it from the bottom of the deck</text><text text-anchor=\"start\" x=\"66\" y=\"264\" font-size=\"12\">the day after roswell</text><text text-anchor=\"start\" x=\"67\" y=\"271\" font-size=\"12\">in the days leading up to and following my testimony my friends told me amazing and poetic basketball stories about their fathers sons and jump shots these were love stories</text><text text-anchor=\"start\" x=\"181\" y=\"179\" font-size=\"12\">i don't think so</text><text text-anchor=\"start\" x=\"187\" y=\"187\" font-size=\"12\">when a player like manny becomes available i don't think there's a manager in baseball who wouldn't say they're interested</text><text text-anchor=\"start\" x=\"188\" y=\"171\" font-size=\"12\">i don't mind being punished for something i did not for something i didn't do</text><text text-anchor=\"start\" x=\"169\" y=\"178\" font-size=\"12\">there are plenty who will have a go at the right time so i don't think it's going to be an easy passage for peter whenever and i'm not sure that he'll ever be drafted</text><text text-anchor=\"start\" x=\"157\" y=\"36\" font-size=\"12\">every bit of that's got to change</text><text text-anchor=\"start\" x=\"166\" y=\"38\" font-size=\"12\">we're borrowing money from china to buy oil from the persian gulf to burn it in ways that destroy the planet every bit of that's got to change</text><text text-anchor=\"start\" x=\"243\" y=\"20\" font-size=\"12\">we heard this bloodcurdling scream and turned around and the guy was standing up stabbing this guy repeatedly</text><text text-anchor=\"start\" x=\"251\" y=\"24\" font-size=\"12\">we heard this bloodcurdling scream and turned around and the guy was standing up stabbing this guy repeatedly like 40 or 50 times</text><text text-anchor=\"start\" x=\"248\" y=\"110\" font-size=\"12\">was cutting his head off</text><text text-anchor=\"start\" x=\"243\" y=\"117\" font-size=\"12\">was cutting his head off and pretty much gutting him</text><text text-anchor=\"start\" x=\"325\" y=\"316\" font-size=\"12\">when he was attacking him he was calm</text><text text-anchor=\"start\" x=\"316\" y=\"320\" font-size=\"12\">when he was attacking him he was calm like he was at the beach</text><text text-anchor=\"start\" x=\"353\" y=\"84\" font-size=\"12\">tomb of the dragon emperor</text><text text-anchor=\"start\" x=\"343\" y=\"83\" font-size=\"12\">the mummy tomb of the dragon emperor</text><text text-anchor=\"start\" x=\"200\" y=\"262\" font-size=\"12\">when i arrived in estonia last week</text><text text-anchor=\"start\" x=\"199\" y=\"254\" font-size=\"12\">when i arrived in estonia last week-a former soviet republic that lies just south of finland-everyone had an opinion on barack obama's speech in berlin</text><text text-anchor=\"start\" x=\"30\" y=\"193\" font-size=\"12\">it makes you feel very resentful</text><text text-anchor=\"start\" x=\"34\" y=\"187\" font-size=\"12\">so much worse could happen but it makes you feel like you've been invaded someone is taking liberties on your property that you would never take with anyone else</text><text text-anchor=\"start\" x=\"423\" y=\"190\" font-size=\"12\">this is a grieving time</text><text text-anchor=\"start\" x=\"411\" y=\"189\" font-size=\"12\">this is a race about big challenges a slumping economy a broken foreign policy and an energy crisis for everyone but the oil companies</text><text text-anchor=\"start\" x=\"427\" y=\"199\" font-size=\"12\">the number of bodies has declined but i think this is a temporary calm because there are sleeper cells ready to resume their killings anytime</text><text text-anchor=\"start\" x=\"430\" y=\"182\" font-size=\"12\">this is a major discovery with enormous implications for the future prosperity of humankind</text><text text-anchor=\"start\" x=\"331\" y=\"155\" font-size=\"12\">tv interview by west seattle mom of europe murder suspect</text><text text-anchor=\"start\" x=\"327\" y=\"162\" font-size=\"12\">tv interview by west seattle mom of europe murder suspect indie pop indie rock reviews at three imaginary girls seattle's sparkly indie-pop press three imaginary girls a ferry survey passed out on random routes in july and august is supposed to help find ways to make the system work better but passenger complaints show that it will take more than asking questions to cure what ails the ferries a ferry survey passed out on random routes in july and august is supposed to help find ways to make the system work better but passenger complaints show that it will take more than asking questions to cure what ails the ferries democrats defend tribal compacts state democrats joined forces to defend gov chris gregoire's decision to allow a big expansion of tribal gambling while abandoning a provision that would have provided hundreds of millions of dollars in new revenue for the state mccain campaign drives straight talk express</text></svg>"
      ],
      "text/plain": [
       "<IPython.core.display.SVG object>"
      ]
     },
     "execution_count": 96,
     "metadata": {},
     "output_type": "execute_result"
    }
   ],
   "source": [
    "SVG(skn.visualization.svg_graph(g, names=names))"
   ]
  },
  {
   "cell_type": "markdown",
   "id": "24446a20-cb12-49b1-97b2-bbd7f0cf966a",
   "metadata": {
    "tags": []
   },
   "source": [
    "## Partitionner le graphe\n",
    "\n",
    "Nous avons maintenant un graphe d'inclusion des différentes phrases de notre jeu de données, mais pas encore de _clusters_ de phrases. On sait que notre graphe a comme propriété d'être dirigé et acyclique : il y a donc des \"puits\", des noeuds qui n'ont aucune arête sortante. Ces puits correspondent aux phrases dans lesquelles toute une famille de phrase est incluse.\n",
    "\n",
    "On s'attend donc à ce que nos clusters de phrases contiennent tous un seul puits. Ainsi, notre méthode sera la suivante :\n",
    "- Chaque puits (= noeud de degré sortant $0$) sera dans son propre cluster,\n",
    "- Pour chaque noeud $v$ relié à un puits $u$, $C(v) = C(u)$,\n",
    "- Pour chaque noeud $x$ non relié à un puits, on l'assigne aléatoirement à un cluster de son voisinage.\n",
    "\n",
    "Cela revient à assigner les noeuds aux clusters en effectuant un parcours en largeur sur le graphe transposé."
   ]
  },
  {
   "cell_type": "markdown",
   "id": "e782e841-549f-4615-af7a-3c6b8cf25a1b",
   "metadata": {},
   "source": [
    "Commençons par identifier les puits, en utilisant la fonction `get_degrees` de la librairie."
   ]
  },
  {
   "cell_type": "code",
   "execution_count": 97,
   "id": "1828b3c3-02f9-4527-9452-f3e56395305b",
   "metadata": {},
   "outputs": [
    {
     "data": {
      "text/plain": [
       "20"
      ]
     },
     "execution_count": 97,
     "metadata": {},
     "output_type": "execute_result"
    }
   ],
   "source": [
    "skn.utils.get_degrees(g)\n",
    "sinks = np.where(skn.utils.get_degrees(g) == 0)[0]\n",
    "len(sinks)"
   ]
  },
  {
   "cell_type": "markdown",
   "id": "ac8b1aeb-dbfd-4c09-973b-ad46288154c4",
   "metadata": {},
   "source": [
    "Nous avons les puits. Nous pouvons donc, pour chaque puits et ses voisins, lui assigner un entier correspondant à son cluster (chacun des $k$ puits aura un entier différent, entre $0$ et $k-1$). Ensuite, nous savons que les voisins d'un puits font partie du même cluster. Une fois que l'on a assigné les voisins des puits, ceux-ci ont un indentifiant de cluster, on peut donc considérer leurs voisins, etc. Cette méthode d'exploration du graphe s'appelle un **parcours en largeur** (*Breadth-first search*)."
   ]
  },
  {
   "cell_type": "code",
   "execution_count": 22,
   "id": "37fd365d-b8b9-4b97-bbd3-592a92987d41",
   "metadata": {},
   "outputs": [],
   "source": [
    "from collections import deque\n",
    "\n",
    "# implémentez ici le partitionnement du graphe de phrases"
   ]
  },
  {
   "cell_type": "markdown",
   "id": "a55c4395-010e-4ff8-a9da-46f484d30aa5",
   "metadata": {},
   "source": [
    "On peut visualiser le graphe à nouveau, en colorant les noeuds selon leur cluster respectif. "
   ]
  },
  {
   "cell_type": "code",
   "execution_count": 99,
   "id": "1d44ffa1-08cc-4c36-83b6-73ebb4ffa65c",
   "metadata": {},
   "outputs": [
    {
     "data": {
      "image/svg+xml": [
       "<svg xmlns=\"http://www.w3.org/2000/svg\" width=\"440\" height=\"340\">\n",
       "<defs><marker id=\"arrow-black\" markerWidth=\"10\" markerHeight=\"10\" refX=\"9\" refY=\"3\" orient=\"auto\">\n",
       "<path d=\"M0,0 L0,6 L9,3 z\" fill=\"black\"/></marker></defs>\n",
       "<path stroke-width=\"1\" stroke=\"black\" d=\"M 123 306 127 303\" marker-end=\"url(#arrow-black)\"/>\n",
       "<path stroke-width=\"1\" stroke=\"black\" d=\"M 304 189 300 186\" marker-end=\"url(#arrow-black)\"/>\n",
       "<path stroke-width=\"1\" stroke=\"black\" d=\"M 304 189 309 187\" marker-end=\"url(#arrow-black)\"/>\n",
       "<path stroke-width=\"1\" stroke=\"black\" d=\"M 308 89 307 87\" marker-end=\"url(#arrow-black)\"/>\n",
       "<path stroke-width=\"1\" stroke=\"black\" d=\"M 317 297 315 300\" marker-end=\"url(#arrow-black)\"/>\n",
       "<path stroke-width=\"1\" stroke=\"black\" d=\"M 243 29 244 26\" marker-end=\"url(#arrow-black)\"/>\n",
       "<path stroke-width=\"1\" stroke=\"black\" d=\"M 215 320 216 316\" marker-end=\"url(#arrow-black)\"/>\n",
       "<path stroke-width=\"1\" stroke=\"black\" d=\"M 25 145 27 148\" marker-end=\"url(#arrow-black)\"/>\n",
       "<path stroke-width=\"1\" stroke=\"black\" d=\"M 35 275 34 277\" marker-end=\"url(#arrow-black)\"/>\n",
       "<path stroke-width=\"1\" stroke=\"black\" d=\"M 206 217 204 214\" marker-end=\"url(#arrow-black)\"/>\n",
       "<path stroke-width=\"1\" stroke=\"black\" d=\"M 304 189 302 194\" marker-end=\"url(#arrow-black)\"/>\n",
       "<path stroke-width=\"1\" stroke=\"black\" d=\"M 146 66 140 65\" marker-end=\"url(#arrow-black)\"/>\n",
       "<path stroke-width=\"1\" stroke=\"black\" d=\"M 146 66 149 70\" marker-end=\"url(#arrow-black)\"/>\n",
       "<path stroke-width=\"1\" stroke=\"black\" d=\"M 351 43 353 46\" marker-end=\"url(#arrow-black)\"/>\n",
       "<path stroke-width=\"1\" stroke=\"black\" d=\"M 134 287 132 292\" marker-end=\"url(#arrow-black)\"/>\n",
       "<path stroke-width=\"1\" stroke=\"black\" d=\"M 415 219 417 221\" marker-end=\"url(#arrow-black)\"/>\n",
       "<path stroke-width=\"1\" stroke=\"black\" d=\"M 29 220 26 220\" marker-end=\"url(#arrow-black)\"/>\n",
       "<path stroke-width=\"1\" stroke=\"black\" d=\"M 102 146 104 149\" marker-end=\"url(#arrow-black)\"/>\n",
       "<path stroke-width=\"1\" stroke=\"black\" d=\"M 102 146 99 142\" marker-end=\"url(#arrow-black)\"/>\n",
       "<path stroke-width=\"1\" stroke=\"black\" d=\"M 132 309 131 304\" marker-end=\"url(#arrow-black)\"/>\n",
       "<path stroke-width=\"1\" stroke=\"black\" d=\"M 123 306 126 307\" marker-end=\"url(#arrow-black)\"/>\n",
       "<path stroke-width=\"1\" stroke=\"black\" d=\"M 146 66 149 62\" marker-end=\"url(#arrow-black)\"/>\n",
       "<path stroke-width=\"1\" stroke=\"black\" d=\"M 226 128 226 125\" marker-end=\"url(#arrow-black)\"/>\n",
       "<circle cx=\"123\" cy=\"306\" r=\"7.0\" style=\"fill:blue;stroke:black;stroke-width:1.0\"/>\n",
       "<circle cx=\"131\" cy=\"298\" r=\"7.0\" style=\"fill:blue;stroke:black;stroke-width:1.0\"/>\n",
       "<circle cx=\"132\" cy=\"309\" r=\"7.0\" style=\"fill:blue;stroke:black;stroke-width:1.0\"/>\n",
       "<circle cx=\"102\" cy=\"146\" r=\"7.0\" style=\"fill:red;stroke:black;stroke-width:1.0\"/>\n",
       "<circle cx=\"96\" cy=\"136\" r=\"7.0\" style=\"fill:red;stroke:black;stroke-width:1.0\"/>\n",
       "<circle cx=\"107\" cy=\"155\" r=\"7.0\" style=\"fill:green;stroke:black;stroke-width:1.0\"/>\n",
       "<circle cx=\"29\" cy=\"220\" r=\"7.0\" style=\"fill:orange;stroke:black;stroke-width:1.0\"/>\n",
       "<circle cx=\"20\" cy=\"220\" r=\"7.0\" style=\"fill:orange;stroke:black;stroke-width:1.0\"/>\n",
       "<circle cx=\"415\" cy=\"219\" r=\"7.0\" style=\"fill:purple;stroke:black;stroke-width:1.0\"/>\n",
       "<circle cx=\"420\" cy=\"227\" r=\"7.0\" style=\"fill:purple;stroke:black;stroke-width:1.0\"/>\n",
       "<circle cx=\"134\" cy=\"287\" r=\"7.0\" style=\"fill:blue;stroke:black;stroke-width:1.0\"/>\n",
       "<circle cx=\"351\" cy=\"43\" r=\"7.0\" style=\"fill:yellow;stroke:black;stroke-width:1.0\"/>\n",
       "<circle cx=\"356\" cy=\"51\" r=\"7.0\" style=\"fill:yellow;stroke:black;stroke-width:1.0\"/>\n",
       "<circle cx=\"146\" cy=\"66\" r=\"7.0\" style=\"fill:fuchsia;stroke:black;stroke-width:1.0\"/>\n",
       "<circle cx=\"151\" cy=\"76\" r=\"7.0\" style=\"fill:fuchsia;stroke:black;stroke-width:1.0\"/>\n",
       "<circle cx=\"153\" cy=\"57\" r=\"7.0\" style=\"fill:olive;stroke:black;stroke-width:1.0\"/>\n",
       "<circle cx=\"134\" cy=\"64\" r=\"7.0\" style=\"fill:aqua;stroke:black;stroke-width:1.0\"/>\n",
       "<circle cx=\"206\" cy=\"217\" r=\"7.0\" style=\"fill:brown;stroke:black;stroke-width:1.0\"/>\n",
       "<circle cx=\"200\" cy=\"209\" r=\"7.0\" style=\"fill:brown;stroke:black;stroke-width:1.0\"/>\n",
       "<circle cx=\"35\" cy=\"275\" r=\"7.0\" style=\"fill:blue;stroke:black;stroke-width:1.0\"/>\n",
       "<circle cx=\"33\" cy=\"283\" r=\"7.0\" style=\"fill:blue;stroke:black;stroke-width:1.0\"/>\n",
       "<circle cx=\"25\" cy=\"145\" r=\"7.0\" style=\"fill:red;stroke:black;stroke-width:1.0\"/>\n",
       "<circle cx=\"29\" cy=\"154\" r=\"7.0\" style=\"fill:red;stroke:black;stroke-width:1.0\"/>\n",
       "<circle cx=\"215\" cy=\"320\" r=\"7.0\" style=\"fill:green;stroke:black;stroke-width:1.0\"/>\n",
       "<circle cx=\"217\" cy=\"310\" r=\"7.0\" style=\"fill:green;stroke:black;stroke-width:1.0\"/>\n",
       "<circle cx=\"243\" cy=\"29\" r=\"7.0\" style=\"fill:orange;stroke:black;stroke-width:1.0\"/>\n",
       "<circle cx=\"244\" cy=\"20\" r=\"7.0\" style=\"fill:orange;stroke:black;stroke-width:1.0\"/>\n",
       "<circle cx=\"317\" cy=\"297\" r=\"7.0\" style=\"fill:purple;stroke:black;stroke-width:1.0\"/>\n",
       "<circle cx=\"313\" cy=\"306\" r=\"7.0\" style=\"fill:purple;stroke:black;stroke-width:1.0\"/>\n",
       "<circle cx=\"308\" cy=\"89\" r=\"7.0\" style=\"fill:yellow;stroke:black;stroke-width:1.0\"/>\n",
       "<circle cx=\"304\" cy=\"81\" r=\"7.0\" style=\"fill:yellow;stroke:black;stroke-width:1.0\"/>\n",
       "<circle cx=\"304\" cy=\"189\" r=\"7.0\" style=\"fill:fuchsia;stroke:black;stroke-width:1.0\"/>\n",
       "<circle cx=\"315\" cy=\"185\" r=\"7.0\" style=\"fill:fuchsia;stroke:black;stroke-width:1.0\"/>\n",
       "<circle cx=\"295\" cy=\"182\" r=\"7.0\" style=\"fill:olive;stroke:black;stroke-width:1.0\"/>\n",
       "<circle cx=\"301\" cy=\"200\" r=\"7.0\" style=\"fill:aqua;stroke:black;stroke-width:1.0\"/>\n",
       "<circle cx=\"226\" cy=\"128\" r=\"7.0\" style=\"fill:brown;stroke:black;stroke-width:1.0\"/>\n",
       "<circle cx=\"226\" cy=\"119\" r=\"7.0\" style=\"fill:brown;stroke:black;stroke-width:1.0\"/>\n",
       "</svg>"
      ],
      "text/plain": [
       "<IPython.core.display.SVG object>"
      ]
     },
     "execution_count": 99,
     "metadata": {},
     "output_type": "execute_result"
    }
   ],
   "source": [
    "SVG(skn.visualization.svg_graph(g, labels=clusters))"
   ]
  },
  {
   "cell_type": "markdown",
   "id": "3b924c3e-7e0a-42a9-a671-9bd13b88f7fd",
   "metadata": {},
   "source": [
    "## Identifier les _threads_ au cours du temps\n",
    "\n"
   ]
  },
  {
   "cell_type": "code",
   "execution_count": 102,
   "id": "fc46ec84-d723-467b-b8e3-5f48de339c89",
   "metadata": {},
   "outputs": [
    {
     "data": {
      "text/plain": [
       "[(14, 716, 716), (0, 534, 534), (3, 406, 406), (2, 318, 318), (15, 247, 247)]"
      ]
     },
     "execution_count": 102,
     "metadata": {},
     "output_type": "execute_result"
    }
   ],
   "source": [
    "from operator import itemgetter\n",
    "\n",
    "threads = {}\n",
    "for x in range(len(clusters)):\n",
    "    c_x = clusters[x]\n",
    "    \n",
    "    if c_x in threads:\n",
    "        threads[c_x][\"domains\"].extend(quotes[names[x]][\"domains\"])\n",
    "        threads[c_x][\"timestamps\"].extend(quotes[names[x]][\"timestamps\"])\n",
    "    else:\n",
    "        threads[c_x] = {\"domains\": quotes[names[x]][\"domains\"], \"timestamps\": quotes[names[x]][\"timestamps\"]}\n",
    "sorted([ (x, len(threads[x][\"domains\"]), len(threads[x][\"timestamps\"])) for x in threads ], key=itemgetter(1), reverse=True)[:5]"
   ]
  },
  {
   "cell_type": "markdown",
   "id": "f158f4e9-4b05-43a0-ba40-85d5e5956a59",
   "metadata": {},
   "source": [
    "Afficher les phrases associées au _thread_ le plus fréquent."
   ]
  },
  {
   "cell_type": "code",
   "execution_count": 103,
   "id": "42da496e-e702-4e8f-b82d-01cdfb128cca",
   "metadata": {},
   "outputs": [
    {
     "data": {
      "text/plain": [
       "['when i arrived in estonia last week',\n",
       " \"when i arrived in estonia last week-a former soviet republic that lies just south of finland-everyone had an opinion on barack obama's speech in berlin\"]"
      ]
     },
     "execution_count": 103,
     "metadata": {},
     "output_type": "execute_result"
    }
   ],
   "source": []
  },
  {
   "cell_type": "markdown",
   "id": "a53c8d3e-51c7-427b-a234-7d7a2bcdfe33",
   "metadata": {},
   "source": [
    "Afficher les noms de domaines les plus fréquemments associés à des phrases fréquentes."
   ]
  },
  {
   "cell_type": "code",
   "execution_count": null,
   "id": "84b1ec6a-d26a-4ee7-8c08-007a97d0095a",
   "metadata": {},
   "outputs": [],
   "source": []
  },
  {
   "cell_type": "markdown",
   "id": "04b60ef3-0229-407a-bacf-a52508a8ba20",
   "metadata": {},
   "source": [
    "## Complexité algorithmique\n",
    "\n",
    "Donner une estimation de la complexité algorithmique de la méthode. Si vous avez le temps, vous pouvez proposer une version parametrée par $L$ et $M$ !"
   ]
  },
  {
   "cell_type": "code",
   "execution_count": null,
   "id": "85979d45-92f9-4c8b-ba7a-ae98424b5e74",
   "metadata": {},
   "outputs": [],
   "source": []
  }
 ],
 "metadata": {
  "kernelspec": {
   "display_name": "Python 3 (ipykernel)",
   "language": "python",
   "name": "python3"
  },
  "language_info": {
   "codemirror_mode": {
    "name": "ipython",
    "version": 3
   },
   "file_extension": ".py",
   "mimetype": "text/x-python",
   "name": "python",
   "nbconvert_exporter": "python",
   "pygments_lexer": "ipython3",
   "version": "3.9.7"
  }
 },
 "nbformat": 4,
 "nbformat_minor": 5
}