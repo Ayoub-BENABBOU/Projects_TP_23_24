{
 "cells": [
  {
   "cell_type": "markdown",
   "metadata": {},
   "source": [
    "# **MDI230 - Projet Trottinettes**"
   ]
  },
  {
   "cell_type": "markdown",
   "metadata": {},
   "source": [
    "$Student : $\n",
    "\n",
    "$\\textcolor{orange}{\n",
    "    - \\Large Zakaria\\ Akil\\\\\n",
    "    - \\Large Ayoub\\ Benabbou\\\\\n",
    "}\n",
    "$"
   ]
  },
  {
   "cell_type": "markdown",
   "metadata": {},
   "source": [
    "---"
   ]
  },
  {
   "cell_type": "markdown",
   "metadata": {},
   "source": [
    "<div style=\"background: linear-gradient(to right, #ff0000, #0000ff); padding: 15px;\">\n",
    "    <h2 style=\"color: white;\"> <strong> Sommaire :</h2>\n",
    "</div>"
   ]
  },
  {
   "cell_type": "markdown",
   "metadata": {},
   "source": [
    "1. Versions des librairies\n",
    "2. Sujet \n",
    "3. Travail à effectuer\n"
   ]
  },
  {
   "cell_type": "markdown",
   "metadata": {},
   "source": [
    "<div style=\"background: linear-gradient(to right, #ff0000, #0000ff); padding: 15px;\">\n",
    "    <h2 style=\"color: white;\"><strong> Versions des modules utilisés :</h2>\n",
    "</div>"
   ]
  },
  {
   "cell_type": "markdown",
   "metadata": {},
   "source": [
    "- Pandas version:  2.0.3\n",
    "- Numpy version:  1.24.3\n",
    "- Seaborn version:  0.12.2\n",
    "- Matplotlib version:  3.7.2"
   ]
  },
  {
   "cell_type": "code",
   "execution_count": 72,
   "metadata": {},
   "outputs": [],
   "source": [
    "import numpy as np\n",
    "import matplotlib.pyplot as plt\n",
    "import pandas as pd\n",
    "import seaborn as sns\n",
    "from scipy.stats import norm\n",
    "\n",
    "try : \n",
    "    import networkx as nx\n",
    "except ImportError:\n",
    "    !pip install networkx matplotlib"
   ]
  },
  {
   "cell_type": "code",
   "execution_count": 92,
   "metadata": {},
   "outputs": [
    {
     "name": "stdout",
     "output_type": "stream",
     "text": [
      "Pandas version:  2.0.3\n",
      "Numpy version:  1.24.3\n",
      "Seaborn version:  0.12.2\n",
      "Matplotlib version:  3.7.2\n",
      "Networkx version:  3.1\n"
     ]
    }
   ],
   "source": [
    "#printing versions of libraries\n",
    "print(\"Pandas version: \", pd.__version__)\n",
    "print(\"Numpy version: \", np.__version__)\n",
    "print(\"Seaborn version: \", sns.__version__)\n",
    "print(\"Matplotlib version: \", plt.matplotlib.__version__)\n",
    "print(\"Networkx version: \", nx.__version__)"
   ]
  },
  {
   "cell_type": "markdown",
   "metadata": {},
   "source": [
    "<div style=\"background: linear-gradient(to right, #ff0000, #0000ff); padding: 15px;\">\n",
    "    <h2 style=\"color: white;\"><strong>Sujet :</h2>\n",
    "</div>"
   ]
  },
  {
   "cell_type": "markdown",
   "metadata": {},
   "source": [
    "- On considère un système de trottinettes électriques en libres services.\n",
    "Les trottinettes peuvent être empruntées et déposées n’importe où.\n",
    "Lorsqu’une trottinette a sa batterie vide, un prestataire vient la chercher\n",
    "pour la recharger. Lorsqu’une trottinette est en panne, un technicien\n",
    "vient la chercher pour la réparer.\n",
    "Il y a une flotte de **N** trottinettes. Le taux d’emprunt moyen est\n",
    "de λ trottinettes par minute. On note $t_{trajet}$ le temps moyen d’un\n",
    "trajet par un utilisateur. On considère que chaque trottinette a une\n",
    "probabilité $p_{panne}$ de tomber en panne et une probabilité $p_{vide}$ d’avoir\n",
    "sa batterie vide lorsqu’elle est utilisée. On suppose qu’une trottinette\n",
    "non utilisée ne peut pas tomber en panne ou avoir une batterie vide.\n",
    "On note enfin $t_{intervention}$ le temps moyen d’intervention d’un prestataire\n",
    "ou d’un technicien, $t_{recharge}$ le temps moyen de recharge de la batterie\n",
    "d’une trottinette, et $t_{réparation}$ le temps moyen de réparation pour une\n",
    "trottinette. On considère qu’il y a suffisamment de prestataires et de\n",
    "techniciens pour chercher, charger et réparer les trottinettes qui en ont besoin simultanément. On suppose que les trottinettes sont toujours\n",
    "réparables."
   ]
  },
  {
   "cell_type": "markdown",
   "metadata": {},
   "source": [
    "**Données :**\n",
    "\n",
    "- $N$ : Nombre total de trottinettes dans la flotte.\n",
    "\n",
    "- $\\lambda $ : Nombre moyen de trottinettes empruntées par minute.\n",
    "\n",
    "- $t_{trajet}$ : Durée moyenne d'un trajet effectué par un utilisateur.\n",
    "\n",
    "- $p_{panne}$ : Probabilité qu'une trottinette tombe en panne lorsqu'elle est utilisée.\n",
    "\n",
    "- $p_{vide}$ : Probabilité qu'une trottinette ait sa batterie vide lorsqu'elle est utilisée.\n",
    "\n",
    "- $t_{intervention}$ : Durée moyenne nécessaire à un prestataire ou technicien pour intervenir sur une trottinette en panne.\n",
    "\n",
    "- $t_{recharge}$ : Durée moyenne nécessaire pour recharger la batterie d'une trottinette.\n",
    "\n",
    "- $t_{réparation}$ : Durée moyenne nécessaire pour réparer une trottinette en panne."
   ]
  },
  {
   "cell_type": "markdown",
   "metadata": {},
   "source": [
    "**Application numériques :**\n",
    "\n",
    "- $N = 100$ \n",
    "\n",
    "- $\\lambda = 0.1\\ min^{-1}$\n",
    "\n",
    "- $t_{trajet} = 5\\ min$ \n",
    "\n",
    "- $p_{panne} = 0.01$ \n",
    "\n",
    "- $p_{vide} = 0.1$\n",
    "\n",
    "- $t_{intervention} = 30\\ min$\n",
    "\n",
    "- $t_{recharge} = 240\\ min$\n",
    "\n",
    "- $t_{réparation} = 720\\ min$ "
   ]
  },
  {
   "cell_type": "code",
   "execution_count": 15,
   "metadata": {},
   "outputs": [],
   "source": [
    "N = 100 # Nombre de trottinettes\n",
    "lambda_ = 0.1 # Taux moyen d'emprunt par minute (en min^-1)\n",
    "t_trajet = 5 # Temps moyen d'un trajet par utilisateur (en min)\n",
    "p_panne = 0.01 # Probabilité de panne\n",
    "p_vide = 0.1 # Probabilité d'avoir la batterie vide pendant son utilisation\n",
    "t_intervention = 30 # Temps moyen d'intervention d'un prestataire ou technicien (en min)\n",
    "t_recharge = 240 # Temps moyen de recharge de la batterie d'une trottinette (en min)\n",
    "t_reparation = 720 # Temps moyen de réparation pour une trottinette (en min)"
   ]
  },
  {
   "cell_type": "markdown",
   "metadata": {},
   "source": [
    "<div style=\"background: linear-gradient(to right, #ff0000, #0000ff); padding: 15px;\">\n",
    "    <h2 style=\"color: white;\"><strong>Travail à effectuer :</h2>\n",
    "</div>"
   ]
  },
  {
   "cell_type": "markdown",
   "metadata": {},
   "source": [
    "$\\textcolor{darkgray}{Question\\ 1:}$\n",
    "Proposez un processus de Markov permettant de modéliser ce système\n",
    "à partir d’un modèle vu en cours. Vous préciserez l’espace d’état et\n",
    "les différents paramètres du système, vous pouvez vous aider d’un\n",
    "diagramme de transitions.\n",
    "\n",
    "$\\textcolor{orange}{\\to Réponse\\ 1:}$\n",
    "\n",
    "On peut modéliser ce système avec un processus de markov a l'aide du modèle des colonies qu'on a vu en cours.\n",
    "\n",
    "L'espace des états $E = \\{(n_1, ..., n_4) / \\sum^4 _{j=1} n_j = N \\}$, chaque colonie $n_i$ va correspondre à un état possible des trottinettes. On note ainsi les quatres colonies : \n",
    "\n",
    "- $n_{diponible}$ : Le nombre de trottinettes disponible pour etres empreintées\n",
    "- $n_{en-utilisation}$ : Le nombre de trotinettes en usage\n",
    "- $n_{en-panne}$ : Le nombre de trottinettes en panne\n",
    "- $n_{dechargé}$ :  Le nombre de trottinettes déchargées\n",
    "\n",
    "Nous avons ainsi le diagramme de transitions suivant : "
   ]
  },
  {
   "cell_type": "code",
   "execution_count": 17,
   "metadata": {},
   "outputs": [
    {
     "data": {
      "image/png": "[encoded data removed]",
      "text/plain": [
       "<Figure size 1000x1000 with 1 Axes>"
      ]
     },
     "metadata": {},
     "output_type": "display_data"
    }
   ],
   "source": [
    "# Dessiner le graphe de transition\n",
    "G = nx.DiGraph()\n",
    "plt.figure(figsize=(10, 10))\n",
    "# Ajouter les nœuds\n",
    "G.add_edge('Disponible', 'En utilisation')\n",
    "G.add_edge('En utilisation', 'En panne')\n",
    "G.add_edge('En utilisation', 'Vide')\n",
    "G.add_edge('En panne', 'Disponible')\n",
    "G.add_edge('Vide', 'Disponible')\n",
    "G.add_edge('En utilisation', 'Disponible')\n",
    "\n",
    "# Définir la disposition des nœuds\n",
    "pos = nx.spring_layout(G)\n",
    "\n",
    "nx.draw_networkx_edges(G, pos, edgelist=G.edges(), connectionstyle=\"arc3,rad=0.3\", arrows=True, arrowstyle='-|>', node_size=6000)\n",
    "nx.draw_networkx_nodes(G, pos, node_size=6000, node_color='navy', edgecolors='blue', linewidths=2)\n",
    "\n",
    "# Ajouter les étiquettes des nœuds\n",
    "nx.draw_networkx_labels(G, pos, font_size=10, font_color='white', font_weight='bold')\n",
    "plt.title('Graphe de transition')\n",
    "plt.show()"
   ]
  },
  {
   "cell_type": "markdown",
   "metadata": {},
   "source": [
    "$\\textcolor{darkgray}{Question\\ 2:}$\n",
    "Calibrez votre modèle en explicitant vos paramètres en fonction des\n",
    "données de l’énoncé.\n",
    "\n",
    "$\\textcolor{orange}{\\to Réponse\\ 2:}$\n",
    "Calculons les 6 taux de transitions possibles : \n",
    "\n",
    "Pour simplifier les expressions on notera les colonies : $n_D$ (diponible) , $n_V$ (vide ou déchargée), $n_P$ (en panne), $n_U$ (en utilisation)$\n",
    "\n",
    "- $q (n, T_{D,U}(n)) = \\phi_D (n_D) . \\lambda_{D,U} = \\mathbb{1}_{\\{ n_D > 0\\}} \\lambda$\n",
    "\n",
    "- $q (n, T_{U,D}(n)) = \\phi_U (n_U) . \\lambda_{U,D} = n_U \\frac{1}{t_{trajet}}.(1-(p_{vide}+p_{panne}))$\n",
    "\n",
    "- $q (n, T_{U,V}(n)) = \\phi_U (n_U) . \\lambda_{U,V} = \\phi_U (n_U) . \\lambda_{U}.p_{vide}  = n_U \\frac{p_{vide}}{t_{trajet}}$\n",
    "\n",
    "- $q (n, T_{U,P}(n)) = \\phi_U (n_U) . \\lambda_{U,P} = \\phi_U (n_U) . \\lambda_{U}.p_{panne}  = n_U \\frac{p_{panne}}{t_{trajet}}$\n",
    "\n",
    "- $q (n, T_{V,D}(n)) = \\phi_V (n_V) . \\lambda_{V,D} = \\frac{n_V}{t_{recharge} + t_{intervention}}$\n",
    "\n",
    "- $q (n, T_{P,D}(n)) = \\phi_P (n_P) . \\lambda_{P,D} = \\frac{n_P }{t_{réparation} + t_{intervention}}$"
   ]
  },
  {
   "cell_type": "markdown",
   "metadata": {},
   "source": [
    "$\\textcolor{darkgray}{Question\\ 3:}$\n",
    "Donnez l’expression de la probabilité stationnaire théorique de votre\n",
    "modèle.\n",
    "\n",
    "$\\textcolor{orange}{\\to Réponse\\ 3:}$\n",
    "\n",
    "- D'après le théorème du cours : \n",
    "\n",
    "$\\forall n \\in E;$\n",
    "$$\\pi (n) = \\frac{1}{K}\\prod_{i=1}^{J=4} \\left[  \\frac{\\alpha^{n_i}_{i}}{\\prod_{k=1}^{n_i} \\phi_k (k)}\\right]$$\n",
    "On developpe : \n",
    "$$\\pi ((n_D, n_U, n_P, n_V )) = \\frac{1}{K}. \\frac{\\alpha^{n_D}_{D}}{1} .\\frac{\\alpha^{n_U}_{U}}{n_U!} .\\frac{\\alpha^{n_P}_{P}}{n_P!} .\\frac{\\alpha^{n_V}_{V}}{n_V!}$$\n",
    "On résoud les équations de trafic : \n",
    "$$ \n",
    "\\begin{cases}\n",
    "  \\alpha_{j} > 0, j \\in \\{D, U, P, V\\} \\\\\n",
    "  \\alpha_{j} \\sum_{k \\in \\{D, U, P, V\\}, \\\\ k \\neq j} \\lambda_{j,k} = \\sum_{l \\in \\{D, U, P, V\\}, \\\\ l \\neq j} \\alpha_{l} \\lambda_{l,j}\n",
    "\\end{cases}\n",
    "\n",
    "\\implies \n",
    "\\begin{cases}\n",
    "  \\frac{\\alpha_{P}}{t_{intervention} + t_{réparation}} = \\frac{\\alpha_{U}.p_{panne}}{t_{trajet}} \\\\\n",
    "\n",
    "\\\\\n",
    "  \\alpha_{D}.\\lambda = \\frac{\\alpha_{U}(1-p_{panne} - p_{vide})}{t_{trajet}} + \\frac{\\alpha_{P}}{t_{intervention} + t_{réparation}} + \\frac{\\alpha_{V}}{t_{intervention} + t_{recharge}}\\\\\n",
    "\n",
    "\\\\\n",
    "  \\frac{\\alpha_{V}}{t_{intervention} + t_{recharge}} = \\frac{\\alpha_{U}.p_{vide}}{t_{trajet}} \\\\\n",
    "  \\\\\n",
    "  \n",
    "  \\frac{\\alpha_{U}}{t_{trajet}} = \\alpha_{D} \\lambda \\\\\n",
    "\\end{cases}\n",
    "\n",
    "$$\n",
    "\n",
    "On obtient ainsi un système linéaire ayant un rang de 3, ce qui est inférieur à 4. Par conséquent, la matrice n'est pas inversible et cela se traduit par un degré de liberté (solution non unique). Pour résoudre cela, on fixe $\\alpha_{U} = C$, où C est une constante strictement positive quelconque. Ainsi, on obtient :\n",
    "$$\n",
    "\\begin{cases}\n",
    "  \\alpha_{D} = \\frac{C}{\\lambda t_{trajet}} \\\\\n",
    "  \\alpha_{U} = C\\\\\n",
    "\n",
    "  \\alpha_{P} = \\frac{C.p_{panne}.(t_{intervention} + t_{réparation})}{t_{trajet}} \\\\\n",
    "  \\alpha_{V} = \\frac{((1-C)p_{panne} + p_{vide})(t_{intervention} + t_{recharge})}{t_{trajet}} \\\\\n",
    "  \n",
    "  \n",
    "\\end{cases}\n",
    "$$"
   ]
  },
  {
   "cell_type": "code",
   "execution_count": 64,
   "metadata": {},
   "outputs": [
    {
     "name": "stdout",
     "output_type": "stream",
     "text": [
      "Coefficients alpha :\n",
      " --------------------------------\n",
      "alpha_D =  0.2\n",
      "alpha_U =  0.1\n",
      "alpha_P =  0.15\n",
      "alpha_V =  16.35\n"
     ]
    }
   ],
   "source": [
    "# Calcule des coefficients alphas. \n",
    "\n",
    "# Fixer la valeur de C \n",
    "C = 0.1\n",
    "\n",
    "alpha_D = C / (lambda_ * t_trajet)\n",
    "alpha_U = C\n",
    "alpha_P = (C*p_panne*(t_intervention + t_reparation)) / t_trajet\n",
    "alpha_V = (t_intervention + t_reparation)*(p_panne + p_vide -C*p_panne)/ t_trajet\n",
    "\n",
    "print(\"Coefficients alpha :\\n --------------------------------\")\n",
    "print(\"alpha_D = \", alpha_D)\n",
    "print(\"alpha_U = \", alpha_U)\n",
    "print(\"alpha_P = \", alpha_P)\n",
    "print(\"alpha_V = \", alpha_V)\n"
   ]
  },
  {
   "cell_type": "markdown",
   "metadata": {},
   "source": [
    "$\\textcolor{darkgray}{Question\\ 4:}$\n",
    "Simulez les trajectoires de votre modèle sur au moins 100h.\n",
    "\n",
    "$\\textcolor{orange}{\\to Réponse\\ 4:}$\n",
    "\n",
    "- Remarquons que pendant la simulation, à chaque itération, on effectue un tirage aléatoire de toutes les durées e, et on ne prend en considération que la durée minimale correspondant à l'événement qui se produira en premier. Les autres durées sont oubliées et non sauvegardées pour la détermination du prochain événement. Ceci est rendu possible grâce au fait qu'un processus de Markov a un effet sans mémoire. Un exemple simple illustrant cela est le paradoxe de l'autobus que nous avons vu en cours."
   ]
  },
  {
   "cell_type": "code",
   "execution_count": 19,
   "metadata": {},
   "outputs": [],
   "source": [
    "\n",
    "def probabilites_transitions(etat):\n",
    "    '''\n",
    "    Calcul des probabilités de transition entre les etats de la chaine de markov.\n",
    "\n",
    "    Parameters\n",
    "    ----------\n",
    "    etat : str\n",
    "        Etat courant = [ N_d, N_u, N_p, N_v]\n",
    "            N_d : int\n",
    "                Nombre de trottinettes disponibles\n",
    "            N_u : int\n",
    "                Nombre de trottinettes en utilisation   \n",
    "            N_p : int\n",
    "                Nombre de trottinettes en panne\n",
    "            N_v : int\n",
    "                Nombre de trottinettes déchargées\n",
    "    Returns\n",
    "    -------\n",
    "\n",
    "    transitions : dict\n",
    "        Dictionnaire des probabilités de transition entre les colonies\n",
    "    q_total : float\n",
    "        Taux total de transition\n",
    "    '''\n",
    "    N_d, N_u, N_p, N_v = etat[0], etat[1], etat[2], etat[3]\n",
    "\n",
    "    # calcul des taux de trasitions q : \n",
    "    q_du = (N_d>0)*lambda_\n",
    "    q_ud = N_u *(1- (p_panne + p_vide))/t_trajet \n",
    "    q_uv = N_u *p_vide/t_trajet \n",
    "    q_up = N_u *p_panne/t_trajet \n",
    "    q_vd = N_v/(t_recharge + t_intervention)\n",
    "    q_pd = N_p/(t_reparation + t_intervention)\n",
    "\n",
    "    # Rerourner les transitions avec leurs taux.\n",
    "    transitions = {'du': q_du,\n",
    "            'ud': q_ud, 'up': q_up, 'uv': q_uv,\n",
    "            'pd': q_pd,\n",
    "            'vd': q_vd}\n",
    "    \n",
    "    q_total = q_du + q_ud + q_uv + q_up + q_vd + q_pd\n",
    "    return transitions, q_total"
   ]
  },
  {
   "cell_type": "code",
   "execution_count": 20,
   "metadata": {},
   "outputs": [],
   "source": [
    "# Détermination de l'état suivant\n",
    "\n",
    "def etat_suivant(etat_courant, transitions, q_total):\n",
    "    '''\n",
    "    Détermination de l'état suivant du processus de markov.\n",
    "\n",
    "    Parameters\n",
    "    ----------\n",
    "    etat_courant : str\n",
    "        Etat courant = [ N_d, N_u, N_p, N_v]     \n",
    "    transitions : dict\n",
    "        Dictionnaire des probabilités de transition entre les colonies\n",
    "    q_total : float\n",
    "        Taux total de transition\n",
    "\n",
    "    Returns\n",
    "    -------\n",
    "    etat_suivant : str\n",
    "        Nouvel état\n",
    "    '''\n",
    "    nouvel_etat = etat_courant.copy()\n",
    "    # Tirage de la trasition suivant les taux calculés\n",
    "    prochaine_transition = np.random.choice(list(transitions.keys()), p=[transitions[key]/q_total for key in transitions.keys()]) # On n'oublie pas de normaliser les taux de transition.\n",
    "    # Mise à jour de l'état\n",
    "    match prochaine_transition:\n",
    "        case 'du':\n",
    "            nouvel_etat[0] -= 1 # N_d\n",
    "            nouvel_etat[1] += 1 # N_u\n",
    "        case 'ud':\n",
    "            nouvel_etat[1] -= 1 # N_u\n",
    "            nouvel_etat[0] += 1 # N_d\n",
    "        case 'up':\n",
    "            nouvel_etat[1] -= 1 # N_u\n",
    "            nouvel_etat[2] += 1 # N_p\n",
    "        case 'uv':\n",
    "            nouvel_etat[1] -= 1 # N_u\n",
    "            nouvel_etat[3] += 1 # N_v\n",
    "        case 'pd':\n",
    "            nouvel_etat[2] -= 1 # N_p\n",
    "            nouvel_etat[0] += 1 # N_d\n",
    "        case 'vd':\n",
    "            nouvel_etat[3] -= 1 # N_v\n",
    "            nouvel_etat[0] += 1 # N_d\n",
    "    return nouvel_etat"
   ]
  },
  {
   "cell_type": "markdown",
   "metadata": {},
   "source": [
    "- On utilise une fonction pour la simulation pour pouvoir l'appeler à plusieurs reprises avec des paramètres différent."
   ]
  },
  {
   "cell_type": "markdown",
   "metadata": {},
   "source": [
    "    Remarque : "
   ]
  },
  {
   "cell_type": "markdown",
   "metadata": {},
   "source": [
    "- Les epsilons qui séparent deux changements d'etats suivent un loi exponontielle qui resulte du minimume des lois exponentielles pour chaque transition possible. "
   ]
  },
  {
   "cell_type": "code",
   "execution_count": 34,
   "metadata": {},
   "outputs": [],
   "source": [
    "\n",
    "def simulation(duree_simulation, etat_initial):\n",
    "    '''\n",
    "    Simulation du modele des colonies.\n",
    "\n",
    "    Parameters\n",
    "    ----------\n",
    "    duree_simulation : int\n",
    "        Durée de la simulation en minutes\n",
    "    etat_initial : list\n",
    "        Etat initial : [ N_d, N_u, N_p, N_v]\n",
    "\n",
    "    Returns\n",
    "    -------\n",
    "    etats : list\n",
    "        Liste des états du processus de markov\n",
    "    '''\n",
    "    # Initialisation\n",
    "    etat = etat_initial\n",
    "    t = 0\n",
    "\n",
    "    # Créer un DataFrame pour enregistrer les états\n",
    "    df = pd.DataFrame(columns=['t', 'N_disponible', 'N_utilisation', 'N_panne', 'N_vide'])\n",
    "    df.loc[0] = [0, etat[0], etat[1], etat[2], etat[3]]\n",
    "\n",
    "    while t < duree_simulation:\n",
    "        transitions, q_total = probabilites_transitions(etat)\n",
    "        # Calcul de la duree qui nous separe de la prochaine transition --> on fait le minimum des lois exponentielles.\n",
    "        e = np.random.exponential(1/q_total) # cette méthode prend en parametre beta = 1/lambda et pas lambda.\n",
    "        t += e # Timr jumping\n",
    "        if t < duree_simulation:\n",
    "            etat = etat_suivant(etat, transitions, q_total)\n",
    "            df.loc[len(df)] = [t,etat[0], etat[1], etat[2], etat[3]]\n",
    "    return df"
   ]
  },
  {
   "cell_type": "code",
   "execution_count": 35,
   "metadata": {},
   "outputs": [],
   "source": [
    "#Simulation\n",
    "# Init des colonies\n",
    "etat_initial = [N, 0, 0, 0]\n",
    "duree_simulation = 6000 # <=> 100h\n",
    "evolution = simulation(duree_simulation=duree_simulation, etat_initial = etat_initial)\n"
   ]
  },
  {
   "cell_type": "code",
   "execution_count": 36,
   "metadata": {},
   "outputs": [
    {
     "data": {
      "text/html": [
       "<div>\n",
       "<style scoped>\n",
       "    .dataframe tbody tr th:only-of-type {\n",
       "        vertical-align: middle;\n",
       "    }\n",
       "\n",
       "    .dataframe tbody tr th {\n",
       "        vertical-align: top;\n",
       "    }\n",
       "\n",
       "    .dataframe thead th {\n",
       "        text-align: right;\n",
       "    }\n",
       "</style>\n",
       "<table border=\"1\" class=\"dataframe\">\n",
       "  <thead>\n",
       "    <tr style=\"text-align: right;\">\n",
       "      <th></th>\n",
       "      <th>t</th>\n",
       "      <th>N_disponible</th>\n",
       "      <th>N_utilisation</th>\n",
       "      <th>N_panne</th>\n",
       "      <th>N_vide</th>\n",
       "    </tr>\n",
       "  </thead>\n",
       "  <tbody>\n",
       "    <tr>\n",
       "      <th>0</th>\n",
       "      <td>0.000000</td>\n",
       "      <td>100.0</td>\n",
       "      <td>0.0</td>\n",
       "      <td>0.0</td>\n",
       "      <td>0.0</td>\n",
       "    </tr>\n",
       "    <tr>\n",
       "      <th>1</th>\n",
       "      <td>2.894715</td>\n",
       "      <td>99.0</td>\n",
       "      <td>1.0</td>\n",
       "      <td>0.0</td>\n",
       "      <td>0.0</td>\n",
       "    </tr>\n",
       "    <tr>\n",
       "      <th>2</th>\n",
       "      <td>5.934220</td>\n",
       "      <td>98.0</td>\n",
       "      <td>2.0</td>\n",
       "      <td>0.0</td>\n",
       "      <td>0.0</td>\n",
       "    </tr>\n",
       "    <tr>\n",
       "      <th>3</th>\n",
       "      <td>6.106672</td>\n",
       "      <td>99.0</td>\n",
       "      <td>1.0</td>\n",
       "      <td>0.0</td>\n",
       "      <td>0.0</td>\n",
       "    </tr>\n",
       "    <tr>\n",
       "      <th>4</th>\n",
       "      <td>11.627257</td>\n",
       "      <td>100.0</td>\n",
       "      <td>0.0</td>\n",
       "      <td>0.0</td>\n",
       "      <td>0.0</td>\n",
       "    </tr>\n",
       "  </tbody>\n",
       "</table>\n",
       "</div>"
      ],
      "text/plain": [
       "           t  N_disponible  N_utilisation  N_panne  N_vide\n",
       "0   0.000000         100.0            0.0      0.0     0.0\n",
       "1   2.894715          99.0            1.0      0.0     0.0\n",
       "2   5.934220          98.0            2.0      0.0     0.0\n",
       "3   6.106672          99.0            1.0      0.0     0.0\n",
       "4  11.627257         100.0            0.0      0.0     0.0"
      ]
     },
     "execution_count": 36,
     "metadata": {},
     "output_type": "execute_result"
    }
   ],
   "source": [
    "evolution.head()"
   ]
  },
  {
   "cell_type": "code",
   "execution_count": 38,
   "metadata": {},
   "outputs": [
    {
     "data": {
      "image/png": "[encoded data removed]",
      "text/plain": [
       "<Figure size 1000x500 with 1 Axes>"
      ]
     },
     "metadata": {},
     "output_type": "display_data"
    }
   ],
   "source": [
    "# Tracage de l'évolution des colonies\n",
    "plt.figure(figsize=(10, 5))\n",
    "plt.plot(evolution['t'], evolution['N_disponible'], label='Disponible', color='navy', linewidth=1)\n",
    "plt.plot(evolution['t'], evolution['N_utilisation'], label='Utilisation', color='blue', linewidth=1)\n",
    "plt.plot(evolution['t'], evolution['N_panne'], label='Panne', color='green', linewidth=1)\n",
    "plt.plot(evolution['t'], evolution['N_vide'], label='Vide', color='red', linewidth=1)\n",
    "plt.xlabel('Temps (min)')\n",
    "plt.ylabel('Nombre de trottinettes')\n",
    "plt.title('Evolution des colonies')\n",
    "plt.legend()\n",
    "plt.grid(alpha=0.3)\n",
    "plt.show()\n"
   ]
  },
  {
   "cell_type": "markdown",
   "metadata": {},
   "source": [
    "$\\textcolor{darkgray}{Question\\ 5:}$\n",
    "Validez votre simulation grâce aux résultats théoriques. Pour cela, on\n",
    "limitera le nombre de trottinettes à N = 2. Vous devrez proposer deux\n",
    "manières d’approcher la probabilité stationnaire par vos simulations.\n",
    "On rappelle qu’une simulation est valide si les résultats théoriques\n",
    "sont dans l’intervalle de confiance des résultats simulés.\n",
    "\n",
    "$\\textcolor{orange}{\\to Réponse\\ 5:}$"
   ]
  },
  {
   "cell_type": "markdown",
   "metadata": {},
   "source": [
    "- Pour $N=2$, nous avons $10$ états possibles et donc $10$ probabilités stationnaires $\\pi (n)$ à estimer."
   ]
  },
  {
   "cell_type": "code",
   "execution_count": 73,
   "metadata": {},
   "outputs": [],
   "source": [
    "ensembles_etats = [[2, 0, 0, 0], [1, 1, 0, 0], [1, 0, 1, 0], [1, 0, 0, 1], [0, 2, 0, 0], [0, 1, 1, 0], [0, 1, 0, 1], [0, 0, 2, 0], [0, 0, 1, 1], [0, 0, 0, 2]]"
   ]
  },
  {
   "cell_type": "markdown",
   "metadata": {},
   "source": [
    "- La premiere étape est de calculer les 10 probabilités stationnaires théoriques :"
   ]
  },
  {
   "cell_type": "code",
   "execution_count": 74,
   "metadata": {},
   "outputs": [],
   "source": [
    "# Calcul des probabilités stationnaires Théoriques\n",
    "def proba_stationnaires_theoriques(state):\n",
    "    '''\n",
    "    Calcul des probabilités stationnaires théoriques non normalisées.\n",
    "\n",
    "    Parameters\n",
    "    ----------\n",
    "    state : list\n",
    "        L'etat dont on veut calculer la probabilité stationnaire\n",
    "\n",
    "    Returns\n",
    "    -------\n",
    "    proba : float\n",
    "        Probabilité stationnaire non normalisée\n",
    "    '''\n",
    "    N_d, N_u, N_p, N_v = state[0], state[1], state[2], state[3]\n",
    "    # Calcul de la probabilité stationnaire\n",
    "    proba = (alpha_D**N_d)* (alpha_U**N_u) * (alpha_P**N_p) * (alpha_V**N_v)/(np.math.factorial(N_u)*np.math.factorial(N_p)*np.math.factorial(N_v))\n",
    "    return proba"
   ]
  },
  {
   "cell_type": "code",
   "execution_count": 75,
   "metadata": {},
   "outputs": [
    {
     "name": "stdout",
     "output_type": "stream",
     "text": [
      "Probabilités stationnaires théoriques pour N=2:\n",
      "  [2.83406547e-04 1.41703273e-04 2.12554910e-04 2.31684852e-02\n",
      " 3.54258183e-05 1.06277455e-04 1.15842426e-02 7.97080913e-05\n",
      " 1.73763639e-02 9.47011832e-01]\n",
      "--------------\n",
      "Vérification de la somme des probabilités stationnaires théoriques :  1.0\n"
     ]
    }
   ],
   "source": [
    "# Pour N = 2 \n",
    "PI_theoriques = [proba_stationnaires_theoriques(etat) for etat in ensembles_etats]\n",
    "PI_theoriques = PI_theoriques/np.sum(PI_theoriques)\n",
    "print(\"Probabilités stationnaires théoriques pour N=2:\\n \", PI_theoriques)\n",
    "print(\"--------------\")\n",
    "print(\"Vérification de la somme des probabilités stationnaires théoriques : \", np.sum(PI_theoriques))\n"
   ]
  },
  {
   "cell_type": "markdown",
   "metadata": {},
   "source": [
    "---\n",
    "- Le but étant d'estimer la probabilité stationnaire de chaque état, nous allons nous appuyer sur l'estimation de monte carlo qui va consister à effectuer un grand nombre de simulations et d'utiliser les proportions pour l'estimation. "
   ]
  },
  {
   "cell_type": "markdown",
   "metadata": {},
   "source": [
    "    - Méthode 1 : Estimation basée sur la durée des états"
   ]
  },
  {
   "cell_type": "markdown",
   "metadata": {},
   "source": [
    "- Ici nous allons faire une simulation de longue durée T et on va utiliser cet estimateur :\n",
    "$$\\boxed{\\hat{\\pi}(n) = \\frac{1}{T}\\sum \\tau_i (n)},\\ s.t : \\tau_i(n) \\text{ est la durée de la n-ième occurance de l'état n}$$"
   ]
  },
  {
   "cell_type": "code",
   "execution_count": 76,
   "metadata": {},
   "outputs": [],
   "source": [
    "# Estimation des probabilités stationnaires des etats possibles \n",
    "def pi_estimateur1(N, ensembles_etats, duree_simulation):\n",
    "    '''\n",
    "    Estimation des probabilités stationnaires des états possibles.\n",
    "\n",
    "    Parameters\n",
    "    ----------\n",
    "    evolution : DataFrame\n",
    "        Evolution des colonies\n",
    "    ensembles_etats : list\n",
    "        Liste des états possibles\n",
    "\n",
    "    Returns\n",
    "    -------\n",
    "    proba_stationnaire : dict\n",
    "        Dictionnaire des probabilités stationnaires\n",
    "    '''\n",
    "    # Initialisation\n",
    "    etat_initial = [N, 0, 0, 0]\n",
    "    evolution = simulation(duree_simulation=duree_simulation, etat_initial = etat_initial)\n",
    "    \n",
    "    proba_stationnaire = {}\n",
    "    for etat in ensembles_etats:\n",
    "        proba_stationnaire[tuple(etat)] = 0\n",
    "    # Calculer le temps total de la simulation\n",
    "    temps_total = evolution['t'].values[-1]\n",
    "    # Calculer le temps dans chaque etat\n",
    "    for etat in ensembles_etats:\n",
    "        N_d, N_u, N_p, N_v = etat[0], etat[1], etat[2], etat[3]\n",
    "        temps = 0\n",
    "        for i in range(len(evolution)-1):\n",
    "            if evolution['N_disponible'].values[i] == N_d and evolution['N_utilisation'].values[i] == N_u and evolution['N_panne'].values[i] == N_p and evolution['N_vide'].values[i] == N_v:\n",
    "                temps += evolution['t'].values[i+1] - evolution['t'].values[i]\n",
    "        proba_stationnaire[tuple(etat)] = temps/temps_total\n",
    "\n",
    "        \n",
    "\n",
    "    return proba_stationnaire"
   ]
  },
  {
   "cell_type": "code",
   "execution_count": 79,
   "metadata": {},
   "outputs": [
    {
     "name": "stdout",
     "output_type": "stream",
     "text": [
      "Somme des probabilités stationnaires estimées :  1.0\n",
      "Probabilité stationnaire estimée :\n"
     ]
    },
    {
     "data": {
      "text/plain": [
       "{(2, 0, 0, 0): 0.03289367630983068,\n",
       " (1, 1, 0, 0): 0.01746218031812579,\n",
       " (1, 0, 1, 0): 0.11488133026324458,\n",
       " (1, 0, 0, 1): 0.17943879562143664,\n",
       " (0, 2, 0, 0): 0.0058341803528772175,\n",
       " (0, 1, 1, 0): 0.04816455188236363,\n",
       " (0, 1, 0, 1): 0.09445301198534967,\n",
       " (0, 0, 2, 0): 0.0,\n",
       " (0, 0, 1, 1): 0.262407059107907,\n",
       " (0, 0, 0, 2): 0.2444652141588648}"
      ]
     },
     "execution_count": 79,
     "metadata": {},
     "output_type": "execute_result"
    }
   ],
   "source": [
    "# Estimation des probabilités stationnaires des etats possibles\n",
    "N = 2 \n",
    "duree_simulation = 6000\n",
    "proba_stationnaire = pi_estimateur1(N, ensembles_etats, duree_simulation)\n",
    "print(\"Somme des probabilités stationnaires estimées : \", sum(proba_stationnaire.values()))\n",
    "print(\"Probabilité stationnaire estimée :\")\n",
    "proba_stationnaire"
   ]
  },
  {
   "cell_type": "code",
   "execution_count": 84,
   "metadata": {},
   "outputs": [
    {
     "name": "stdout",
     "output_type": "stream",
     "text": [
      "Intervalle de confiance de l'estimateur 1 :\n",
      "Etat [2, 0, 0, 0] : [0.08881494265750162, 0.08891755202434362] ; Valeur réelle : 0.00028340654669122857\n",
      "Etat [1, 1, 0, 0] : [0.044038819888864926, 0.04409055298679849] ; Valeur réelle : 0.00014170327334561429\n",
      "Etat [1, 0, 1, 0] : [0.051280572124525164, 0.05139818294526062] ; Valeur réelle : 0.0002125549100184214\n",
      "Etat [1, 0, 0, 1] : [0.22955809838615768, 0.22974092187970205] ; Valeur réelle : 0.023168485192007936\n",
      "Etat [0, 2, 0, 0] : [0.010799424765048698, 0.010815061020222031] ; Valeur réelle : 3.542581833640357e-05\n",
      "Etat [0, 1, 1, 0] : [0.025943835135886238, 0.026006767231089946] ; Valeur réelle : 0.0001062774550092107\n",
      "Etat [0, 1, 0, 1] : [0.1141813067257795, 0.11426995474614718] ; Valeur réelle : 0.011584242596003968\n",
      "Etat [0, 0, 2, 0] : [0.012316053721237225, 0.01241946366688911] ; Valeur réelle : 7.970809125690803e-05\n",
      "Etat [0, 0, 1, 1] : [0.1430249178888836, 0.14333684103844824] ; Valeur réelle : 0.01737636389400595\n",
      "Etat [0, 0, 0, 2] : [0.279380465080205, 0.27966626608700906] ; Valeur réelle : 0.9470118322233244\n"
     ]
    }
   ],
   "source": [
    "# Intervalle de confiance de l'estimateur 1\n",
    "n_estimations = 100\n",
    "\n",
    "estimations_list = []\n",
    "for i in range(n_estimations):\n",
    "    PI_estimee = pi_estimateur1(N, ensembles_etats, duree_simulation)\n",
    "    estimations_list.append(list(PI_estimee.values()))\n",
    "#calcul de l'esperance empirique\n",
    "mean1 = np.zeros(10)\n",
    "for i in range(10):\n",
    "    mean1[i] = np.sum([estimations[i] for estimations in estimations_list])/n_estimations\n",
    "\n",
    "# calcul de la variance :\n",
    "var1 = np.zeros(10)\n",
    "for i in range(10):\n",
    "    for estimations in estimations_list:\n",
    "        var1[i] += (estimations[i] - mean1[i])**2\n",
    "var1 = var1/(n_estimations-1)\n",
    "#calcul de l'intervalle de confiance\n",
    "alpha = 0.99\n",
    "quantile = norm.ppf(1 - alpha/2)\n",
    "borne_inf = mean1 - quantile*np.sqrt(var1/n_estimations)\n",
    "borne_sup = mean1 + quantile*np.sqrt(var1/n_estimations)  \n",
    "\n",
    "print(\"Intervalle de confiance de l'estimateur 1 :\")\n",
    "for i in range(10):\n",
    "    print(f\"Etat {ensembles_etats[i]} : [{borne_inf[i]}, {borne_sup[i]}] ; Valeur réelle : {PI_theoriques[i]}\")\n",
    "    \n"
   ]
  },
  {
   "cell_type": "markdown",
   "metadata": {},
   "source": [
    "    - Méthode 2 : Estimation basée sur l'occurence des états"
   ]
  },
  {
   "cell_type": "markdown",
   "metadata": {},
   "source": [
    "- Ici nous allons faire une simulation de longue durée T, nous obtenons ainsi un tableau d'évolution de M lignes :\n",
    "$$\\boxed{\\hat{\\pi}(n_k) = \\frac{1}{M-s}\\sum_{i=s} ^M 1_{\\{n(i)=n_k\\}}},\\ s.t : n(i) \\text{ est l'état obtenu à l'instant d'indice i}$$\n",
    "- s : est l'instant à partir duquel on considère le régime permanent."
   ]
  },
  {
   "cell_type": "code",
   "execution_count": 85,
   "metadata": {},
   "outputs": [],
   "source": [
    "# Estimation des probabilités stationnaires des etats possibles \n",
    "def pi_estimateur2(N, ensembles_etats, duree_simulation, s):\n",
    "    '''\n",
    "    Estimation des probabilités stationnaires des états possibles.\n",
    "\n",
    "    Parameters\n",
    "    ----------\n",
    "    N : int\n",
    "        Nombre de trottinettes\n",
    "    ensembles_etats : list\n",
    "        Liste des états possibles\n",
    "    duree_simulation : int\n",
    "        Durée de la simulation en minutes\n",
    "    s : int\n",
    "        Début de la phase stationnaire\n",
    "\n",
    "    Returns\n",
    "    -------\n",
    "    proba_stationnaire : dict\n",
    "        Dictionnaire des probabilités stationnaires\n",
    "    '''\n",
    "    # Simulation\n",
    "    etat_initial = [N, 0, 0, 0]\n",
    "    evolution = simulation(duree_simulation=duree_simulation, etat_initial = etat_initial)\n",
    "    regime_stationnaire = evolution[evolution['t']>=s] # On ne garde que les valeurs à partir de s\n",
    "    regime_stationnaire = regime_stationnaire[['N_disponible', 'N_utilisation', 'N_panne', 'N_vide']].values\n",
    "    #Initialisation\n",
    "    proba_stationnaire = {}\n",
    "    for etat in ensembles_etats:\n",
    "        proba_stationnaire[tuple(etat)] = 0\n",
    "\n",
    "    # Calcul des probabilités stationnaires\n",
    "    K = len(regime_stationnaire)\n",
    "    for n in regime_stationnaire:\n",
    "        proba_stationnaire[tuple(n)] += 1/K\n",
    "        \n",
    "    return proba_stationnaire"
   ]
  },
  {
   "cell_type": "code",
   "execution_count": 88,
   "metadata": {},
   "outputs": [
    {
     "name": "stdout",
     "output_type": "stream",
     "text": [
      "Somme des probabilités stationnaires estimées :  1.0000000000000002\n",
      "Probabilité stationnaire estimée :\n",
      " (N_d, N_u, N_p, N_v) : P(n = (N_d, N_u, N_p, N_v))\n"
     ]
    },
    {
     "data": {
      "text/plain": [
       "{(2, 0, 0, 0): 0.11056401074306184,\n",
       " (1, 1, 0, 0): 0.16606982990152203,\n",
       " (1, 0, 1, 0): 0.06445837063563119,\n",
       " (1, 0, 0, 1): 0.25470008952551465,\n",
       " (0, 2, 0, 0): 0.056401074306177294,\n",
       " (0, 1, 1, 0): 0.06445837063563119,\n",
       " (0, 1, 0, 1): 0.25067144136078795,\n",
       " (0, 0, 2, 0): 0,\n",
       " (0, 0, 1, 1): 0.008952551477170997,\n",
       " (0, 0, 0, 2): 0.023724261414503147}"
      ]
     },
     "execution_count": 88,
     "metadata": {},
     "output_type": "execute_result"
    }
   ],
   "source": [
    "# Estimation des probabilités stationnaires des etats possibles\n",
    "N = 2 \n",
    "duree_simulation = 40000\n",
    "s = 15000\n",
    "proba_stationnaire = pi_estimateur2(N, ensembles_etats, duree_simulation, s)\n",
    "print(\"Somme des probabilités stationnaires estimées : \", sum(proba_stationnaire.values()))\n",
    "print(\"Probabilité stationnaire estimée :\\n (N_d, N_u, N_p, N_v) : P(n = (N_d, N_u, N_p, N_v))\")\n",
    "proba_stationnaire"
   ]
  },
  {
   "cell_type": "code",
   "execution_count": 89,
   "metadata": {},
   "outputs": [
    {
     "name": "stdout",
     "output_type": "stream",
     "text": [
      "Intervalle de confiance de l'estimateur 2 :\n",
      "Etat [2, 0, 0, 0] : [0.09478980436901528, 0.09483312922667188] ; Valeur réelle : 0.00028340654669122857\n",
      "Etat [1, 1, 0, 0] : [0.14020961492441272, 0.14027254486683058] ; Valeur réelle : 0.00014170327334561429\n",
      "Etat [1, 0, 1, 0] : [0.07896994492804922, 0.07904451298120328] ; Valeur réelle : 0.0002125549100184214\n",
      "Etat [1, 0, 0, 1] : [0.2648453317270957, 0.26492979610132705] ; Valeur réelle : 0.023168485192007936\n",
      "Etat [0, 2, 0, 0] : [0.04561367177650359, 0.045635910249218536] ; Valeur réelle : 3.542581833640357e-05\n",
      "Etat [0, 1, 1, 0] : [0.07844738489953644, 0.07852197865145673] ; Valeur réelle : 0.0001062774550092107\n",
      "Etat [0, 1, 0, 1] : [0.2598748254437569, 0.2599593183621213] ; Valeur réelle : 0.011584242596003968\n",
      "Etat [0, 0, 2, 0] : [0.0008134546242858956, 0.0008151398050062838] ; Valeur réelle : 7.970809125690803e-05\n",
      "Etat [0, 0, 1, 1] : [0.010295316440358367, 0.010304089337569714] ; Valeur réelle : 0.01737636389400595\n",
      "Etat [0, 0, 0, 2] : [0.025906201810718357, 0.025918029474862936] ; Valeur réelle : 0.9470118322233244\n"
     ]
    }
   ],
   "source": [
    "# Intervalle de confiance de l'estimateur 2\n",
    "n_estimations = 100\n",
    "\n",
    "estimations_list = []\n",
    "for i in range(n_estimations):\n",
    "    PI_estimee = pi_estimateur2(N, ensembles_etats, duree_simulation, s)\n",
    "    estimations_list.append(list(PI_estimee.values()))\n",
    "#calcul de l'esperance empirique\n",
    "mean2 = np.zeros(10)\n",
    "for i in range(10):\n",
    "    mean2[i] = np.sum([estimations[i] for estimations in estimations_list])/n_estimations\n",
    "\n",
    "# calcul de la variance :\n",
    "var2 = np.zeros(10)\n",
    "for i in range(10):\n",
    "    for estimations in estimations_list:\n",
    "        var2[i] += (estimations[i] - mean2[i])**2\n",
    "var2 = var2/(n_estimations-1)\n",
    "#calcul de l'intervalle de confiance\n",
    "alpha = 0.99\n",
    "quantile = norm.ppf(1 - alpha/2)\n",
    "borne_inf = mean2 - quantile*np.sqrt(var2/n_estimations)\n",
    "borne_sup = mean2 + quantile*np.sqrt(var2/n_estimations)  \n",
    "\n",
    "print(\"Intervalle de confiance de l'estimateur 2 :\")\n",
    "for i in range(10):\n",
    "    print(f\"Etat {ensembles_etats[i]} : [{borne_inf[i]}, {borne_sup[i]}] ; Valeur réelle : {PI_theoriques[i]}\")"
   ]
  },
  {
   "cell_type": "markdown",
   "metadata": {},
   "source": [
    "    Remarque : \n",
    "Nous constatons que les valeurs réelle de la probabilité stationnaire ne tombent pas forcément dans les intervalles de confiances des deux estimateurs conçus. Cela montre la difficulté d'avoir un estimateur simple et robuste pour la probabilité stationnaire."
   ]
  },
  {
   "cell_type": "markdown",
   "metadata": {},
   "source": [
    "$\\textcolor{darkgray}{Question\\ 6:}$\n",
    "Que faudrait-il changer au modèle si on considérait qu’il y a un\n",
    "nombre fini de prestataires $n_p$ et un nombre fini de techniciens $n_t$ ?\n",
    "\n",
    "$\\textcolor{orange}{\\to Réponse\\ 6:}$\n",
    "\n",
    "- Si on avait un nombre fini de prestataires $n_{prestataires}$ et un nombre fini de techniciens $n_{techniciens}$,  il serait nécessaire de modifier les taux de transition : $q_{vd}$ (de \"vide\" vers \"disponible\") et $q_{vd}$ (de \"en panne vers \"disponible\"). Plus précisément, il faudrait modifier les valeurs de $\\phi_V$ et $\\phi_P$, nous aurions ainsi ces nouvelles expressions : \n",
    "$$ \\phi_V' =min(n_V, n_{prestataires}) \\text{ et } \\phi'_P = min(n_P, n_{techniciens}) $$\n",
    "Donc :\n",
    "$$\n",
    "\n",
    " \\boxed{q (n, T_{V,D}(n)) = \\phi_V' (n_V) . \\lambda_{V,D} = \\frac{min(n_V, n_{prestataires})}{t_{recharge} + t_{intervention}}} \\\\\n",
    "\n",
    "\n",
    "\n",
    "\\boxed{q (n, T_{P,D}(n)) = \\phi_P' (n_P) . \\lambda_{P,D} = \\frac{min(n_P, n_{techniciens}) }{t_{réparation} + t_{intervention}}} ,\\\\ \n",
    "$$"
   ]
  },
  {
   "cell_type": "markdown",
   "metadata": {},
   "source": [
    "$\\textcolor{darkgray}{Question\\ 7:}$\n",
    "Que faudrait-il changer au modèle si on considérait qu’une trottinette\n",
    "pouvait devenir irréparable avec une probabilité $p_i$ ?\n",
    "\n",
    "$\\textcolor{orange}{\\to Réponse\\ 7:}$\n",
    " \n",
    "- Si l'on considérait qu'une trottinette pouvait devenir irréparable avec une probabilité $p_i$, il faudrait ajouter une colonie de puits à laquelle les trottinettes entrantes ne sortent jamais. Nous aurions alors 5 colonies au total. Il serait donc nécessaire d'ajouter un taux de transition à calculer $q_{PI}$, et la valeur de $q_{PD}$ ne resterait pas la même.\n",
    "\n",
    "$$\n",
    "\n",
    " \\boxed{q (n, T_{P,I}(n)) = \\phi_P (n_P) . \\lambda_{P,I} = \\frac{n_P .p_i}{t_{réparation} + t_{intervention}} }\\\\\n",
    "\n",
    "\n",
    "\n",
    "\\boxed{q (n, T_{P,D}(n)) = \\phi_P' (n_P) . \\lambda_{P,D} = \\frac{n_P .(1-p_i) }{t_{réparation} + t_{intervention}}} ,\\\\ \n",
    "$$\n"
   ]
  },
  {
   "cell_type": "markdown",
   "metadata": {},
   "source": [
    "    - Graphe de transitions dans ce cas"
   ]
  },
  {
   "cell_type": "code",
   "execution_count": 93,
   "metadata": {},
   "outputs": [
    {
     "data": {
      "image/png": "[encoded data removed]",
      "text/plain": [
       "<Figure size 1000x1000 with 1 Axes>"
      ]
     },
     "metadata": {},
     "output_type": "display_data"
    }
   ],
   "source": [
    "# Dessiner le graphe de transition\n",
    "G = nx.DiGraph()\n",
    "plt.figure(figsize=(10, 10))\n",
    "# Ajouter les nœuds\n",
    "G.add_edge('Disponible', 'En utilisation')\n",
    "G.add_edge('En utilisation', 'En panne')\n",
    "G.add_edge('En utilisation', 'Vide')\n",
    "G.add_edge('En panne', 'Disponible')\n",
    "G.add_edge('Vide', 'Disponible')\n",
    "G.add_edge('En utilisation', 'Disponible')\n",
    "G.add_edge('En panne', 'irréparable')\n",
    "\n",
    "# Définir la disposition des nœuds\n",
    "pos = nx.spring_layout(G)\n",
    "\n",
    "nx.draw_networkx_edges(G, pos, edgelist=G.edges(), connectionstyle=\"arc3,rad=0.3\", arrows=True, arrowstyle='-|>', node_size=6000)\n",
    "nx.draw_networkx_nodes(G, pos, node_size=6000, node_color='navy', edgecolors='blue', linewidths=2)\n",
    "\n",
    "# Ajouter les étiquettes des nœuds\n",
    "nx.draw_networkx_labels(G, pos, font_size=10, font_color='white', font_weight='bold')\n",
    "plt.title('Graphe de transition')\n",
    "plt.show()"
   ]
  },
  {
   "cell_type": "markdown",
   "metadata": {},
   "source": [
    "<div style=\"background: linear-gradient(to right, #ff0000, #0000ff); padding: 4px;\">\n",
    "    <h2 style=\"color: white;\"> <strong> Fin </h2>\n",
    "</div>"
   ]
  }
 ],
 "metadata": {
  "kernelspec": {
   "display_name": "Python 3",
   "language": "python",
   "name": "python3"
  },
  "language_info": {
   "codemirror_mode": {
    "name": "ipython",
    "version": 3
   },
   "file_extension": ".py",
   "mimetype": "text/x-python",
   "name": "python",
   "nbconvert_exporter": "python",
   "pygments_lexer": "ipython3",
   "version": "3.10.11"
  }
 },
 "nbformat": 4,
 "nbformat_minor": 2
}
